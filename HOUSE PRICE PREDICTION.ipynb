{
 "cells": [
  {
   "cell_type": "code",
   "execution_count": 48,
   "id": "1eb34718",
   "metadata": {},
   "outputs": [],
   "source": [
    "import pandas as pd\n",
    "import numpy as np\n",
    "import seaborn as sns\n",
    "import matplotlib.pyplot as plt\n",
    "import datetime"
   ]
  },
  {
   "cell_type": "code",
   "execution_count": 8,
   "id": "151e6d41",
   "metadata": {},
   "outputs": [],
   "source": [
    "df=pd.read_csv('DS assignment.csV')"
   ]
  },
  {
   "cell_type": "code",
   "execution_count": 9,
   "id": "b020d3ed",
   "metadata": {},
   "outputs": [
    {
     "data": {
      "text/html": [
       "<div>\n",
       "<style scoped>\n",
       "    .dataframe tbody tr th:only-of-type {\n",
       "        vertical-align: middle;\n",
       "    }\n",
       "\n",
       "    .dataframe tbody tr th {\n",
       "        vertical-align: top;\n",
       "    }\n",
       "\n",
       "    .dataframe thead th {\n",
       "        text-align: right;\n",
       "    }\n",
       "</style>\n",
       "<table border=\"1\" class=\"dataframe\">\n",
       "  <thead>\n",
       "    <tr style=\"text-align: right;\">\n",
       "      <th></th>\n",
       "      <th>Transaction date</th>\n",
       "      <th>House Age</th>\n",
       "      <th>Distance from nearest Metro station (km)</th>\n",
       "      <th>Number of convenience stores</th>\n",
       "      <th>latitude</th>\n",
       "      <th>longitude</th>\n",
       "      <th>Number of bedrooms</th>\n",
       "      <th>House size (sqft)</th>\n",
       "      <th>House price of unit area</th>\n",
       "    </tr>\n",
       "  </thead>\n",
       "  <tbody>\n",
       "    <tr>\n",
       "      <th>0</th>\n",
       "      <td>04-07-1905</td>\n",
       "      <td>32.0</td>\n",
       "      <td>84.87882</td>\n",
       "      <td>10</td>\n",
       "      <td>24.98298</td>\n",
       "      <td>121.54024</td>\n",
       "      <td>1</td>\n",
       "      <td>575</td>\n",
       "      <td>37.9</td>\n",
       "    </tr>\n",
       "    <tr>\n",
       "      <th>1</th>\n",
       "      <td>04-07-1905</td>\n",
       "      <td>19.5</td>\n",
       "      <td>306.59470</td>\n",
       "      <td>9</td>\n",
       "      <td>24.98034</td>\n",
       "      <td>121.53951</td>\n",
       "      <td>2</td>\n",
       "      <td>1240</td>\n",
       "      <td>42.2</td>\n",
       "    </tr>\n",
       "    <tr>\n",
       "      <th>2</th>\n",
       "      <td>05-07-1905</td>\n",
       "      <td>13.3</td>\n",
       "      <td>561.98450</td>\n",
       "      <td>5</td>\n",
       "      <td>24.98746</td>\n",
       "      <td>121.54391</td>\n",
       "      <td>3</td>\n",
       "      <td>1060</td>\n",
       "      <td>47.3</td>\n",
       "    </tr>\n",
       "    <tr>\n",
       "      <th>3</th>\n",
       "      <td>05-07-1905</td>\n",
       "      <td>13.3</td>\n",
       "      <td>561.98450</td>\n",
       "      <td>5</td>\n",
       "      <td>24.98746</td>\n",
       "      <td>121.54391</td>\n",
       "      <td>2</td>\n",
       "      <td>875</td>\n",
       "      <td>54.8</td>\n",
       "    </tr>\n",
       "    <tr>\n",
       "      <th>4</th>\n",
       "      <td>04-07-1905</td>\n",
       "      <td>5.0</td>\n",
       "      <td>390.56840</td>\n",
       "      <td>5</td>\n",
       "      <td>24.97937</td>\n",
       "      <td>121.54245</td>\n",
       "      <td>1</td>\n",
       "      <td>491</td>\n",
       "      <td>43.1</td>\n",
       "    </tr>\n",
       "  </tbody>\n",
       "</table>\n",
       "</div>"
      ],
      "text/plain": [
       "  Transaction date  House Age  Distance from nearest Metro station (km)  \\\n",
       "0       04-07-1905       32.0                                  84.87882   \n",
       "1       04-07-1905       19.5                                 306.59470   \n",
       "2       05-07-1905       13.3                                 561.98450   \n",
       "3       05-07-1905       13.3                                 561.98450   \n",
       "4       04-07-1905        5.0                                 390.56840   \n",
       "\n",
       "   Number of convenience stores  latitude  longitude  Number of bedrooms  \\\n",
       "0                            10  24.98298  121.54024                   1   \n",
       "1                             9  24.98034  121.53951                   2   \n",
       "2                             5  24.98746  121.54391                   3   \n",
       "3                             5  24.98746  121.54391                   2   \n",
       "4                             5  24.97937  121.54245                   1   \n",
       "\n",
       "   House size (sqft)  House price of unit area  \n",
       "0                575                      37.9  \n",
       "1               1240                      42.2  \n",
       "2               1060                      47.3  \n",
       "3                875                      54.8  \n",
       "4                491                      43.1  "
      ]
     },
     "execution_count": 9,
     "metadata": {},
     "output_type": "execute_result"
    }
   ],
   "source": [
    "df.head()"
   ]
  },
  {
   "cell_type": "code",
   "execution_count": 4,
   "id": "7a68490d",
   "metadata": {},
   "outputs": [
    {
     "data": {
      "text/plain": [
       "(414, 9)"
      ]
     },
     "execution_count": 4,
     "metadata": {},
     "output_type": "execute_result"
    }
   ],
   "source": [
    "df.shape"
   ]
  },
  {
   "cell_type": "code",
   "execution_count": 5,
   "id": "21dbf063",
   "metadata": {},
   "outputs": [
    {
     "data": {
      "text/plain": [
       "Transaction date                            0\n",
       "House Age                                   0\n",
       "Distance from nearest Metro station (km)    0\n",
       "Number of convenience stores                0\n",
       "latitude                                    0\n",
       "longitude                                   0\n",
       "Number of bedrooms                          0\n",
       "House size (sqft)                           0\n",
       "House price of unit area                    0\n",
       "dtype: int64"
      ]
     },
     "execution_count": 5,
     "metadata": {},
     "output_type": "execute_result"
    }
   ],
   "source": [
    "df.isna().sum()"
   ]
  },
  {
   "cell_type": "code",
   "execution_count": 12,
   "id": "274d0c8a",
   "metadata": {},
   "outputs": [],
   "source": [
    "df.columns=df.columns.str.replace(' ','_').str.lower()"
   ]
  },
  {
   "cell_type": "code",
   "execution_count": 15,
   "id": "f7efee28",
   "metadata": {},
   "outputs": [],
   "source": [
    "df['transaction_date']=pd.to_datetime(df['transaction_date'])"
   ]
  },
  {
   "cell_type": "code",
   "execution_count": 16,
   "id": "e09febdd",
   "metadata": {
    "scrolled": true
   },
   "outputs": [
    {
     "data": {
      "text/plain": [
       "array(['1905-04-07T00:00:00.000000000', '1905-05-07T00:00:00.000000000'],\n",
       "      dtype='datetime64[ns]')"
      ]
     },
     "execution_count": 16,
     "metadata": {},
     "output_type": "execute_result"
    }
   ],
   "source": [
    "df['transaction_date'].unique()"
   ]
  },
  {
   "cell_type": "code",
   "execution_count": 17,
   "id": "a48fcb27",
   "metadata": {},
   "outputs": [
    {
     "data": {
      "text/html": [
       "<div>\n",
       "<style scoped>\n",
       "    .dataframe tbody tr th:only-of-type {\n",
       "        vertical-align: middle;\n",
       "    }\n",
       "\n",
       "    .dataframe tbody tr th {\n",
       "        vertical-align: top;\n",
       "    }\n",
       "\n",
       "    .dataframe thead th {\n",
       "        text-align: right;\n",
       "    }\n",
       "</style>\n",
       "<table border=\"1\" class=\"dataframe\">\n",
       "  <thead>\n",
       "    <tr style=\"text-align: right;\">\n",
       "      <th></th>\n",
       "      <th>transaction_date</th>\n",
       "      <th>house_age</th>\n",
       "      <th>distance_from_nearest_metro_station_(km)</th>\n",
       "      <th>number_of_convenience_stores</th>\n",
       "      <th>latitude</th>\n",
       "      <th>longitude</th>\n",
       "      <th>number_of_bedrooms</th>\n",
       "      <th>house_size_(sqft)</th>\n",
       "      <th>house_price_of_unit_area</th>\n",
       "    </tr>\n",
       "  </thead>\n",
       "  <tbody>\n",
       "    <tr>\n",
       "      <th>0</th>\n",
       "      <td>1905-04-07</td>\n",
       "      <td>32.0</td>\n",
       "      <td>84.87882</td>\n",
       "      <td>10</td>\n",
       "      <td>24.98298</td>\n",
       "      <td>121.54024</td>\n",
       "      <td>1</td>\n",
       "      <td>575</td>\n",
       "      <td>37.9</td>\n",
       "    </tr>\n",
       "    <tr>\n",
       "      <th>1</th>\n",
       "      <td>1905-04-07</td>\n",
       "      <td>19.5</td>\n",
       "      <td>306.59470</td>\n",
       "      <td>9</td>\n",
       "      <td>24.98034</td>\n",
       "      <td>121.53951</td>\n",
       "      <td>2</td>\n",
       "      <td>1240</td>\n",
       "      <td>42.2</td>\n",
       "    </tr>\n",
       "    <tr>\n",
       "      <th>2</th>\n",
       "      <td>1905-05-07</td>\n",
       "      <td>13.3</td>\n",
       "      <td>561.98450</td>\n",
       "      <td>5</td>\n",
       "      <td>24.98746</td>\n",
       "      <td>121.54391</td>\n",
       "      <td>3</td>\n",
       "      <td>1060</td>\n",
       "      <td>47.3</td>\n",
       "    </tr>\n",
       "    <tr>\n",
       "      <th>3</th>\n",
       "      <td>1905-05-07</td>\n",
       "      <td>13.3</td>\n",
       "      <td>561.98450</td>\n",
       "      <td>5</td>\n",
       "      <td>24.98746</td>\n",
       "      <td>121.54391</td>\n",
       "      <td>2</td>\n",
       "      <td>875</td>\n",
       "      <td>54.8</td>\n",
       "    </tr>\n",
       "    <tr>\n",
       "      <th>4</th>\n",
       "      <td>1905-04-07</td>\n",
       "      <td>5.0</td>\n",
       "      <td>390.56840</td>\n",
       "      <td>5</td>\n",
       "      <td>24.97937</td>\n",
       "      <td>121.54245</td>\n",
       "      <td>1</td>\n",
       "      <td>491</td>\n",
       "      <td>43.1</td>\n",
       "    </tr>\n",
       "  </tbody>\n",
       "</table>\n",
       "</div>"
      ],
      "text/plain": [
       "  transaction_date  house_age  distance_from_nearest_metro_station_(km)  \\\n",
       "0       1905-04-07       32.0                                  84.87882   \n",
       "1       1905-04-07       19.5                                 306.59470   \n",
       "2       1905-05-07       13.3                                 561.98450   \n",
       "3       1905-05-07       13.3                                 561.98450   \n",
       "4       1905-04-07        5.0                                 390.56840   \n",
       "\n",
       "   number_of_convenience_stores  latitude  longitude  number_of_bedrooms  \\\n",
       "0                            10  24.98298  121.54024                   1   \n",
       "1                             9  24.98034  121.53951                   2   \n",
       "2                             5  24.98746  121.54391                   3   \n",
       "3                             5  24.98746  121.54391                   2   \n",
       "4                             5  24.97937  121.54245                   1   \n",
       "\n",
       "   house_size_(sqft)  house_price_of_unit_area  \n",
       "0                575                      37.9  \n",
       "1               1240                      42.2  \n",
       "2               1060                      47.3  \n",
       "3                875                      54.8  \n",
       "4                491                      43.1  "
      ]
     },
     "execution_count": 17,
     "metadata": {},
     "output_type": "execute_result"
    }
   ],
   "source": [
    "df.head()"
   ]
  },
  {
   "cell_type": "code",
   "execution_count": 19,
   "id": "37cdb47d",
   "metadata": {},
   "outputs": [
    {
     "data": {
      "text/plain": [
       "transaction_date\n",
       "1905-04-07    36.304762\n",
       "1905-05-07    38.713194\n",
       "Name: house_price_of_unit_area, dtype: float64"
      ]
     },
     "execution_count": 19,
     "metadata": {},
     "output_type": "execute_result"
    }
   ],
   "source": [
    "df.groupby(['transaction_date'])['house_price_of_unit_area'].mean()"
   ]
  },
  {
   "cell_type": "code",
   "execution_count": 35,
   "id": "1a504751",
   "metadata": {},
   "outputs": [],
   "source": [
    "df['transaction_date']=df['transaction_date'].dt.date"
   ]
  },
  {
   "cell_type": "code",
   "execution_count": 105,
   "id": "37aefb84",
   "metadata": {},
   "outputs": [],
   "source": [
    "def correlation(df):\n",
    "    return df.corr(method='spearman',numeric_only=True)['house_price_of_unit_area']"
   ]
  },
  {
   "cell_type": "code",
   "execution_count": 21,
   "id": "ad499fd8",
   "metadata": {},
   "outputs": [
    {
     "name": "stderr",
     "output_type": "stream",
     "text": [
      "C:\\Users\\sanja\\AppData\\Local\\Temp\\ipykernel_36420\\1197036511.py:2: FutureWarning: The default value of numeric_only in DataFrame.corr is deprecated. In a future version, it will default to False. Select only valid columns or specify the value of numeric_only to silence this warning.\n",
      "  return df.corr(method='spearman')['house_price_of_unit_area']\n"
     ]
    },
    {
     "data": {
      "text/plain": [
       "house_age                                  -0.281753\n",
       "distance_from_nearest_metro_station_(km)   -0.775948\n",
       "number_of_convenience_stores                0.617333\n",
       "latitude                                    0.578419\n",
       "longitude                                   0.437672\n",
       "number_of_bedrooms                          0.061932\n",
       "house_size_(sqft)                           0.050732\n",
       "house_price_of_unit_area                    1.000000\n",
       "Name: house_price_of_unit_area, dtype: float64"
      ]
     },
     "execution_count": 21,
     "metadata": {},
     "output_type": "execute_result"
    }
   ],
   "source": [
    "correlation(df)"
   ]
  },
  {
   "cell_type": "code",
   "execution_count": 47,
   "id": "b0d08868",
   "metadata": {},
   "outputs": [],
   "source": [
    "df['transaction_date']=df['transaction_date'].map({datetime.date(1905, 4, 7):0}).fillna(value=1)"
   ]
  },
  {
   "cell_type": "code",
   "execution_count": 49,
   "id": "1bb5f8b0",
   "metadata": {},
   "outputs": [
    {
     "data": {
      "text/plain": [
       "transaction_date                            0.067250\n",
       "house_age                                  -0.281753\n",
       "distance_from_nearest_metro_station_(km)   -0.775948\n",
       "number_of_convenience_stores                0.617333\n",
       "latitude                                    0.578419\n",
       "longitude                                   0.437672\n",
       "number_of_bedrooms                          0.061932\n",
       "house_size_(sqft)                           0.050732\n",
       "house_price_of_unit_area                    1.000000\n",
       "Name: house_price_of_unit_area, dtype: float64"
      ]
     },
     "execution_count": 49,
     "metadata": {},
     "output_type": "execute_result"
    }
   ],
   "source": [
    "correlation(df)"
   ]
  },
  {
   "cell_type": "code",
   "execution_count": 52,
   "id": "ceef9826",
   "metadata": {},
   "outputs": [],
   "source": [
    "def draw_the_histplot(df,col):\n",
    "    sns.histplot(df[col],bins=3)"
   ]
  },
  {
   "cell_type": "code",
   "execution_count": 53,
   "id": "38bf64a0",
   "metadata": {},
   "outputs": [
    {
     "data": {
      "image/png": "[encoded data removed]",
      "text/plain": [
       "<Figure size 640x480 with 1 Axes>"
      ]
     },
     "metadata": {},
     "output_type": "display_data"
    }
   ],
   "source": [
    "draw_the_histplot(df,'house_age')"
   ]
  },
  {
   "cell_type": "code",
   "execution_count": 57,
   "id": "1ea427b2",
   "metadata": {},
   "outputs": [],
   "source": [
    "def giv_range(df,col):\n",
    "    return plt.hist(df[col],bins=3)[1]"
   ]
  },
  {
   "cell_type": "code",
   "execution_count": 65,
   "id": "bd753bcb",
   "metadata": {},
   "outputs": [],
   "source": [
    "def make_bins(df,col):\n",
    "    ctpt=giv_range(df,col)\n",
    "    ctpt[0]=ctpt[0]-1\n",
    "    labels=['low','mid','high']\n",
    "    df[col+'_range']=pd.cut(df[col],ctpt,labels=labels)\n",
    "    return df"
   ]
  },
  {
   "cell_type": "code",
   "execution_count": 67,
   "id": "e51eb773",
   "metadata": {},
   "outputs": [
    {
     "data": {
      "image/png": "[encoded data removed]",
      "text/plain": [
       "<Figure size 640x480 with 1 Axes>"
      ]
     },
     "metadata": {},
     "output_type": "display_data"
    }
   ],
   "source": [
    "df=make_bins(df,'house_age')"
   ]
  },
  {
   "cell_type": "code",
   "execution_count": 70,
   "id": "cef9858e",
   "metadata": {},
   "outputs": [],
   "source": [
    "house_price=df.groupby(['house_age_range'])['house_price_of_unit_area'].mean().to_dict()"
   ]
  },
  {
   "cell_type": "code",
   "execution_count": 73,
   "id": "3d71f4f0",
   "metadata": {},
   "outputs": [],
   "source": [
    "def replace_func(df,p,col):\n",
    "    df[col]=df[col].replace(p).astype(float)"
   ]
  },
  {
   "cell_type": "code",
   "execution_count": 74,
   "id": "ec42d086",
   "metadata": {},
   "outputs": [],
   "source": [
    "replace_func(df,house_price,'house_age_range')"
   ]
  },
  {
   "cell_type": "code",
   "execution_count": 77,
   "id": "9061659e",
   "metadata": {},
   "outputs": [
    {
     "data": {
      "text/html": [
       "<div>\n",
       "<style scoped>\n",
       "    .dataframe tbody tr th:only-of-type {\n",
       "        vertical-align: middle;\n",
       "    }\n",
       "\n",
       "    .dataframe tbody tr th {\n",
       "        vertical-align: top;\n",
       "    }\n",
       "\n",
       "    .dataframe thead th {\n",
       "        text-align: right;\n",
       "    }\n",
       "</style>\n",
       "<table border=\"1\" class=\"dataframe\">\n",
       "  <thead>\n",
       "    <tr style=\"text-align: right;\">\n",
       "      <th></th>\n",
       "      <th>transaction_date</th>\n",
       "      <th>house_age</th>\n",
       "      <th>distance_from_nearest_metro_station_(km)</th>\n",
       "      <th>number_of_convenience_stores</th>\n",
       "      <th>latitude</th>\n",
       "      <th>longitude</th>\n",
       "      <th>number_of_bedrooms</th>\n",
       "      <th>house_size_(sqft)</th>\n",
       "      <th>house_price_of_unit_area</th>\n",
       "      <th>house_age_range</th>\n",
       "    </tr>\n",
       "  </thead>\n",
       "  <tbody>\n",
       "    <tr>\n",
       "      <th>0</th>\n",
       "      <td>0.0</td>\n",
       "      <td>32.0</td>\n",
       "      <td>84.87882</td>\n",
       "      <td>10</td>\n",
       "      <td>24.98298</td>\n",
       "      <td>121.54024</td>\n",
       "      <td>1</td>\n",
       "      <td>575</td>\n",
       "      <td>37.9</td>\n",
       "      <td>37.201000</td>\n",
       "    </tr>\n",
       "    <tr>\n",
       "      <th>1</th>\n",
       "      <td>0.0</td>\n",
       "      <td>19.5</td>\n",
       "      <td>306.59470</td>\n",
       "      <td>9</td>\n",
       "      <td>24.98034</td>\n",
       "      <td>121.53951</td>\n",
       "      <td>2</td>\n",
       "      <td>1240</td>\n",
       "      <td>42.2</td>\n",
       "      <td>32.376744</td>\n",
       "    </tr>\n",
       "    <tr>\n",
       "      <th>2</th>\n",
       "      <td>1.0</td>\n",
       "      <td>13.3</td>\n",
       "      <td>561.98450</td>\n",
       "      <td>5</td>\n",
       "      <td>24.98746</td>\n",
       "      <td>121.54391</td>\n",
       "      <td>3</td>\n",
       "      <td>1060</td>\n",
       "      <td>47.3</td>\n",
       "      <td>42.308649</td>\n",
       "    </tr>\n",
       "    <tr>\n",
       "      <th>3</th>\n",
       "      <td>1.0</td>\n",
       "      <td>13.3</td>\n",
       "      <td>561.98450</td>\n",
       "      <td>5</td>\n",
       "      <td>24.98746</td>\n",
       "      <td>121.54391</td>\n",
       "      <td>2</td>\n",
       "      <td>875</td>\n",
       "      <td>54.8</td>\n",
       "      <td>42.308649</td>\n",
       "    </tr>\n",
       "    <tr>\n",
       "      <th>4</th>\n",
       "      <td>0.0</td>\n",
       "      <td>5.0</td>\n",
       "      <td>390.56840</td>\n",
       "      <td>5</td>\n",
       "      <td>24.97937</td>\n",
       "      <td>121.54245</td>\n",
       "      <td>1</td>\n",
       "      <td>491</td>\n",
       "      <td>43.1</td>\n",
       "      <td>42.308649</td>\n",
       "    </tr>\n",
       "  </tbody>\n",
       "</table>\n",
       "</div>"
      ],
      "text/plain": [
       "   transaction_date  house_age  distance_from_nearest_metro_station_(km)  \\\n",
       "0               0.0       32.0                                  84.87882   \n",
       "1               0.0       19.5                                 306.59470   \n",
       "2               1.0       13.3                                 561.98450   \n",
       "3               1.0       13.3                                 561.98450   \n",
       "4               0.0        5.0                                 390.56840   \n",
       "\n",
       "   number_of_convenience_stores  latitude  longitude  number_of_bedrooms  \\\n",
       "0                            10  24.98298  121.54024                   1   \n",
       "1                             9  24.98034  121.53951                   2   \n",
       "2                             5  24.98746  121.54391                   3   \n",
       "3                             5  24.98746  121.54391                   2   \n",
       "4                             5  24.97937  121.54245                   1   \n",
       "\n",
       "   house_size_(sqft)  house_price_of_unit_area  house_age_range  \n",
       "0                575                      37.9        37.201000  \n",
       "1               1240                      42.2        32.376744  \n",
       "2               1060                      47.3        42.308649  \n",
       "3                875                      54.8        42.308649  \n",
       "4                491                      43.1        42.308649  "
      ]
     },
     "execution_count": 77,
     "metadata": {},
     "output_type": "execute_result"
    }
   ],
   "source": [
    "df.head()"
   ]
  },
  {
   "cell_type": "code",
   "execution_count": 79,
   "id": "6368cd17",
   "metadata": {},
   "outputs": [
    {
     "data": {
      "text/plain": [
       "<AxesSubplot: xlabel='distance_from_nearest_metro_station_(km)', ylabel='Count'>"
      ]
     },
     "execution_count": 79,
     "metadata": {},
     "output_type": "execute_result"
    },
    {
     "data": {
      "image/png": "[encoded data removed]",
      "text/plain": [
       "<Figure size 640x480 with 1 Axes>"
      ]
     },
     "metadata": {},
     "output_type": "display_data"
    }
   ],
   "source": [
    "sns.histplot(df['distance_from_nearest_metro_station_(km)'],bins=3)"
   ]
  },
  {
   "cell_type": "code",
   "execution_count": 82,
   "id": "b569d02e",
   "metadata": {},
   "outputs": [
    {
     "data": {
      "image/png": "[encoded data removed]",
      "text/plain": [
       "<Figure size 640x480 with 1 Axes>"
      ]
     },
     "metadata": {},
     "output_type": "display_data"
    }
   ],
   "source": [
    "df=make_bins(df,'distance_from_nearest_metro_station_(km)')\n",
    "replace_func(df,df.groupby(['distance_from_nearest_metro_station_(km)_range'])['house_price_of_unit_area'].mean().to_dict(),'distance_from_nearest_metro_station_(km)_range')"
   ]
  },
  {
   "cell_type": "code",
   "execution_count": 86,
   "id": "f8ec2770",
   "metadata": {},
   "outputs": [
    {
     "data": {
      "image/png": "[encoded data removed]",
      "text/plain": [
       "<Figure size 640x480 with 1 Axes>"
      ]
     },
     "metadata": {},
     "output_type": "display_data"
    }
   ],
   "source": [
    "df=make_bins(df,'number_of_convenience_stores')\n",
    "replace_func(df,df.groupby(['number_of_convenience_stores_range'])['house_price_of_unit_area'].mean().to_dict(),'number_of_convenience_stores_range')"
   ]
  },
  {
   "cell_type": "code",
   "execution_count": 87,
   "id": "05dd5432",
   "metadata": {},
   "outputs": [
    {
     "data": {
      "text/plain": [
       "transaction_date                                  0.067250\n",
       "house_age                                        -0.281753\n",
       "distance_from_nearest_metro_station_(km)         -0.775948\n",
       "number_of_convenience_stores                      0.617333\n",
       "latitude                                          0.578419\n",
       "longitude                                         0.437672\n",
       "number_of_bedrooms                                0.061932\n",
       "house_size_(sqft)                                 0.050732\n",
       "house_price_of_unit_area                          1.000000\n",
       "house_age_range                                   0.320057\n",
       "distance_from_nearest_metro_station_(km)_range    0.510708\n",
       "number_of_convenience_stores_range                0.610155\n",
       "Name: house_price_of_unit_area, dtype: float64"
      ]
     },
     "execution_count": 87,
     "metadata": {},
     "output_type": "execute_result"
    }
   ],
   "source": [
    "correlation(df)"
   ]
  },
  {
   "cell_type": "code",
   "execution_count": 94,
   "id": "07343ff2",
   "metadata": {},
   "outputs": [],
   "source": [
    "df['latitude']=df['latitude'].astype(str)\n",
    "df['longitude']=df['longitude'].astype(str)"
   ]
  },
  {
   "cell_type": "code",
   "execution_count": 97,
   "id": "b6d48ea6",
   "metadata": {},
   "outputs": [],
   "source": [
    "df['area_loc']=df['latitude']+' '+df['longitude']"
   ]
  },
  {
   "cell_type": "code",
   "execution_count": 100,
   "id": "b10d3295",
   "metadata": {},
   "outputs": [],
   "source": [
    "loc_range=df.groupby(['area_loc'])['house_price_of_unit_area'].mean().to_dict()"
   ]
  },
  {
   "cell_type": "code",
   "execution_count": 102,
   "id": "a5d53fde",
   "metadata": {},
   "outputs": [],
   "source": [
    "df['area_loc']=df['area_loc'].replace(loc_range)"
   ]
  },
  {
   "cell_type": "code",
   "execution_count": 106,
   "id": "bad94327",
   "metadata": {},
   "outputs": [
    {
     "data": {
      "text/plain": [
       "transaction_date                                  0.067250\n",
       "house_age                                        -0.281753\n",
       "distance_from_nearest_metro_station_(km)         -0.775948\n",
       "number_of_convenience_stores                      0.617333\n",
       "number_of_bedrooms                                0.061932\n",
       "house_size_(sqft)                                 0.050732\n",
       "house_price_of_unit_area                          1.000000\n",
       "house_age_range                                   0.320057\n",
       "distance_from_nearest_metro_station_(km)_range    0.510708\n",
       "number_of_convenience_stores_range                0.610155\n",
       "area_loc                                          0.978551\n",
       "Name: house_price_of_unit_area, dtype: float64"
      ]
     },
     "execution_count": 106,
     "metadata": {},
     "output_type": "execute_result"
    }
   ],
   "source": [
    "correlation(df)"
   ]
  },
  {
   "cell_type": "code",
   "execution_count": 107,
   "id": "b63ec1e7",
   "metadata": {},
   "outputs": [],
   "source": [
    "df.drop(columns=['latitude','longitude','transaction_date'],inplace=True)"
   ]
  },
  {
   "cell_type": "code",
   "execution_count": 108,
   "id": "f408b405",
   "metadata": {},
   "outputs": [
    {
     "data": {
      "text/plain": [
       "house_age                                        -0.281753\n",
       "distance_from_nearest_metro_station_(km)         -0.775948\n",
       "number_of_convenience_stores                      0.617333\n",
       "number_of_bedrooms                                0.061932\n",
       "house_size_(sqft)                                 0.050732\n",
       "house_price_of_unit_area                          1.000000\n",
       "house_age_range                                   0.320057\n",
       "distance_from_nearest_metro_station_(km)_range    0.510708\n",
       "number_of_convenience_stores_range                0.610155\n",
       "area_loc                                          0.978551\n",
       "Name: house_price_of_unit_area, dtype: float64"
      ]
     },
     "execution_count": 108,
     "metadata": {},
     "output_type": "execute_result"
    }
   ],
   "source": [
    "correlation(df)"
   ]
  },
  {
   "cell_type": "code",
   "execution_count": 109,
   "id": "f830b851",
   "metadata": {},
   "outputs": [
    {
     "data": {
      "text/html": [
       "<div>\n",
       "<style scoped>\n",
       "    .dataframe tbody tr th:only-of-type {\n",
       "        vertical-align: middle;\n",
       "    }\n",
       "\n",
       "    .dataframe tbody tr th {\n",
       "        vertical-align: top;\n",
       "    }\n",
       "\n",
       "    .dataframe thead th {\n",
       "        text-align: right;\n",
       "    }\n",
       "</style>\n",
       "<table border=\"1\" class=\"dataframe\">\n",
       "  <thead>\n",
       "    <tr style=\"text-align: right;\">\n",
       "      <th></th>\n",
       "      <th>house_age</th>\n",
       "      <th>distance_from_nearest_metro_station_(km)</th>\n",
       "      <th>number_of_convenience_stores</th>\n",
       "      <th>number_of_bedrooms</th>\n",
       "      <th>house_size_(sqft)</th>\n",
       "      <th>house_price_of_unit_area</th>\n",
       "      <th>house_age_range</th>\n",
       "      <th>distance_from_nearest_metro_station_(km)_range</th>\n",
       "      <th>number_of_convenience_stores_range</th>\n",
       "      <th>area_loc</th>\n",
       "    </tr>\n",
       "  </thead>\n",
       "  <tbody>\n",
       "    <tr>\n",
       "      <th>0</th>\n",
       "      <td>32.0</td>\n",
       "      <td>84.87882</td>\n",
       "      <td>10</td>\n",
       "      <td>1</td>\n",
       "      <td>575</td>\n",
       "      <td>37.9</td>\n",
       "      <td>37.201000</td>\n",
       "      <td>40.762147</td>\n",
       "      <td>46.643750</td>\n",
       "      <td>37.900000</td>\n",
       "    </tr>\n",
       "    <tr>\n",
       "      <th>1</th>\n",
       "      <td>19.5</td>\n",
       "      <td>306.59470</td>\n",
       "      <td>9</td>\n",
       "      <td>2</td>\n",
       "      <td>1240</td>\n",
       "      <td>42.2</td>\n",
       "      <td>32.376744</td>\n",
       "      <td>40.762147</td>\n",
       "      <td>46.643750</td>\n",
       "      <td>42.200000</td>\n",
       "    </tr>\n",
       "    <tr>\n",
       "      <th>2</th>\n",
       "      <td>13.3</td>\n",
       "      <td>561.98450</td>\n",
       "      <td>5</td>\n",
       "      <td>3</td>\n",
       "      <td>1060</td>\n",
       "      <td>47.3</td>\n",
       "      <td>42.308649</td>\n",
       "      <td>40.762147</td>\n",
       "      <td>43.672593</td>\n",
       "      <td>47.500000</td>\n",
       "    </tr>\n",
       "    <tr>\n",
       "      <th>3</th>\n",
       "      <td>13.3</td>\n",
       "      <td>561.98450</td>\n",
       "      <td>5</td>\n",
       "      <td>2</td>\n",
       "      <td>875</td>\n",
       "      <td>54.8</td>\n",
       "      <td>42.308649</td>\n",
       "      <td>40.762147</td>\n",
       "      <td>43.672593</td>\n",
       "      <td>47.500000</td>\n",
       "    </tr>\n",
       "    <tr>\n",
       "      <th>4</th>\n",
       "      <td>5.0</td>\n",
       "      <td>390.56840</td>\n",
       "      <td>5</td>\n",
       "      <td>1</td>\n",
       "      <td>491</td>\n",
       "      <td>43.1</td>\n",
       "      <td>42.308649</td>\n",
       "      <td>40.762147</td>\n",
       "      <td>43.672593</td>\n",
       "      <td>45.183333</td>\n",
       "    </tr>\n",
       "  </tbody>\n",
       "</table>\n",
       "</div>"
      ],
      "text/plain": [
       "   house_age  distance_from_nearest_metro_station_(km)  \\\n",
       "0       32.0                                  84.87882   \n",
       "1       19.5                                 306.59470   \n",
       "2       13.3                                 561.98450   \n",
       "3       13.3                                 561.98450   \n",
       "4        5.0                                 390.56840   \n",
       "\n",
       "   number_of_convenience_stores  number_of_bedrooms  house_size_(sqft)  \\\n",
       "0                            10                   1                575   \n",
       "1                             9                   2               1240   \n",
       "2                             5                   3               1060   \n",
       "3                             5                   2                875   \n",
       "4                             5                   1                491   \n",
       "\n",
       "   house_price_of_unit_area  house_age_range  \\\n",
       "0                      37.9        37.201000   \n",
       "1                      42.2        32.376744   \n",
       "2                      47.3        42.308649   \n",
       "3                      54.8        42.308649   \n",
       "4                      43.1        42.308649   \n",
       "\n",
       "   distance_from_nearest_metro_station_(km)_range  \\\n",
       "0                                       40.762147   \n",
       "1                                       40.762147   \n",
       "2                                       40.762147   \n",
       "3                                       40.762147   \n",
       "4                                       40.762147   \n",
       "\n",
       "   number_of_convenience_stores_range   area_loc  \n",
       "0                           46.643750  37.900000  \n",
       "1                           46.643750  42.200000  \n",
       "2                           43.672593  47.500000  \n",
       "3                           43.672593  47.500000  \n",
       "4                           43.672593  45.183333  "
      ]
     },
     "execution_count": 109,
     "metadata": {},
     "output_type": "execute_result"
    }
   ],
   "source": [
    "df.head()"
   ]
  },
  {
   "cell_type": "code",
   "execution_count": 111,
   "id": "041c8f84",
   "metadata": {},
   "outputs": [
    {
     "data": {
      "image/png": "[encoded data removed]",
      "text/plain": [
       "<Figure size 640x480 with 1 Axes>"
      ]
     },
     "metadata": {},
     "output_type": "display_data"
    }
   ],
   "source": [
    "df=make_bins(df,'house_size_(sqft)')\n",
    "replace_func(df,df.groupby(['house_size_(sqft)_range'])['house_price_of_unit_area'].mean().to_dict(),'house_size_(sqft)_range')"
   ]
  },
  {
   "cell_type": "code",
   "execution_count": 112,
   "id": "2412cc97",
   "metadata": {},
   "outputs": [
    {
     "data": {
      "text/plain": [
       "house_age                                        -0.281753\n",
       "distance_from_nearest_metro_station_(km)         -0.775948\n",
       "number_of_convenience_stores                      0.617333\n",
       "number_of_bedrooms                                0.061932\n",
       "house_size_(sqft)                                 0.050732\n",
       "house_price_of_unit_area                          1.000000\n",
       "house_age_range                                   0.320057\n",
       "distance_from_nearest_metro_station_(km)_range    0.510708\n",
       "number_of_convenience_stores_range                0.610155\n",
       "area_loc                                          0.978551\n",
       "house_size_(sqft)_range                           0.069101\n",
       "Name: house_price_of_unit_area, dtype: float64"
      ]
     },
     "execution_count": 112,
     "metadata": {},
     "output_type": "execute_result"
    }
   ],
   "source": [
    "correlation(df)"
   ]
  },
  {
   "cell_type": "code",
   "execution_count": 113,
   "id": "8cd02f65",
   "metadata": {},
   "outputs": [
    {
     "data": {
      "image/png": "[encoded data removed]",
      "text/plain": [
       "<Figure size 640x480 with 1 Axes>"
      ]
     },
     "metadata": {},
     "output_type": "display_data"
    }
   ],
   "source": [
    "df=make_bins(df,'number_of_bedrooms')\n",
    "replace_func(df,df.groupby(['number_of_bedrooms_range'])['house_price_of_unit_area'].mean().to_dict(),'number_of_bedrooms_range')"
   ]
  },
  {
   "cell_type": "code",
   "execution_count": 114,
   "id": "835ddcf0",
   "metadata": {},
   "outputs": [
    {
     "data": {
      "text/plain": [
       "house_age                                        -0.281753\n",
       "distance_from_nearest_metro_station_(km)         -0.775948\n",
       "number_of_convenience_stores                      0.617333\n",
       "number_of_bedrooms                                0.061932\n",
       "house_size_(sqft)                                 0.050732\n",
       "house_price_of_unit_area                          1.000000\n",
       "house_age_range                                   0.320057\n",
       "distance_from_nearest_metro_station_(km)_range    0.510708\n",
       "number_of_convenience_stores_range                0.610155\n",
       "area_loc                                          0.978551\n",
       "house_size_(sqft)_range                           0.069101\n",
       "number_of_bedrooms_range                          0.091685\n",
       "Name: house_price_of_unit_area, dtype: float64"
      ]
     },
     "execution_count": 114,
     "metadata": {},
     "output_type": "execute_result"
    }
   ],
   "source": [
    "correlation(df)"
   ]
  },
  {
   "cell_type": "code",
   "execution_count": 115,
   "id": "33fed683",
   "metadata": {},
   "outputs": [
    {
     "data": {
      "text/html": [
       "<div>\n",
       "<style scoped>\n",
       "    .dataframe tbody tr th:only-of-type {\n",
       "        vertical-align: middle;\n",
       "    }\n",
       "\n",
       "    .dataframe tbody tr th {\n",
       "        vertical-align: top;\n",
       "    }\n",
       "\n",
       "    .dataframe thead th {\n",
       "        text-align: right;\n",
       "    }\n",
       "</style>\n",
       "<table border=\"1\" class=\"dataframe\">\n",
       "  <thead>\n",
       "    <tr style=\"text-align: right;\">\n",
       "      <th></th>\n",
       "      <th>house_age</th>\n",
       "      <th>distance_from_nearest_metro_station_(km)</th>\n",
       "      <th>number_of_convenience_stores</th>\n",
       "      <th>number_of_bedrooms</th>\n",
       "      <th>house_size_(sqft)</th>\n",
       "      <th>house_price_of_unit_area</th>\n",
       "      <th>house_age_range</th>\n",
       "      <th>distance_from_nearest_metro_station_(km)_range</th>\n",
       "      <th>number_of_convenience_stores_range</th>\n",
       "      <th>area_loc</th>\n",
       "      <th>house_size_(sqft)_range</th>\n",
       "      <th>number_of_bedrooms_range</th>\n",
       "    </tr>\n",
       "  </thead>\n",
       "  <tbody>\n",
       "    <tr>\n",
       "      <th>0</th>\n",
       "      <td>32.0</td>\n",
       "      <td>84.87882</td>\n",
       "      <td>10</td>\n",
       "      <td>1</td>\n",
       "      <td>575</td>\n",
       "      <td>37.9</td>\n",
       "      <td>37.201000</td>\n",
       "      <td>40.762147</td>\n",
       "      <td>46.643750</td>\n",
       "      <td>37.900000</td>\n",
       "      <td>37.741844</td>\n",
       "      <td>37.741844</td>\n",
       "    </tr>\n",
       "    <tr>\n",
       "      <th>1</th>\n",
       "      <td>19.5</td>\n",
       "      <td>306.59470</td>\n",
       "      <td>9</td>\n",
       "      <td>2</td>\n",
       "      <td>1240</td>\n",
       "      <td>42.2</td>\n",
       "      <td>32.376744</td>\n",
       "      <td>40.762147</td>\n",
       "      <td>46.643750</td>\n",
       "      <td>42.200000</td>\n",
       "      <td>39.238562</td>\n",
       "      <td>36.782482</td>\n",
       "    </tr>\n",
       "    <tr>\n",
       "      <th>2</th>\n",
       "      <td>13.3</td>\n",
       "      <td>561.98450</td>\n",
       "      <td>5</td>\n",
       "      <td>3</td>\n",
       "      <td>1060</td>\n",
       "      <td>47.3</td>\n",
       "      <td>42.308649</td>\n",
       "      <td>40.762147</td>\n",
       "      <td>43.672593</td>\n",
       "      <td>47.500000</td>\n",
       "      <td>36.655833</td>\n",
       "      <td>39.433824</td>\n",
       "    </tr>\n",
       "    <tr>\n",
       "      <th>3</th>\n",
       "      <td>13.3</td>\n",
       "      <td>561.98450</td>\n",
       "      <td>5</td>\n",
       "      <td>2</td>\n",
       "      <td>875</td>\n",
       "      <td>54.8</td>\n",
       "      <td>42.308649</td>\n",
       "      <td>40.762147</td>\n",
       "      <td>43.672593</td>\n",
       "      <td>47.500000</td>\n",
       "      <td>36.655833</td>\n",
       "      <td>36.782482</td>\n",
       "    </tr>\n",
       "    <tr>\n",
       "      <th>4</th>\n",
       "      <td>5.0</td>\n",
       "      <td>390.56840</td>\n",
       "      <td>5</td>\n",
       "      <td>1</td>\n",
       "      <td>491</td>\n",
       "      <td>43.1</td>\n",
       "      <td>42.308649</td>\n",
       "      <td>40.762147</td>\n",
       "      <td>43.672593</td>\n",
       "      <td>45.183333</td>\n",
       "      <td>37.741844</td>\n",
       "      <td>37.741844</td>\n",
       "    </tr>\n",
       "  </tbody>\n",
       "</table>\n",
       "</div>"
      ],
      "text/plain": [
       "   house_age  distance_from_nearest_metro_station_(km)  \\\n",
       "0       32.0                                  84.87882   \n",
       "1       19.5                                 306.59470   \n",
       "2       13.3                                 561.98450   \n",
       "3       13.3                                 561.98450   \n",
       "4        5.0                                 390.56840   \n",
       "\n",
       "   number_of_convenience_stores  number_of_bedrooms  house_size_(sqft)  \\\n",
       "0                            10                   1                575   \n",
       "1                             9                   2               1240   \n",
       "2                             5                   3               1060   \n",
       "3                             5                   2                875   \n",
       "4                             5                   1                491   \n",
       "\n",
       "   house_price_of_unit_area  house_age_range  \\\n",
       "0                      37.9        37.201000   \n",
       "1                      42.2        32.376744   \n",
       "2                      47.3        42.308649   \n",
       "3                      54.8        42.308649   \n",
       "4                      43.1        42.308649   \n",
       "\n",
       "   distance_from_nearest_metro_station_(km)_range  \\\n",
       "0                                       40.762147   \n",
       "1                                       40.762147   \n",
       "2                                       40.762147   \n",
       "3                                       40.762147   \n",
       "4                                       40.762147   \n",
       "\n",
       "   number_of_convenience_stores_range   area_loc  house_size_(sqft)_range  \\\n",
       "0                           46.643750  37.900000                37.741844   \n",
       "1                           46.643750  42.200000                39.238562   \n",
       "2                           43.672593  47.500000                36.655833   \n",
       "3                           43.672593  47.500000                36.655833   \n",
       "4                           43.672593  45.183333                37.741844   \n",
       "\n",
       "   number_of_bedrooms_range  \n",
       "0                 37.741844  \n",
       "1                 36.782482  \n",
       "2                 39.433824  \n",
       "3                 36.782482  \n",
       "4                 37.741844  "
      ]
     },
     "execution_count": 115,
     "metadata": {},
     "output_type": "execute_result"
    }
   ],
   "source": [
    "df.head()"
   ]
  },
  {
   "cell_type": "code",
   "execution_count": 116,
   "id": "5b6af116",
   "metadata": {},
   "outputs": [
    {
     "name": "stdout",
     "output_type": "stream",
     "text": [
      "<class 'pandas.core.frame.DataFrame'>\n",
      "RangeIndex: 414 entries, 0 to 413\n",
      "Data columns (total 12 columns):\n",
      " #   Column                                          Non-Null Count  Dtype  \n",
      "---  ------                                          --------------  -----  \n",
      " 0   house_age                                       414 non-null    float64\n",
      " 1   distance_from_nearest_metro_station_(km)        414 non-null    float64\n",
      " 2   number_of_convenience_stores                    414 non-null    int64  \n",
      " 3   number_of_bedrooms                              414 non-null    int64  \n",
      " 4   house_size_(sqft)                               414 non-null    int64  \n",
      " 5   house_price_of_unit_area                        414 non-null    float64\n",
      " 6   house_age_range                                 414 non-null    float64\n",
      " 7   distance_from_nearest_metro_station_(km)_range  414 non-null    float64\n",
      " 8   number_of_convenience_stores_range              414 non-null    float64\n",
      " 9   area_loc                                        414 non-null    float64\n",
      " 10  house_size_(sqft)_range                         414 non-null    float64\n",
      " 11  number_of_bedrooms_range                        414 non-null    float64\n",
      "dtypes: float64(9), int64(3)\n",
      "memory usage: 38.9 KB\n"
     ]
    }
   ],
   "source": [
    "df.info()"
   ]
  },
  {
   "cell_type": "code",
   "execution_count": 138,
   "id": "5b843a4a",
   "metadata": {},
   "outputs": [],
   "source": [
    "X=df.drop(columns=['house_price_of_unit_area'])\n",
    "y=df['house_price_of_unit_area']"
   ]
  },
  {
   "cell_type": "code",
   "execution_count": 139,
   "id": "af20d5f0",
   "metadata": {},
   "outputs": [],
   "source": [
    "from sklearn.model_selection import train_test_split\n",
    "X_train,X_test,y_train,y_test=train_test_split(X,y,test_size=0.2,random_state=42)"
   ]
  },
  {
   "cell_type": "code",
   "execution_count": 140,
   "id": "b80d4ab0",
   "metadata": {},
   "outputs": [],
   "source": [
    "from sklearn.feature_selection import VarianceThreshold\n",
    "var_const=VarianceThreshold()\n",
    "var_quasi_const=VarianceThreshold(threshold=0.01)"
   ]
  },
  {
   "cell_type": "code",
   "execution_count": 141,
   "id": "f406621a",
   "metadata": {},
   "outputs": [
    {
     "name": "stdout",
     "output_type": "stream",
     "text": [
      "Before: (331, 11)\n",
      "After: (331, 11)\n"
     ]
    }
   ],
   "source": [
    "print('Before:',X_train.shape)\n",
    "var_const.fit(X_train,y_train)\n",
    "var_quasi_const.fit(X_train,y_train)\n",
    "rem_col=X_train.columns[~var_const.get_support()]\n",
    "X_train.drop(columns=rem_col,inplace=True)\n",
    "X_test.drop(columns=rem_col,inplace=True)\n",
    "rem_col=X_train.columns[~var_quasi_const.get_support()]\n",
    "X_train.drop(columns=rem_col,inplace=True)\n",
    "X_test.drop(columns=rem_col,inplace=True)\n",
    "print('After:',X_train.shape)"
   ]
  },
  {
   "cell_type": "code",
   "execution_count": 219,
   "id": "b5f606bd",
   "metadata": {},
   "outputs": [],
   "source": [
    "from sklearn.feature_selection import mutual_info_regression\n",
    "clss=[]\n",
    "for i in X_train.columns:\n",
    "    clss.append(mutual_info_regression(X_train[i].values.reshape(-1,1),y_train)[0])"
   ]
  },
  {
   "cell_type": "code",
   "execution_count": 224,
   "id": "2d89a0f0",
   "metadata": {},
   "outputs": [],
   "source": [
    "df1=pd.DataFrame(clss,index=X_train.columns,columns=['inf_gain'])\n",
    "rem_col=df1[df1['inf_gain']==0].index"
   ]
  },
  {
   "cell_type": "code",
   "execution_count": 226,
   "id": "9f5b6c68",
   "metadata": {},
   "outputs": [],
   "source": [
    "X_train.drop(columns=rem_col,inplace=True)\n",
    "X_test.drop(columns=rem_col,inplace=True)"
   ]
  },
  {
   "cell_type": "code",
   "execution_count": 257,
   "id": "6f2755bf",
   "metadata": {},
   "outputs": [
    {
     "data": {
      "text/html": [
       "<div>\n",
       "<style scoped>\n",
       "    .dataframe tbody tr th:only-of-type {\n",
       "        vertical-align: middle;\n",
       "    }\n",
       "\n",
       "    .dataframe tbody tr th {\n",
       "        vertical-align: top;\n",
       "    }\n",
       "\n",
       "    .dataframe thead th {\n",
       "        text-align: right;\n",
       "    }\n",
       "</style>\n",
       "<table border=\"1\" class=\"dataframe\">\n",
       "  <thead>\n",
       "    <tr style=\"text-align: right;\">\n",
       "      <th></th>\n",
       "      <th>house_age</th>\n",
       "      <th>distance_from_nearest_metro_station_(km)</th>\n",
       "      <th>number_of_convenience_stores</th>\n",
       "      <th>house_age_range</th>\n",
       "      <th>distance_from_nearest_metro_station_(km)_range</th>\n",
       "      <th>number_of_convenience_stores_range</th>\n",
       "      <th>area_loc</th>\n",
       "    </tr>\n",
       "  </thead>\n",
       "  <tbody>\n",
       "    <tr>\n",
       "      <th>192</th>\n",
       "      <td>43.8</td>\n",
       "      <td>57.58945</td>\n",
       "      <td>7</td>\n",
       "      <td>37.201000</td>\n",
       "      <td>40.762147</td>\n",
       "      <td>46.643750</td>\n",
       "      <td>42.70</td>\n",
       "    </tr>\n",
       "    <tr>\n",
       "      <th>234</th>\n",
       "      <td>8.0</td>\n",
       "      <td>2216.61200</td>\n",
       "      <td>4</td>\n",
       "      <td>42.308649</td>\n",
       "      <td>23.173913</td>\n",
       "      <td>43.672593</td>\n",
       "      <td>23.90</td>\n",
       "    </tr>\n",
       "    <tr>\n",
       "      <th>5</th>\n",
       "      <td>7.1</td>\n",
       "      <td>2175.03000</td>\n",
       "      <td>3</td>\n",
       "      <td>42.308649</td>\n",
       "      <td>40.762147</td>\n",
       "      <td>29.236066</td>\n",
       "      <td>29.90</td>\n",
       "    </tr>\n",
       "    <tr>\n",
       "      <th>45</th>\n",
       "      <td>36.6</td>\n",
       "      <td>488.81930</td>\n",
       "      <td>8</td>\n",
       "      <td>37.201000</td>\n",
       "      <td>40.762147</td>\n",
       "      <td>46.643750</td>\n",
       "      <td>38.20</td>\n",
       "    </tr>\n",
       "    <tr>\n",
       "      <th>245</th>\n",
       "      <td>7.5</td>\n",
       "      <td>639.61980</td>\n",
       "      <td>5</td>\n",
       "      <td>42.308649</td>\n",
       "      <td>40.762147</td>\n",
       "      <td>43.672593</td>\n",
       "      <td>40.80</td>\n",
       "    </tr>\n",
       "    <tr>\n",
       "      <th>...</th>\n",
       "      <td>...</td>\n",
       "      <td>...</td>\n",
       "      <td>...</td>\n",
       "      <td>...</td>\n",
       "      <td>...</td>\n",
       "      <td>...</td>\n",
       "      <td>...</td>\n",
       "    </tr>\n",
       "    <tr>\n",
       "      <th>71</th>\n",
       "      <td>35.5</td>\n",
       "      <td>640.73910</td>\n",
       "      <td>3</td>\n",
       "      <td>37.201000</td>\n",
       "      <td>40.762147</td>\n",
       "      <td>29.236066</td>\n",
       "      <td>51.15</td>\n",
       "    </tr>\n",
       "    <tr>\n",
       "      <th>106</th>\n",
       "      <td>17.2</td>\n",
       "      <td>189.51810</td>\n",
       "      <td>8</td>\n",
       "      <td>32.376744</td>\n",
       "      <td>40.762147</td>\n",
       "      <td>46.643750</td>\n",
       "      <td>47.10</td>\n",
       "    </tr>\n",
       "    <tr>\n",
       "      <th>270</th>\n",
       "      <td>10.8</td>\n",
       "      <td>252.58220</td>\n",
       "      <td>1</td>\n",
       "      <td>42.308649</td>\n",
       "      <td>40.762147</td>\n",
       "      <td>29.236066</td>\n",
       "      <td>117.50</td>\n",
       "    </tr>\n",
       "    <tr>\n",
       "      <th>348</th>\n",
       "      <td>4.6</td>\n",
       "      <td>259.66070</td>\n",
       "      <td>6</td>\n",
       "      <td>42.308649</td>\n",
       "      <td>40.762147</td>\n",
       "      <td>43.672593</td>\n",
       "      <td>58.45</td>\n",
       "    </tr>\n",
       "    <tr>\n",
       "      <th>102</th>\n",
       "      <td>1.1</td>\n",
       "      <td>193.58450</td>\n",
       "      <td>6</td>\n",
       "      <td>42.308649</td>\n",
       "      <td>40.762147</td>\n",
       "      <td>43.672593</td>\n",
       "      <td>49.56</td>\n",
       "    </tr>\n",
       "  </tbody>\n",
       "</table>\n",
       "<p>331 rows × 7 columns</p>\n",
       "</div>"
      ],
      "text/plain": [
       "     house_age  distance_from_nearest_metro_station_(km)  \\\n",
       "192       43.8                                  57.58945   \n",
       "234        8.0                                2216.61200   \n",
       "5          7.1                                2175.03000   \n",
       "45        36.6                                 488.81930   \n",
       "245        7.5                                 639.61980   \n",
       "..         ...                                       ...   \n",
       "71        35.5                                 640.73910   \n",
       "106       17.2                                 189.51810   \n",
       "270       10.8                                 252.58220   \n",
       "348        4.6                                 259.66070   \n",
       "102        1.1                                 193.58450   \n",
       "\n",
       "     number_of_convenience_stores  house_age_range  \\\n",
       "192                             7        37.201000   \n",
       "234                             4        42.308649   \n",
       "5                               3        42.308649   \n",
       "45                              8        37.201000   \n",
       "245                             5        42.308649   \n",
       "..                            ...              ...   \n",
       "71                              3        37.201000   \n",
       "106                             8        32.376744   \n",
       "270                             1        42.308649   \n",
       "348                             6        42.308649   \n",
       "102                             6        42.308649   \n",
       "\n",
       "     distance_from_nearest_metro_station_(km)_range  \\\n",
       "192                                       40.762147   \n",
       "234                                       23.173913   \n",
       "5                                         40.762147   \n",
       "45                                        40.762147   \n",
       "245                                       40.762147   \n",
       "..                                              ...   \n",
       "71                                        40.762147   \n",
       "106                                       40.762147   \n",
       "270                                       40.762147   \n",
       "348                                       40.762147   \n",
       "102                                       40.762147   \n",
       "\n",
       "     number_of_convenience_stores_range  area_loc  \n",
       "192                           46.643750     42.70  \n",
       "234                           43.672593     23.90  \n",
       "5                             29.236066     29.90  \n",
       "45                            46.643750     38.20  \n",
       "245                           43.672593     40.80  \n",
       "..                                  ...       ...  \n",
       "71                            29.236066     51.15  \n",
       "106                           46.643750     47.10  \n",
       "270                           29.236066    117.50  \n",
       "348                           43.672593     58.45  \n",
       "102                           43.672593     49.56  \n",
       "\n",
       "[331 rows x 7 columns]"
      ]
     },
     "execution_count": 257,
     "metadata": {},
     "output_type": "execute_result"
    }
   ],
   "source": [
    "X_train"
   ]
  },
  {
   "cell_type": "code",
   "execution_count": 258,
   "id": "19fb9634",
   "metadata": {},
   "outputs": [],
   "source": [
    "X_train.drop(columns='number_of_convenience_stores',inplace=True)\n",
    "X_test.drop(columns='number_of_convenience_stores',inplace=True)"
   ]
  },
  {
   "cell_type": "markdown",
   "id": "90890d8b",
   "metadata": {},
   "source": [
    "# Model building "
   ]
  },
  {
   "cell_type": "markdown",
   "id": "1c094197",
   "metadata": {},
   "source": [
    "# Linear Regression\n",
    "\n",
    "For linear regression the assumptions are that the data should be normally distributed and there are no outliers and no multi collinearity should exist between the features"
   ]
  },
  {
   "cell_type": "markdown",
   "id": "663db682",
   "metadata": {},
   "source": [
    "### So first I will check the multi collinearity and remove the highly correlated features and then I will check for the outliers by using the boxplot and remove the outliers by the iqr method and than transform it if it is not normally distributed"
   ]
  },
  {
   "cell_type": "code",
   "execution_count": 259,
   "id": "ee9e1b5b",
   "metadata": {},
   "outputs": [],
   "source": [
    "X_train_lr=X_train.copy()\n",
    "X_test_lr=X_test.copy()\n",
    "# .copy() function helps  for deep copy which means that the changes made in X_train_lr will not affect on X_train"
   ]
  },
  {
   "cell_type": "code",
   "execution_count": 260,
   "id": "b551807e",
   "metadata": {},
   "outputs": [
    {
     "data": {
      "text/plain": [
       "((331, 6), (83, 6))"
      ]
     },
     "execution_count": 260,
     "metadata": {},
     "output_type": "execute_result"
    }
   ],
   "source": [
    "X_train_lr.shape,X_test_lr.shape"
   ]
  },
  {
   "cell_type": "code",
   "execution_count": 261,
   "id": "65272b63",
   "metadata": {},
   "outputs": [],
   "source": [
    "def correlation(df,thres):\n",
    "    corr=df.corr(method='spearman')\n",
    "    rem_col=set()\n",
    "    for i in range(len(corr.columns)):\n",
    "        for j in range(i):\n",
    "            if(abs(corr.iloc[i,j])>thres):\n",
    "                rem_col.add(corr.columns[i])\n",
    "    return rem_col"
   ]
  },
  {
   "cell_type": "code",
   "execution_count": 262,
   "id": "fc6884f6",
   "metadata": {},
   "outputs": [],
   "source": [
    "rem_col=correlation(X_train_lr,0.85)"
   ]
  },
  {
   "cell_type": "code",
   "execution_count": 263,
   "id": "af362b63",
   "metadata": {},
   "outputs": [],
   "source": [
    "X_train_lr.drop(columns=rem_col,inplace=True)\n",
    "X_test_lr.drop(columns=rem_col,inplace=True)"
   ]
  },
  {
   "cell_type": "markdown",
   "id": "ddd7cc1b",
   "metadata": {},
   "source": [
    "#### Now for removing the multi collinear features I am using the correlation matrix for this.In this all the features which have a covariance of more than 0.85 those features are removed\n",
    "#### There is also a VIF method to remove the multi collinear features.In this method first the vif is calculated for each of the independent feature and if the vif value is greater than 5 we remove those features"
   ]
  },
  {
   "cell_type": "markdown",
   "id": "b3b9c801",
   "metadata": {},
   "source": [
    "# Check for outliers\n",
    "\n",
    "What are outliers?\n",
    "Outliers are those data points which do not follow the normal trend as shown by the other points.\n",
    "\n",
    "Methods to detect outliers in a data:\n",
    "\n",
    "1. BOX PLOT METHOD\n",
    "2. KDE PLOT (IF KDE PLOT IS NORMALLY DISTRIBUTED THEN THE FEATURE IS OUTLIER FREE BUT IF THERE IS SKEWNESS WEB HAVE OUTLIERS THERE\n",
    "3. BY DRAWING THE SCATTER PLOT\n",
    "\n",
    "Methods to handle them:\n",
    "\n",
    "1. IQR METHOD -\n",
    "    In this method we find the 25 th percentile ,75th percentile and than the iqr(iqr=q3-q1) and if the values are greater than     q3+1.5*iqr and if the values are less than q1-1.5*iqr we call these outliers and replace them with the up_limit and lower       limit\n",
    "2. Z score method-\n",
    "    In this method we cal the z score of each Xi which converts the data into Standard normal distribution and all the values       which are greater than 3 or less than -3 we replace those with 3 or -3\n",
    "3. By binning\n",
    "4. By treating the outliers like missing values and using a ml model to predict the values\n",
    "5. By replacing those with max value in the data\n",
    "  "
   ]
  },
  {
   "cell_type": "code",
   "execution_count": 264,
   "id": "5a5c0941",
   "metadata": {},
   "outputs": [
    {
     "data": {
      "text/html": [
       "<div>\n",
       "<style scoped>\n",
       "    .dataframe tbody tr th:only-of-type {\n",
       "        vertical-align: middle;\n",
       "    }\n",
       "\n",
       "    .dataframe tbody tr th {\n",
       "        vertical-align: top;\n",
       "    }\n",
       "\n",
       "    .dataframe thead th {\n",
       "        text-align: right;\n",
       "    }\n",
       "</style>\n",
       "<table border=\"1\" class=\"dataframe\">\n",
       "  <thead>\n",
       "    <tr style=\"text-align: right;\">\n",
       "      <th></th>\n",
       "      <th>house_age</th>\n",
       "      <th>distance_from_nearest_metro_station_(km)</th>\n",
       "      <th>house_age_range</th>\n",
       "      <th>distance_from_nearest_metro_station_(km)_range</th>\n",
       "      <th>number_of_convenience_stores_range</th>\n",
       "      <th>area_loc</th>\n",
       "    </tr>\n",
       "  </thead>\n",
       "  <tbody>\n",
       "    <tr>\n",
       "      <th>192</th>\n",
       "      <td>43.8</td>\n",
       "      <td>57.58945</td>\n",
       "      <td>37.201000</td>\n",
       "      <td>40.762147</td>\n",
       "      <td>46.643750</td>\n",
       "      <td>42.7</td>\n",
       "    </tr>\n",
       "    <tr>\n",
       "      <th>234</th>\n",
       "      <td>8.0</td>\n",
       "      <td>2216.61200</td>\n",
       "      <td>42.308649</td>\n",
       "      <td>23.173913</td>\n",
       "      <td>43.672593</td>\n",
       "      <td>23.9</td>\n",
       "    </tr>\n",
       "    <tr>\n",
       "      <th>5</th>\n",
       "      <td>7.1</td>\n",
       "      <td>2175.03000</td>\n",
       "      <td>42.308649</td>\n",
       "      <td>40.762147</td>\n",
       "      <td>29.236066</td>\n",
       "      <td>29.9</td>\n",
       "    </tr>\n",
       "    <tr>\n",
       "      <th>45</th>\n",
       "      <td>36.6</td>\n",
       "      <td>488.81930</td>\n",
       "      <td>37.201000</td>\n",
       "      <td>40.762147</td>\n",
       "      <td>46.643750</td>\n",
       "      <td>38.2</td>\n",
       "    </tr>\n",
       "    <tr>\n",
       "      <th>245</th>\n",
       "      <td>7.5</td>\n",
       "      <td>639.61980</td>\n",
       "      <td>42.308649</td>\n",
       "      <td>40.762147</td>\n",
       "      <td>43.672593</td>\n",
       "      <td>40.8</td>\n",
       "    </tr>\n",
       "  </tbody>\n",
       "</table>\n",
       "</div>"
      ],
      "text/plain": [
       "     house_age  distance_from_nearest_metro_station_(km)  house_age_range  \\\n",
       "192       43.8                                  57.58945        37.201000   \n",
       "234        8.0                                2216.61200        42.308649   \n",
       "5          7.1                                2175.03000        42.308649   \n",
       "45        36.6                                 488.81930        37.201000   \n",
       "245        7.5                                 639.61980        42.308649   \n",
       "\n",
       "     distance_from_nearest_metro_station_(km)_range  \\\n",
       "192                                       40.762147   \n",
       "234                                       23.173913   \n",
       "5                                         40.762147   \n",
       "45                                        40.762147   \n",
       "245                                       40.762147   \n",
       "\n",
       "     number_of_convenience_stores_range  area_loc  \n",
       "192                           46.643750      42.7  \n",
       "234                           43.672593      23.9  \n",
       "5                             29.236066      29.9  \n",
       "45                            46.643750      38.2  \n",
       "245                           43.672593      40.8  "
      ]
     },
     "execution_count": 264,
     "metadata": {},
     "output_type": "execute_result"
    }
   ],
   "source": [
    "X_train_lr.head()"
   ]
  },
  {
   "cell_type": "code",
   "execution_count": 265,
   "id": "9ef404c4",
   "metadata": {},
   "outputs": [
    {
     "data": {
      "image/png": "[encoded data removed]",
      "text/plain": [
       "<Figure size 800x2000 with 2 Axes>"
      ]
     },
     "metadata": {},
     "output_type": "display_data"
    }
   ],
   "source": [
    "t=1\n",
    "plt.figure(figsize=(8,20))\n",
    "for i in ['house_age','distance_from_nearest_metro_station_(km)']:\n",
    "    plt.subplot(5,2,t)\n",
    "    sns.boxplot(x=i,data=X_train_lr)\n",
    "    t+=1"
   ]
  },
  {
   "cell_type": "code",
   "execution_count": 266,
   "id": "f2db4da7",
   "metadata": {},
   "outputs": [],
   "source": [
    "q1=X_train_lr['distance_from_nearest_metro_station_(km)'].quantile(0.25)\n",
    "\n",
    "q3=X_train_lr['distance_from_nearest_metro_station_(km)'].quantile(0.75)\n",
    "iqr=q3-q1\n",
    "up_lim=q3+1.5*iqr\n",
    "low_lim=q1-1.5*iqr\n",
    "X_train_lr['distance_from_nearest_metro_station_(km)']=np.where(X_train_lr['distance_from_nearest_metro_station_(km)']>up_lim,up_lim,\n",
    "                   np.where(X_train_lr['distance_from_nearest_metro_station_(km)']<low_lim,low_lim,X_train_lr['distance_from_nearest_metro_station_(km)']))"
   ]
  },
  {
   "cell_type": "code",
   "execution_count": 267,
   "id": "8d51d85f",
   "metadata": {},
   "outputs": [
    {
     "data": {
      "text/plain": [
       "<AxesSubplot: xlabel='distance_from_nearest_metro_station_(km)'>"
      ]
     },
     "execution_count": 267,
     "metadata": {},
     "output_type": "execute_result"
    },
    {
     "data": {
      "image/png": "[encoded data removed]",
      "text/plain": [
       "<Figure size 640x480 with 1 Axes>"
      ]
     },
     "metadata": {},
     "output_type": "display_data"
    }
   ],
   "source": [
    "sns.boxplot(x='distance_from_nearest_metro_station_(km)',data=X_train_lr)"
   ]
  },
  {
   "cell_type": "code",
   "execution_count": 268,
   "id": "fb5598c1",
   "metadata": {},
   "outputs": [
    {
     "data": {
      "image/png": "[encoded data removed]",
      "text/plain": [
       "<Figure size 800x2000 with 2 Axes>"
      ]
     },
     "metadata": {},
     "output_type": "display_data"
    }
   ],
   "source": [
    "t=1\n",
    "plt.figure(figsize=(8,20))\n",
    "for i in ['house_age','distance_from_nearest_metro_station_(km)']:\n",
    "    plt.subplot(5,2,t)\n",
    "    sns.kdeplot(x=i,data=X_train_lr)\n",
    "    t+=1"
   ]
  },
  {
   "cell_type": "code",
   "execution_count": 237,
   "id": "b3f0a81c",
   "metadata": {
    "scrolled": false
   },
   "outputs": [
    {
     "data": {
      "image/png": "[encoded data removed]",
      "text/plain": [
       "<Figure size 640x480 with 1 Axes>"
      ]
     },
     "metadata": {},
     "output_type": "display_data"
    }
   ],
   "source": [
    "import scipy.stats as stats\n",
    "stats.probplot(np.log1p(X_train_lr['distance_from_nearest_metro_station_(km)']),dist='norm',plot=plt)\n",
    "plt.show()"
   ]
  },
  {
   "cell_type": "code",
   "execution_count": 269,
   "id": "734b8e1a",
   "metadata": {},
   "outputs": [],
   "source": [
    "X_train_lr['distance_from_nearest_metro_station_(km)']=np.log1p(X_train_lr['distance_from_nearest_metro_station_(km)'])"
   ]
  },
  {
   "cell_type": "code",
   "execution_count": 185,
   "id": "491be923",
   "metadata": {},
   "outputs": [],
   "source": [
    "# model buillding"
   ]
  },
  {
   "cell_type": "markdown",
   "id": "08561a50",
   "metadata": {},
   "source": [
    "#### Now comes the scaling part  \n",
    "\n",
    "In this part we will either use Standardiation or normalization to scale our features.Scaling is essential in Linear Regression because in the background the model uses Gradient Descent algorithm to minimize the cost function.And if don't do scaling the gradient descent will take long to converge therefore scaling is recommended\n",
    "\n",
    "In scaling we can either use Standardization-\n",
    "In this method we bring the features to standard normal distribution such that the mean is zero and std is 1\n",
    "In Normalization-In this method the formula given below is to scale down the features between 0 to 1\n"
   ]
  },
  {
   "cell_type": "code",
   "execution_count": 270,
   "id": "388a6965",
   "metadata": {},
   "outputs": [],
   "source": [
    "from sklearn.preprocessing import StandardScaler\n",
    "sc=StandardScaler()\n",
    "\n",
    "X_train_sc=sc.fit_transform(X_train_lr,y_train)\n",
    "X_test_sc=sc.transform(X_test_lr)"
   ]
  },
  {
   "cell_type": "code",
   "execution_count": 271,
   "id": "7e8e2c3b",
   "metadata": {},
   "outputs": [],
   "source": [
    "from sklearn.linear_model import LinearRegression"
   ]
  },
  {
   "cell_type": "code",
   "execution_count": 272,
   "id": "eeb58a03",
   "metadata": {},
   "outputs": [],
   "source": [
    "lr=LinearRegression()"
   ]
  },
  {
   "cell_type": "code",
   "execution_count": 273,
   "id": "f306cd87",
   "metadata": {},
   "outputs": [
    {
     "data": {
      "text/html": [
       "<style>#sk-container-id-7 {color: black;background-color: white;}#sk-container-id-7 pre{padding: 0;}#sk-container-id-7 div.sk-toggleable {background-color: white;}#sk-container-id-7 label.sk-toggleable__label {cursor: pointer;display: block;width: 100%;margin-bottom: 0;padding: 0.3em;box-sizing: border-box;text-align: center;}#sk-container-id-7 label.sk-toggleable__label-arrow:before {content: \"▸\";float: left;margin-right: 0.25em;color: #696969;}#sk-container-id-7 label.sk-toggleable__label-arrow:hover:before {color: black;}#sk-container-id-7 div.sk-estimator:hover label.sk-toggleable__label-arrow:before {color: black;}#sk-container-id-7 div.sk-toggleable__content {max-height: 0;max-width: 0;overflow: hidden;text-align: left;background-color: #f0f8ff;}#sk-container-id-7 div.sk-toggleable__content pre {margin: 0.2em;color: black;border-radius: 0.25em;background-color: #f0f8ff;}#sk-container-id-7 input.sk-toggleable__control:checked~div.sk-toggleable__content {max-height: 200px;max-width: 100%;overflow: auto;}#sk-container-id-7 input.sk-toggleable__control:checked~label.sk-toggleable__label-arrow:before {content: \"▾\";}#sk-container-id-7 div.sk-estimator input.sk-toggleable__control:checked~label.sk-toggleable__label {background-color: #d4ebff;}#sk-container-id-7 div.sk-label input.sk-toggleable__control:checked~label.sk-toggleable__label {background-color: #d4ebff;}#sk-container-id-7 input.sk-hidden--visually {border: 0;clip: rect(1px 1px 1px 1px);clip: rect(1px, 1px, 1px, 1px);height: 1px;margin: -1px;overflow: hidden;padding: 0;position: absolute;width: 1px;}#sk-container-id-7 div.sk-estimator {font-family: monospace;background-color: #f0f8ff;border: 1px dotted black;border-radius: 0.25em;box-sizing: border-box;margin-bottom: 0.5em;}#sk-container-id-7 div.sk-estimator:hover {background-color: #d4ebff;}#sk-container-id-7 div.sk-parallel-item::after {content: \"\";width: 100%;border-bottom: 1px solid gray;flex-grow: 1;}#sk-container-id-7 div.sk-label:hover label.sk-toggleable__label {background-color: #d4ebff;}#sk-container-id-7 div.sk-serial::before {content: \"\";position: absolute;border-left: 1px solid gray;box-sizing: border-box;top: 0;bottom: 0;left: 50%;z-index: 0;}#sk-container-id-7 div.sk-serial {display: flex;flex-direction: column;align-items: center;background-color: white;padding-right: 0.2em;padding-left: 0.2em;position: relative;}#sk-container-id-7 div.sk-item {position: relative;z-index: 1;}#sk-container-id-7 div.sk-parallel {display: flex;align-items: stretch;justify-content: center;background-color: white;position: relative;}#sk-container-id-7 div.sk-item::before, #sk-container-id-7 div.sk-parallel-item::before {content: \"\";position: absolute;border-left: 1px solid gray;box-sizing: border-box;top: 0;bottom: 0;left: 50%;z-index: -1;}#sk-container-id-7 div.sk-parallel-item {display: flex;flex-direction: column;z-index: 1;position: relative;background-color: white;}#sk-container-id-7 div.sk-parallel-item:first-child::after {align-self: flex-end;width: 50%;}#sk-container-id-7 div.sk-parallel-item:last-child::after {align-self: flex-start;width: 50%;}#sk-container-id-7 div.sk-parallel-item:only-child::after {width: 0;}#sk-container-id-7 div.sk-dashed-wrapped {border: 1px dashed gray;margin: 0 0.4em 0.5em 0.4em;box-sizing: border-box;padding-bottom: 0.4em;background-color: white;}#sk-container-id-7 div.sk-label label {font-family: monospace;font-weight: bold;display: inline-block;line-height: 1.2em;}#sk-container-id-7 div.sk-label-container {text-align: center;}#sk-container-id-7 div.sk-container {/* jupyter's `normalize.less` sets `[hidden] { display: none; }` but bootstrap.min.css set `[hidden] { display: none !important; }` so we also need the `!important` here to be able to override the default hidden behavior on the sphinx rendered scikit-learn.org. See: https://github.com/scikit-learn/scikit-learn/issues/21755 */display: inline-block !important;position: relative;}#sk-container-id-7 div.sk-text-repr-fallback {display: none;}</style><div id=\"sk-container-id-7\" class=\"sk-top-container\"><div class=\"sk-text-repr-fallback\"><pre>LinearRegression()</pre><b>In a Jupyter environment, please rerun this cell to show the HTML representation or trust the notebook. <br />On GitHub, the HTML representation is unable to render, please try loading this page with nbviewer.org.</b></div><div class=\"sk-container\" hidden><div class=\"sk-item\"><div class=\"sk-estimator sk-toggleable\"><input class=\"sk-toggleable__control sk-hidden--visually\" id=\"sk-estimator-id-9\" type=\"checkbox\" checked><label for=\"sk-estimator-id-9\" class=\"sk-toggleable__label sk-toggleable__label-arrow\">LinearRegression</label><div class=\"sk-toggleable__content\"><pre>LinearRegression()</pre></div></div></div></div></div>"
      ],
      "text/plain": [
       "LinearRegression()"
      ]
     },
     "execution_count": 273,
     "metadata": {},
     "output_type": "execute_result"
    }
   ],
   "source": [
    "lr.fit(X_train_sc,y_train)"
   ]
  },
  {
   "cell_type": "code",
   "execution_count": 274,
   "id": "c2326586",
   "metadata": {},
   "outputs": [],
   "source": [
    "from sklearn.metrics import r2_score\n",
    "# like accuracy in classification problem r2 score is called the accuracy for regression problems"
   ]
  },
  {
   "cell_type": "code",
   "execution_count": 275,
   "id": "364b7990",
   "metadata": {},
   "outputs": [
    {
     "data": {
      "text/plain": [
       "-36.36706390237553"
      ]
     },
     "execution_count": 275,
     "metadata": {},
     "output_type": "execute_result"
    }
   ],
   "source": [
    "r2_score(y_test,lr.predict(X_test_sc))"
   ]
  },
  {
   "cell_type": "code",
   "execution_count": 276,
   "id": "158a420f",
   "metadata": {},
   "outputs": [],
   "source": [
    "# the r2 score is negative which means the model is performing poor than the average model"
   ]
  },
  {
   "cell_type": "markdown",
   "id": "250e0f98",
   "metadata": {},
   "source": [
    "# Now applying the Knn model\n",
    "\n",
    "Now the Knn model means Knearest neighbour it simply finds the distance between the test points and the training points and depending on the value of k it will take average of k points "
   ]
  },
  {
   "cell_type": "code",
   "execution_count": 279,
   "id": "bbfa11c0",
   "metadata": {},
   "outputs": [],
   "source": [
    "from sklearn.neighbors import KNeighborsRegressor\n",
    "knn=KNeighborsRegressor()"
   ]
  },
  {
   "cell_type": "code",
   "execution_count": 280,
   "id": "26b780cf",
   "metadata": {},
   "outputs": [
    {
     "data": {
      "text/html": [
       "<style>#sk-container-id-8 {color: black;background-color: white;}#sk-container-id-8 pre{padding: 0;}#sk-container-id-8 div.sk-toggleable {background-color: white;}#sk-container-id-8 label.sk-toggleable__label {cursor: pointer;display: block;width: 100%;margin-bottom: 0;padding: 0.3em;box-sizing: border-box;text-align: center;}#sk-container-id-8 label.sk-toggleable__label-arrow:before {content: \"▸\";float: left;margin-right: 0.25em;color: #696969;}#sk-container-id-8 label.sk-toggleable__label-arrow:hover:before {color: black;}#sk-container-id-8 div.sk-estimator:hover label.sk-toggleable__label-arrow:before {color: black;}#sk-container-id-8 div.sk-toggleable__content {max-height: 0;max-width: 0;overflow: hidden;text-align: left;background-color: #f0f8ff;}#sk-container-id-8 div.sk-toggleable__content pre {margin: 0.2em;color: black;border-radius: 0.25em;background-color: #f0f8ff;}#sk-container-id-8 input.sk-toggleable__control:checked~div.sk-toggleable__content {max-height: 200px;max-width: 100%;overflow: auto;}#sk-container-id-8 input.sk-toggleable__control:checked~label.sk-toggleable__label-arrow:before {content: \"▾\";}#sk-container-id-8 div.sk-estimator input.sk-toggleable__control:checked~label.sk-toggleable__label {background-color: #d4ebff;}#sk-container-id-8 div.sk-label input.sk-toggleable__control:checked~label.sk-toggleable__label {background-color: #d4ebff;}#sk-container-id-8 input.sk-hidden--visually {border: 0;clip: rect(1px 1px 1px 1px);clip: rect(1px, 1px, 1px, 1px);height: 1px;margin: -1px;overflow: hidden;padding: 0;position: absolute;width: 1px;}#sk-container-id-8 div.sk-estimator {font-family: monospace;background-color: #f0f8ff;border: 1px dotted black;border-radius: 0.25em;box-sizing: border-box;margin-bottom: 0.5em;}#sk-container-id-8 div.sk-estimator:hover {background-color: #d4ebff;}#sk-container-id-8 div.sk-parallel-item::after {content: \"\";width: 100%;border-bottom: 1px solid gray;flex-grow: 1;}#sk-container-id-8 div.sk-label:hover label.sk-toggleable__label {background-color: #d4ebff;}#sk-container-id-8 div.sk-serial::before {content: \"\";position: absolute;border-left: 1px solid gray;box-sizing: border-box;top: 0;bottom: 0;left: 50%;z-index: 0;}#sk-container-id-8 div.sk-serial {display: flex;flex-direction: column;align-items: center;background-color: white;padding-right: 0.2em;padding-left: 0.2em;position: relative;}#sk-container-id-8 div.sk-item {position: relative;z-index: 1;}#sk-container-id-8 div.sk-parallel {display: flex;align-items: stretch;justify-content: center;background-color: white;position: relative;}#sk-container-id-8 div.sk-item::before, #sk-container-id-8 div.sk-parallel-item::before {content: \"\";position: absolute;border-left: 1px solid gray;box-sizing: border-box;top: 0;bottom: 0;left: 50%;z-index: -1;}#sk-container-id-8 div.sk-parallel-item {display: flex;flex-direction: column;z-index: 1;position: relative;background-color: white;}#sk-container-id-8 div.sk-parallel-item:first-child::after {align-self: flex-end;width: 50%;}#sk-container-id-8 div.sk-parallel-item:last-child::after {align-self: flex-start;width: 50%;}#sk-container-id-8 div.sk-parallel-item:only-child::after {width: 0;}#sk-container-id-8 div.sk-dashed-wrapped {border: 1px dashed gray;margin: 0 0.4em 0.5em 0.4em;box-sizing: border-box;padding-bottom: 0.4em;background-color: white;}#sk-container-id-8 div.sk-label label {font-family: monospace;font-weight: bold;display: inline-block;line-height: 1.2em;}#sk-container-id-8 div.sk-label-container {text-align: center;}#sk-container-id-8 div.sk-container {/* jupyter's `normalize.less` sets `[hidden] { display: none; }` but bootstrap.min.css set `[hidden] { display: none !important; }` so we also need the `!important` here to be able to override the default hidden behavior on the sphinx rendered scikit-learn.org. See: https://github.com/scikit-learn/scikit-learn/issues/21755 */display: inline-block !important;position: relative;}#sk-container-id-8 div.sk-text-repr-fallback {display: none;}</style><div id=\"sk-container-id-8\" class=\"sk-top-container\"><div class=\"sk-text-repr-fallback\"><pre>KNeighborsRegressor()</pre><b>In a Jupyter environment, please rerun this cell to show the HTML representation or trust the notebook. <br />On GitHub, the HTML representation is unable to render, please try loading this page with nbviewer.org.</b></div><div class=\"sk-container\" hidden><div class=\"sk-item\"><div class=\"sk-estimator sk-toggleable\"><input class=\"sk-toggleable__control sk-hidden--visually\" id=\"sk-estimator-id-10\" type=\"checkbox\" checked><label for=\"sk-estimator-id-10\" class=\"sk-toggleable__label sk-toggleable__label-arrow\">KNeighborsRegressor</label><div class=\"sk-toggleable__content\"><pre>KNeighborsRegressor()</pre></div></div></div></div></div>"
      ],
      "text/plain": [
       "KNeighborsRegressor()"
      ]
     },
     "execution_count": 280,
     "metadata": {},
     "output_type": "execute_result"
    }
   ],
   "source": [
    "knn.fit(X_train_sc,y_train)"
   ]
  },
  {
   "cell_type": "code",
   "execution_count": 281,
   "id": "6b958413",
   "metadata": {},
   "outputs": [
    {
     "data": {
      "text/plain": [
       "-0.06743418845259819"
      ]
     },
     "execution_count": 281,
     "metadata": {},
     "output_type": "execute_result"
    }
   ],
   "source": [
    "r2_score(y_test,knn.predict(X_test_sc))"
   ]
  },
  {
   "cell_type": "code",
   "execution_count": 282,
   "id": "35e98703",
   "metadata": {},
   "outputs": [],
   "source": [
    "param_knn={'n_neighbors':[int(x) for x in np.linspace(5,32,2)],\n",
    "          'weights':['distance','uniform'],\n",
    "          'p':[1,2]}"
   ]
  },
  {
   "cell_type": "code",
   "execution_count": 283,
   "id": "1781e9df",
   "metadata": {},
   "outputs": [],
   "source": [
    "from sklearn.model_selection import GridSearchCV\n"
   ]
  },
  {
   "cell_type": "code",
   "execution_count": 284,
   "id": "91d4bfce",
   "metadata": {},
   "outputs": [],
   "source": [
    "grid_knn=GridSearchCV(knn,param_knn,verbose=3,cv=5,scoring='r2')"
   ]
  },
  {
   "cell_type": "code",
   "execution_count": 285,
   "id": "f9db70be",
   "metadata": {
    "scrolled": true
   },
   "outputs": [
    {
     "name": "stdout",
     "output_type": "stream",
     "text": [
      "Fitting 5 folds for each of 8 candidates, totalling 40 fits\n",
      "[CV 1/5] END n_neighbors=5, p=1, weights=distance;, score=0.754 total time=   0.0s\n",
      "[CV 2/5] END n_neighbors=5, p=1, weights=distance;, score=0.808 total time=   0.0s\n",
      "[CV 3/5] END n_neighbors=5, p=1, weights=distance;, score=0.913 total time=   0.0s\n",
      "[CV 4/5] END n_neighbors=5, p=1, weights=distance;, score=0.872 total time=   0.0s\n",
      "[CV 5/5] END n_neighbors=5, p=1, weights=distance;, score=0.624 total time=   0.0s\n",
      "[CV 1/5] END n_neighbors=5, p=1, weights=uniform;, score=0.710 total time=   0.0s\n",
      "[CV 2/5] END n_neighbors=5, p=1, weights=uniform;, score=0.809 total time=   0.0s\n",
      "[CV 3/5] END n_neighbors=5, p=1, weights=uniform;, score=0.880 total time=   0.0s\n",
      "[CV 4/5] END n_neighbors=5, p=1, weights=uniform;, score=0.863 total time=   0.0s\n",
      "[CV 5/5] END n_neighbors=5, p=1, weights=uniform;, score=0.636 total time=   0.0s\n",
      "[CV 1/5] END n_neighbors=5, p=2, weights=distance;, score=0.799 total time=   0.0s\n",
      "[CV 2/5] END n_neighbors=5, p=2, weights=distance;, score=0.829 total time=   0.0s\n",
      "[CV 3/5] END n_neighbors=5, p=2, weights=distance;, score=0.914 total time=   0.0s\n",
      "[CV 4/5] END n_neighbors=5, p=2, weights=distance;, score=0.882 total time=   0.0s\n",
      "[CV 5/5] END n_neighbors=5, p=2, weights=distance;, score=0.776 total time=   0.0s\n",
      "[CV 1/5] END n_neighbors=5, p=2, weights=uniform;, score=0.764 total time=   0.0s\n",
      "[CV 2/5] END n_neighbors=5, p=2, weights=uniform;, score=0.835 total time=   0.0s\n",
      "[CV 3/5] END n_neighbors=5, p=2, weights=uniform;, score=0.887 total time=   0.0s\n",
      "[CV 4/5] END n_neighbors=5, p=2, weights=uniform;, score=0.874 total time=   0.0s\n",
      "[CV 5/5] END n_neighbors=5, p=2, weights=uniform;, score=0.790 total time=   0.0s\n",
      "[CV 1/5] END n_neighbors=32, p=1, weights=distance;, score=0.723 total time=   0.0s\n",
      "[CV 2/5] END n_neighbors=32, p=1, weights=distance;, score=0.716 total time=   0.0s\n",
      "[CV 3/5] END n_neighbors=32, p=1, weights=distance;, score=0.815 total time=   0.0s\n",
      "[CV 4/5] END n_neighbors=32, p=1, weights=distance;, score=0.835 total time=   0.0s\n",
      "[CV 5/5] END n_neighbors=32, p=1, weights=distance;, score=0.619 total time=   0.0s\n",
      "[CV 1/5] END n_neighbors=32, p=1, weights=uniform;, score=0.627 total time=   0.0s\n",
      "[CV 2/5] END n_neighbors=32, p=1, weights=uniform;, score=0.668 total time=   0.0s\n",
      "[CV 3/5] END n_neighbors=32, p=1, weights=uniform;, score=0.727 total time=   0.0s\n",
      "[CV 4/5] END n_neighbors=32, p=1, weights=uniform;, score=0.712 total time=   0.0s\n",
      "[CV 5/5] END n_neighbors=32, p=1, weights=uniform;, score=0.551 total time=   0.0s\n",
      "[CV 1/5] END n_neighbors=32, p=2, weights=distance;, score=0.758 total time=   0.0s\n",
      "[CV 2/5] END n_neighbors=32, p=2, weights=distance;, score=0.744 total time=   0.0s\n",
      "[CV 3/5] END n_neighbors=32, p=2, weights=distance;, score=0.830 total time=   0.0s\n",
      "[CV 4/5] END n_neighbors=32, p=2, weights=distance;, score=0.842 total time=   0.0s\n",
      "[CV 5/5] END n_neighbors=32, p=2, weights=distance;, score=0.677 total time=   0.0s\n",
      "[CV 1/5] END n_neighbors=32, p=2, weights=uniform;, score=0.658 total time=   0.0s\n",
      "[CV 2/5] END n_neighbors=32, p=2, weights=uniform;, score=0.702 total time=   0.0s\n",
      "[CV 3/5] END n_neighbors=32, p=2, weights=uniform;, score=0.744 total time=   0.0s\n",
      "[CV 4/5] END n_neighbors=32, p=2, weights=uniform;, score=0.735 total time=   0.0s\n",
      "[CV 5/5] END n_neighbors=32, p=2, weights=uniform;, score=0.606 total time=   0.0s\n"
     ]
    },
    {
     "data": {
      "text/html": [
       "<style>#sk-container-id-9 {color: black;background-color: white;}#sk-container-id-9 pre{padding: 0;}#sk-container-id-9 div.sk-toggleable {background-color: white;}#sk-container-id-9 label.sk-toggleable__label {cursor: pointer;display: block;width: 100%;margin-bottom: 0;padding: 0.3em;box-sizing: border-box;text-align: center;}#sk-container-id-9 label.sk-toggleable__label-arrow:before {content: \"▸\";float: left;margin-right: 0.25em;color: #696969;}#sk-container-id-9 label.sk-toggleable__label-arrow:hover:before {color: black;}#sk-container-id-9 div.sk-estimator:hover label.sk-toggleable__label-arrow:before {color: black;}#sk-container-id-9 div.sk-toggleable__content {max-height: 0;max-width: 0;overflow: hidden;text-align: left;background-color: #f0f8ff;}#sk-container-id-9 div.sk-toggleable__content pre {margin: 0.2em;color: black;border-radius: 0.25em;background-color: #f0f8ff;}#sk-container-id-9 input.sk-toggleable__control:checked~div.sk-toggleable__content {max-height: 200px;max-width: 100%;overflow: auto;}#sk-container-id-9 input.sk-toggleable__control:checked~label.sk-toggleable__label-arrow:before {content: \"▾\";}#sk-container-id-9 div.sk-estimator input.sk-toggleable__control:checked~label.sk-toggleable__label {background-color: #d4ebff;}#sk-container-id-9 div.sk-label input.sk-toggleable__control:checked~label.sk-toggleable__label {background-color: #d4ebff;}#sk-container-id-9 input.sk-hidden--visually {border: 0;clip: rect(1px 1px 1px 1px);clip: rect(1px, 1px, 1px, 1px);height: 1px;margin: -1px;overflow: hidden;padding: 0;position: absolute;width: 1px;}#sk-container-id-9 div.sk-estimator {font-family: monospace;background-color: #f0f8ff;border: 1px dotted black;border-radius: 0.25em;box-sizing: border-box;margin-bottom: 0.5em;}#sk-container-id-9 div.sk-estimator:hover {background-color: #d4ebff;}#sk-container-id-9 div.sk-parallel-item::after {content: \"\";width: 100%;border-bottom: 1px solid gray;flex-grow: 1;}#sk-container-id-9 div.sk-label:hover label.sk-toggleable__label {background-color: #d4ebff;}#sk-container-id-9 div.sk-serial::before {content: \"\";position: absolute;border-left: 1px solid gray;box-sizing: border-box;top: 0;bottom: 0;left: 50%;z-index: 0;}#sk-container-id-9 div.sk-serial {display: flex;flex-direction: column;align-items: center;background-color: white;padding-right: 0.2em;padding-left: 0.2em;position: relative;}#sk-container-id-9 div.sk-item {position: relative;z-index: 1;}#sk-container-id-9 div.sk-parallel {display: flex;align-items: stretch;justify-content: center;background-color: white;position: relative;}#sk-container-id-9 div.sk-item::before, #sk-container-id-9 div.sk-parallel-item::before {content: \"\";position: absolute;border-left: 1px solid gray;box-sizing: border-box;top: 0;bottom: 0;left: 50%;z-index: -1;}#sk-container-id-9 div.sk-parallel-item {display: flex;flex-direction: column;z-index: 1;position: relative;background-color: white;}#sk-container-id-9 div.sk-parallel-item:first-child::after {align-self: flex-end;width: 50%;}#sk-container-id-9 div.sk-parallel-item:last-child::after {align-self: flex-start;width: 50%;}#sk-container-id-9 div.sk-parallel-item:only-child::after {width: 0;}#sk-container-id-9 div.sk-dashed-wrapped {border: 1px dashed gray;margin: 0 0.4em 0.5em 0.4em;box-sizing: border-box;padding-bottom: 0.4em;background-color: white;}#sk-container-id-9 div.sk-label label {font-family: monospace;font-weight: bold;display: inline-block;line-height: 1.2em;}#sk-container-id-9 div.sk-label-container {text-align: center;}#sk-container-id-9 div.sk-container {/* jupyter's `normalize.less` sets `[hidden] { display: none; }` but bootstrap.min.css set `[hidden] { display: none !important; }` so we also need the `!important` here to be able to override the default hidden behavior on the sphinx rendered scikit-learn.org. See: https://github.com/scikit-learn/scikit-learn/issues/21755 */display: inline-block !important;position: relative;}#sk-container-id-9 div.sk-text-repr-fallback {display: none;}</style><div id=\"sk-container-id-9\" class=\"sk-top-container\"><div class=\"sk-text-repr-fallback\"><pre>GridSearchCV(cv=5, estimator=KNeighborsRegressor(),\n",
       "             param_grid={&#x27;n_neighbors&#x27;: [5, 32], &#x27;p&#x27;: [1, 2],\n",
       "                         &#x27;weights&#x27;: [&#x27;distance&#x27;, &#x27;uniform&#x27;]},\n",
       "             scoring=&#x27;r2&#x27;, verbose=3)</pre><b>In a Jupyter environment, please rerun this cell to show the HTML representation or trust the notebook. <br />On GitHub, the HTML representation is unable to render, please try loading this page with nbviewer.org.</b></div><div class=\"sk-container\" hidden><div class=\"sk-item sk-dashed-wrapped\"><div class=\"sk-label-container\"><div class=\"sk-label sk-toggleable\"><input class=\"sk-toggleable__control sk-hidden--visually\" id=\"sk-estimator-id-11\" type=\"checkbox\" ><label for=\"sk-estimator-id-11\" class=\"sk-toggleable__label sk-toggleable__label-arrow\">GridSearchCV</label><div class=\"sk-toggleable__content\"><pre>GridSearchCV(cv=5, estimator=KNeighborsRegressor(),\n",
       "             param_grid={&#x27;n_neighbors&#x27;: [5, 32], &#x27;p&#x27;: [1, 2],\n",
       "                         &#x27;weights&#x27;: [&#x27;distance&#x27;, &#x27;uniform&#x27;]},\n",
       "             scoring=&#x27;r2&#x27;, verbose=3)</pre></div></div></div><div class=\"sk-parallel\"><div class=\"sk-parallel-item\"><div class=\"sk-item\"><div class=\"sk-label-container\"><div class=\"sk-label sk-toggleable\"><input class=\"sk-toggleable__control sk-hidden--visually\" id=\"sk-estimator-id-12\" type=\"checkbox\" ><label for=\"sk-estimator-id-12\" class=\"sk-toggleable__label sk-toggleable__label-arrow\">estimator: KNeighborsRegressor</label><div class=\"sk-toggleable__content\"><pre>KNeighborsRegressor()</pre></div></div></div><div class=\"sk-serial\"><div class=\"sk-item\"><div class=\"sk-estimator sk-toggleable\"><input class=\"sk-toggleable__control sk-hidden--visually\" id=\"sk-estimator-id-13\" type=\"checkbox\" ><label for=\"sk-estimator-id-13\" class=\"sk-toggleable__label sk-toggleable__label-arrow\">KNeighborsRegressor</label><div class=\"sk-toggleable__content\"><pre>KNeighborsRegressor()</pre></div></div></div></div></div></div></div></div></div></div>"
      ],
      "text/plain": [
       "GridSearchCV(cv=5, estimator=KNeighborsRegressor(),\n",
       "             param_grid={'n_neighbors': [5, 32], 'p': [1, 2],\n",
       "                         'weights': ['distance', 'uniform']},\n",
       "             scoring='r2', verbose=3)"
      ]
     },
     "execution_count": 285,
     "metadata": {},
     "output_type": "execute_result"
    }
   ],
   "source": [
    "grid_knn.fit(X_train_sc,y_train)"
   ]
  },
  {
   "cell_type": "code",
   "execution_count": 286,
   "id": "74055ebc",
   "metadata": {},
   "outputs": [
    {
     "data": {
      "text/plain": [
       "-0.06729781896500886"
      ]
     },
     "execution_count": 286,
     "metadata": {},
     "output_type": "execute_result"
    }
   ],
   "source": [
    "r2_score(y_test,grid_knn.predict(X_test_sc))"
   ]
  },
  {
   "cell_type": "code",
   "execution_count": 287,
   "id": "19f04331",
   "metadata": {},
   "outputs": [
    {
     "data": {
      "text/plain": [
       "0.9908801749964097"
      ]
     },
     "execution_count": 287,
     "metadata": {},
     "output_type": "execute_result"
    }
   ],
   "source": [
    "r2_score(y_train,grid_knn.predict(X_train_sc))"
   ]
  },
  {
   "cell_type": "markdown",
   "id": "947f498a",
   "metadata": {},
   "source": [
    "# The model is overfitting since the r2 score for the train and test data are varyinng too much"
   ]
  },
  {
   "cell_type": "markdown",
   "id": "020209de",
   "metadata": {},
   "source": [
    "# SVR\n",
    "\n",
    "In this model we try to maximize the distance between the marginal planes"
   ]
  },
  {
   "cell_type": "code",
   "execution_count": 289,
   "id": "24d17535",
   "metadata": {},
   "outputs": [],
   "source": [
    "from sklearn.svm import SVR\n",
    "svr=SVR()"
   ]
  },
  {
   "cell_type": "code",
   "execution_count": 290,
   "id": "9740f7a1",
   "metadata": {},
   "outputs": [
    {
     "data": {
      "text/html": [
       "<style>#sk-container-id-10 {color: black;background-color: white;}#sk-container-id-10 pre{padding: 0;}#sk-container-id-10 div.sk-toggleable {background-color: white;}#sk-container-id-10 label.sk-toggleable__label {cursor: pointer;display: block;width: 100%;margin-bottom: 0;padding: 0.3em;box-sizing: border-box;text-align: center;}#sk-container-id-10 label.sk-toggleable__label-arrow:before {content: \"▸\";float: left;margin-right: 0.25em;color: #696969;}#sk-container-id-10 label.sk-toggleable__label-arrow:hover:before {color: black;}#sk-container-id-10 div.sk-estimator:hover label.sk-toggleable__label-arrow:before {color: black;}#sk-container-id-10 div.sk-toggleable__content {max-height: 0;max-width: 0;overflow: hidden;text-align: left;background-color: #f0f8ff;}#sk-container-id-10 div.sk-toggleable__content pre {margin: 0.2em;color: black;border-radius: 0.25em;background-color: #f0f8ff;}#sk-container-id-10 input.sk-toggleable__control:checked~div.sk-toggleable__content {max-height: 200px;max-width: 100%;overflow: auto;}#sk-container-id-10 input.sk-toggleable__control:checked~label.sk-toggleable__label-arrow:before {content: \"▾\";}#sk-container-id-10 div.sk-estimator input.sk-toggleable__control:checked~label.sk-toggleable__label {background-color: #d4ebff;}#sk-container-id-10 div.sk-label input.sk-toggleable__control:checked~label.sk-toggleable__label {background-color: #d4ebff;}#sk-container-id-10 input.sk-hidden--visually {border: 0;clip: rect(1px 1px 1px 1px);clip: rect(1px, 1px, 1px, 1px);height: 1px;margin: -1px;overflow: hidden;padding: 0;position: absolute;width: 1px;}#sk-container-id-10 div.sk-estimator {font-family: monospace;background-color: #f0f8ff;border: 1px dotted black;border-radius: 0.25em;box-sizing: border-box;margin-bottom: 0.5em;}#sk-container-id-10 div.sk-estimator:hover {background-color: #d4ebff;}#sk-container-id-10 div.sk-parallel-item::after {content: \"\";width: 100%;border-bottom: 1px solid gray;flex-grow: 1;}#sk-container-id-10 div.sk-label:hover label.sk-toggleable__label {background-color: #d4ebff;}#sk-container-id-10 div.sk-serial::before {content: \"\";position: absolute;border-left: 1px solid gray;box-sizing: border-box;top: 0;bottom: 0;left: 50%;z-index: 0;}#sk-container-id-10 div.sk-serial {display: flex;flex-direction: column;align-items: center;background-color: white;padding-right: 0.2em;padding-left: 0.2em;position: relative;}#sk-container-id-10 div.sk-item {position: relative;z-index: 1;}#sk-container-id-10 div.sk-parallel {display: flex;align-items: stretch;justify-content: center;background-color: white;position: relative;}#sk-container-id-10 div.sk-item::before, #sk-container-id-10 div.sk-parallel-item::before {content: \"\";position: absolute;border-left: 1px solid gray;box-sizing: border-box;top: 0;bottom: 0;left: 50%;z-index: -1;}#sk-container-id-10 div.sk-parallel-item {display: flex;flex-direction: column;z-index: 1;position: relative;background-color: white;}#sk-container-id-10 div.sk-parallel-item:first-child::after {align-self: flex-end;width: 50%;}#sk-container-id-10 div.sk-parallel-item:last-child::after {align-self: flex-start;width: 50%;}#sk-container-id-10 div.sk-parallel-item:only-child::after {width: 0;}#sk-container-id-10 div.sk-dashed-wrapped {border: 1px dashed gray;margin: 0 0.4em 0.5em 0.4em;box-sizing: border-box;padding-bottom: 0.4em;background-color: white;}#sk-container-id-10 div.sk-label label {font-family: monospace;font-weight: bold;display: inline-block;line-height: 1.2em;}#sk-container-id-10 div.sk-label-container {text-align: center;}#sk-container-id-10 div.sk-container {/* jupyter's `normalize.less` sets `[hidden] { display: none; }` but bootstrap.min.css set `[hidden] { display: none !important; }` so we also need the `!important` here to be able to override the default hidden behavior on the sphinx rendered scikit-learn.org. See: https://github.com/scikit-learn/scikit-learn/issues/21755 */display: inline-block !important;position: relative;}#sk-container-id-10 div.sk-text-repr-fallback {display: none;}</style><div id=\"sk-container-id-10\" class=\"sk-top-container\"><div class=\"sk-text-repr-fallback\"><pre>SVR()</pre><b>In a Jupyter environment, please rerun this cell to show the HTML representation or trust the notebook. <br />On GitHub, the HTML representation is unable to render, please try loading this page with nbviewer.org.</b></div><div class=\"sk-container\" hidden><div class=\"sk-item\"><div class=\"sk-estimator sk-toggleable\"><input class=\"sk-toggleable__control sk-hidden--visually\" id=\"sk-estimator-id-14\" type=\"checkbox\" checked><label for=\"sk-estimator-id-14\" class=\"sk-toggleable__label sk-toggleable__label-arrow\">SVR</label><div class=\"sk-toggleable__content\"><pre>SVR()</pre></div></div></div></div></div>"
      ],
      "text/plain": [
       "SVR()"
      ]
     },
     "execution_count": 290,
     "metadata": {},
     "output_type": "execute_result"
    }
   ],
   "source": [
    "svr.fit(X_train,y_train)"
   ]
  },
  {
   "cell_type": "code",
   "execution_count": 291,
   "id": "fd666de9",
   "metadata": {},
   "outputs": [
    {
     "data": {
      "text/plain": [
       "0.6179279882766548"
      ]
     },
     "execution_count": 291,
     "metadata": {},
     "output_type": "execute_result"
    }
   ],
   "source": [
    "r2_score(y_test,svr.predict(X_test))"
   ]
  },
  {
   "cell_type": "code",
   "execution_count": 292,
   "id": "93a09a57",
   "metadata": {},
   "outputs": [
    {
     "data": {
      "text/plain": [
       "0.5022058151246065"
      ]
     },
     "execution_count": 292,
     "metadata": {},
     "output_type": "execute_result"
    }
   ],
   "source": [
    "r2_score(y_train,svr.predict(X_train))"
   ]
  },
  {
   "cell_type": "code",
   "execution_count": 293,
   "id": "136c1eb4",
   "metadata": {},
   "outputs": [],
   "source": [
    "from sklearn.model_selection import cross_val_score"
   ]
  },
  {
   "cell_type": "code",
   "execution_count": 296,
   "id": "d4def26c",
   "metadata": {},
   "outputs": [
    {
     "data": {
      "text/plain": [
       "0.3344951798411008"
      ]
     },
     "execution_count": 296,
     "metadata": {},
     "output_type": "execute_result"
    }
   ],
   "source": [
    "cross_val_score(svr,X_test,y_test,cv=10,scoring='r2').mean()"
   ]
  },
  {
   "cell_type": "code",
   "execution_count": 297,
   "id": "629955de",
   "metadata": {},
   "outputs": [
    {
     "data": {
      "text/plain": [
       "0.4906147309597622"
      ]
     },
     "execution_count": 297,
     "metadata": {},
     "output_type": "execute_result"
    }
   ],
   "source": [
    "cross_val_score(svr,X_train,y_train,cv=10,scoring='r2').mean()"
   ]
  },
  {
   "cell_type": "markdown",
   "id": "4d4eec63",
   "metadata": {},
   "source": [
    "# Decision Tree Regressor\n",
    "\n",
    "This model finds the information gain(1-entropy) to choose the best feature as the root node and subsequent nodes.The decision tree continues to grow until a pure node(entropy=0 /1) is attained\n",
    "\n",
    "Advantage-\n",
    "1. No scaling is required\n",
    "2. Works well for both the classification as well regression model\n",
    "\n",
    "Disadvantage-\n",
    "1. Prone to overfitting"
   ]
  },
  {
   "cell_type": "code",
   "execution_count": 298,
   "id": "9d2601d2",
   "metadata": {},
   "outputs": [],
   "source": [
    "from sklearn.tree import DecisionTreeRegressor\n",
    "dt=DecisionTreeRegressor(random_state=42)"
   ]
  },
  {
   "cell_type": "code",
   "execution_count": 299,
   "id": "c99d5755",
   "metadata": {},
   "outputs": [
    {
     "data": {
      "text/html": [
       "<style>#sk-container-id-11 {color: black;background-color: white;}#sk-container-id-11 pre{padding: 0;}#sk-container-id-11 div.sk-toggleable {background-color: white;}#sk-container-id-11 label.sk-toggleable__label {cursor: pointer;display: block;width: 100%;margin-bottom: 0;padding: 0.3em;box-sizing: border-box;text-align: center;}#sk-container-id-11 label.sk-toggleable__label-arrow:before {content: \"▸\";float: left;margin-right: 0.25em;color: #696969;}#sk-container-id-11 label.sk-toggleable__label-arrow:hover:before {color: black;}#sk-container-id-11 div.sk-estimator:hover label.sk-toggleable__label-arrow:before {color: black;}#sk-container-id-11 div.sk-toggleable__content {max-height: 0;max-width: 0;overflow: hidden;text-align: left;background-color: #f0f8ff;}#sk-container-id-11 div.sk-toggleable__content pre {margin: 0.2em;color: black;border-radius: 0.25em;background-color: #f0f8ff;}#sk-container-id-11 input.sk-toggleable__control:checked~div.sk-toggleable__content {max-height: 200px;max-width: 100%;overflow: auto;}#sk-container-id-11 input.sk-toggleable__control:checked~label.sk-toggleable__label-arrow:before {content: \"▾\";}#sk-container-id-11 div.sk-estimator input.sk-toggleable__control:checked~label.sk-toggleable__label {background-color: #d4ebff;}#sk-container-id-11 div.sk-label input.sk-toggleable__control:checked~label.sk-toggleable__label {background-color: #d4ebff;}#sk-container-id-11 input.sk-hidden--visually {border: 0;clip: rect(1px 1px 1px 1px);clip: rect(1px, 1px, 1px, 1px);height: 1px;margin: -1px;overflow: hidden;padding: 0;position: absolute;width: 1px;}#sk-container-id-11 div.sk-estimator {font-family: monospace;background-color: #f0f8ff;border: 1px dotted black;border-radius: 0.25em;box-sizing: border-box;margin-bottom: 0.5em;}#sk-container-id-11 div.sk-estimator:hover {background-color: #d4ebff;}#sk-container-id-11 div.sk-parallel-item::after {content: \"\";width: 100%;border-bottom: 1px solid gray;flex-grow: 1;}#sk-container-id-11 div.sk-label:hover label.sk-toggleable__label {background-color: #d4ebff;}#sk-container-id-11 div.sk-serial::before {content: \"\";position: absolute;border-left: 1px solid gray;box-sizing: border-box;top: 0;bottom: 0;left: 50%;z-index: 0;}#sk-container-id-11 div.sk-serial {display: flex;flex-direction: column;align-items: center;background-color: white;padding-right: 0.2em;padding-left: 0.2em;position: relative;}#sk-container-id-11 div.sk-item {position: relative;z-index: 1;}#sk-container-id-11 div.sk-parallel {display: flex;align-items: stretch;justify-content: center;background-color: white;position: relative;}#sk-container-id-11 div.sk-item::before, #sk-container-id-11 div.sk-parallel-item::before {content: \"\";position: absolute;border-left: 1px solid gray;box-sizing: border-box;top: 0;bottom: 0;left: 50%;z-index: -1;}#sk-container-id-11 div.sk-parallel-item {display: flex;flex-direction: column;z-index: 1;position: relative;background-color: white;}#sk-container-id-11 div.sk-parallel-item:first-child::after {align-self: flex-end;width: 50%;}#sk-container-id-11 div.sk-parallel-item:last-child::after {align-self: flex-start;width: 50%;}#sk-container-id-11 div.sk-parallel-item:only-child::after {width: 0;}#sk-container-id-11 div.sk-dashed-wrapped {border: 1px dashed gray;margin: 0 0.4em 0.5em 0.4em;box-sizing: border-box;padding-bottom: 0.4em;background-color: white;}#sk-container-id-11 div.sk-label label {font-family: monospace;font-weight: bold;display: inline-block;line-height: 1.2em;}#sk-container-id-11 div.sk-label-container {text-align: center;}#sk-container-id-11 div.sk-container {/* jupyter's `normalize.less` sets `[hidden] { display: none; }` but bootstrap.min.css set `[hidden] { display: none !important; }` so we also need the `!important` here to be able to override the default hidden behavior on the sphinx rendered scikit-learn.org. See: https://github.com/scikit-learn/scikit-learn/issues/21755 */display: inline-block !important;position: relative;}#sk-container-id-11 div.sk-text-repr-fallback {display: none;}</style><div id=\"sk-container-id-11\" class=\"sk-top-container\"><div class=\"sk-text-repr-fallback\"><pre>DecisionTreeRegressor(random_state=42)</pre><b>In a Jupyter environment, please rerun this cell to show the HTML representation or trust the notebook. <br />On GitHub, the HTML representation is unable to render, please try loading this page with nbviewer.org.</b></div><div class=\"sk-container\" hidden><div class=\"sk-item\"><div class=\"sk-estimator sk-toggleable\"><input class=\"sk-toggleable__control sk-hidden--visually\" id=\"sk-estimator-id-15\" type=\"checkbox\" checked><label for=\"sk-estimator-id-15\" class=\"sk-toggleable__label sk-toggleable__label-arrow\">DecisionTreeRegressor</label><div class=\"sk-toggleable__content\"><pre>DecisionTreeRegressor(random_state=42)</pre></div></div></div></div></div>"
      ],
      "text/plain": [
       "DecisionTreeRegressor(random_state=42)"
      ]
     },
     "execution_count": 299,
     "metadata": {},
     "output_type": "execute_result"
    }
   ],
   "source": [
    "dt.fit(X_train,y_train)"
   ]
  },
  {
   "cell_type": "code",
   "execution_count": 300,
   "id": "feceb99b",
   "metadata": {},
   "outputs": [
    {
     "data": {
      "text/plain": [
       "0.8855517336430916"
      ]
     },
     "execution_count": 300,
     "metadata": {},
     "output_type": "execute_result"
    }
   ],
   "source": [
    "cross_val_score(dt,X_test,y_test,cv=10,scoring='r2').mean()"
   ]
  },
  {
   "cell_type": "code",
   "execution_count": 301,
   "id": "5187d0fa",
   "metadata": {},
   "outputs": [
    {
     "data": {
      "text/plain": [
       "0.7989662555273421"
      ]
     },
     "execution_count": 301,
     "metadata": {},
     "output_type": "execute_result"
    }
   ],
   "source": [
    "cross_val_score(dt,X_train,y_train,cv=10,scoring='r2').mean()"
   ]
  },
  {
   "cell_type": "code",
   "execution_count": 302,
   "id": "9b03dba3",
   "metadata": {},
   "outputs": [],
   "source": [
    "param_dt={'ccp_alpha':dt.cost_complexity_pruning_path(X_train,y_train).ccp_alphas}"
   ]
  },
  {
   "cell_type": "code",
   "execution_count": 303,
   "id": "1a3f3057",
   "metadata": {},
   "outputs": [],
   "source": [
    "grid_dt=GridSearchCV(dt,param_dt,cv=5,scoring='r2',verbose=3)"
   ]
  },
  {
   "cell_type": "code",
   "execution_count": 304,
   "id": "d04e7342",
   "metadata": {},
   "outputs": [
    {
     "name": "stdout",
     "output_type": "stream",
     "text": [
      "Fitting 5 folds for each of 233 candidates, totalling 1165 fits\n",
      "[CV 1/5] END .....................ccp_alpha=0.0;, score=0.921 total time=   0.0s\n",
      "[CV 2/5] END .....................ccp_alpha=0.0;, score=0.555 total time=   0.0s\n",
      "[CV 3/5] END .....................ccp_alpha=0.0;, score=0.929 total time=   0.0s\n",
      "[CV 4/5] END .....................ccp_alpha=0.0;, score=0.874 total time=   0.0s\n",
      "[CV 5/5] END .....................ccp_alpha=0.0;, score=0.825 total time=   0.0s\n",
      "[CV 1/5] END ..ccp_alpha=1.0303942995916862e-15;, score=0.921 total time=   0.0s\n",
      "[CV 2/5] END ..ccp_alpha=1.0303942995916862e-15;, score=0.555 total time=   0.0s\n",
      "[CV 3/5] END ..ccp_alpha=1.0303942995916862e-15;, score=0.929 total time=   0.0s\n",
      "[CV 4/5] END ..ccp_alpha=1.0303942995916862e-15;, score=0.874 total time=   0.0s\n",
      "[CV 5/5] END ..ccp_alpha=1.0303942995916862e-15;, score=0.825 total time=   0.0s\n",
      "[CV 1/5] END ...ccp_alpha=1.373859066122248e-15;, score=0.921 total time=   0.0s\n",
      "[CV 2/5] END ...ccp_alpha=1.373859066122248e-15;, score=0.555 total time=   0.0s\n",
      "[CV 3/5] END ...ccp_alpha=1.373859066122248e-15;, score=0.929 total time=   0.0s\n",
      "[CV 4/5] END ...ccp_alpha=1.373859066122248e-15;, score=0.874 total time=   0.0s\n",
      "[CV 5/5] END ...ccp_alpha=1.373859066122248e-15;, score=0.825 total time=   0.0s\n",
      "[CV 1/5] END ...ccp_alpha=2.747718132244496e-15;, score=0.921 total time=   0.0s\n",
      "[CV 2/5] END ...ccp_alpha=2.747718132244496e-15;, score=0.555 total time=   0.0s\n",
      "[CV 3/5] END ...ccp_alpha=2.747718132244496e-15;, score=0.929 total time=   0.0s\n",
      "[CV 4/5] END ...ccp_alpha=2.747718132244496e-15;, score=0.874 total time=   0.0s\n",
      "[CV 5/5] END ...ccp_alpha=2.747718132244496e-15;, score=0.825 total time=   0.0s\n",
      "[CV 1/5] END ...ccp_alpha=1.510574017816396e-05;, score=0.921 total time=   0.0s\n",
      "[CV 2/5] END ...ccp_alpha=1.510574017816396e-05;, score=0.555 total time=   0.0s\n",
      "[CV 3/5] END ...ccp_alpha=1.510574017816396e-05;, score=0.929 total time=   0.0s\n",
      "[CV 4/5] END ...ccp_alpha=1.510574017816396e-05;, score=0.874 total time=   0.0s\n",
      "[CV 5/5] END ...ccp_alpha=1.510574017816396e-05;, score=0.825 total time=   0.0s\n",
      "[CV 1/5] END ..ccp_alpha=1.5105740178163961e-05;, score=0.921 total time=   0.0s\n",
      "[CV 2/5] END ..ccp_alpha=1.5105740178163961e-05;, score=0.555 total time=   0.0s\n",
      "[CV 3/5] END ..ccp_alpha=1.5105740178163961e-05;, score=0.929 total time=   0.0s\n",
      "[CV 4/5] END ..ccp_alpha=1.5105740178163961e-05;, score=0.874 total time=   0.0s\n",
      "[CV 5/5] END ..ccp_alpha=1.5105740178163961e-05;, score=0.825 total time=   0.0s\n",
      "[CV 1/5] END ..ccp_alpha=1.5105740180224748e-05;, score=0.921 total time=   0.0s\n",
      "[CV 2/5] END ..ccp_alpha=1.5105740180224748e-05;, score=0.555 total time=   0.0s\n",
      "[CV 3/5] END ..ccp_alpha=1.5105740180224748e-05;, score=0.929 total time=   0.0s\n",
      "[CV 4/5] END ..ccp_alpha=1.5105740180224748e-05;, score=0.874 total time=   0.0s\n",
      "[CV 5/5] END ..ccp_alpha=1.5105740180224748e-05;, score=0.825 total time=   0.0s\n",
      "[CV 1/5] END ...ccp_alpha=1.510574018022475e-05;, score=0.921 total time=   0.0s\n",
      "[CV 2/5] END ...ccp_alpha=1.510574018022475e-05;, score=0.555 total time=   0.0s\n",
      "[CV 3/5] END ...ccp_alpha=1.510574018022475e-05;, score=0.929 total time=   0.0s\n",
      "[CV 4/5] END ...ccp_alpha=1.510574018022475e-05;, score=0.874 total time=   0.0s\n",
      "[CV 5/5] END ...ccp_alpha=1.510574018022475e-05;, score=0.825 total time=   0.0s\n",
      "[CV 1/5] END ...ccp_alpha=1.510574018022475e-05;, score=0.921 total time=   0.0s\n",
      "[CV 2/5] END ...ccp_alpha=1.510574018022475e-05;, score=0.555 total time=   0.0s\n",
      "[CV 3/5] END ...ccp_alpha=1.510574018022475e-05;, score=0.929 total time=   0.0s\n",
      "[CV 4/5] END ...ccp_alpha=1.510574018022475e-05;, score=0.874 total time=   0.0s\n",
      "[CV 5/5] END ...ccp_alpha=1.510574018022475e-05;, score=0.825 total time=   0.0s\n",
      "[CV 1/5] END ...ccp_alpha=1.510574018022475e-05;, score=0.921 total time=   0.0s\n",
      "[CV 2/5] END ...ccp_alpha=1.510574018022475e-05;, score=0.555 total time=   0.0s\n",
      "[CV 3/5] END ...ccp_alpha=1.510574018022475e-05;, score=0.929 total time=   0.0s\n",
      "[CV 4/5] END ...ccp_alpha=1.510574018022475e-05;, score=0.874 total time=   0.0s\n",
      "[CV 5/5] END ...ccp_alpha=1.510574018022475e-05;, score=0.825 total time=   0.0s\n",
      "[CV 1/5] END ..ccp_alpha=1.5105740180911678e-05;, score=0.921 total time=   0.0s\n",
      "[CV 2/5] END ..ccp_alpha=1.5105740180911678e-05;, score=0.555 total time=   0.0s\n",
      "[CV 3/5] END ..ccp_alpha=1.5105740180911678e-05;, score=0.929 total time=   0.0s\n",
      "[CV 4/5] END ..ccp_alpha=1.5105740180911678e-05;, score=0.874 total time=   0.0s\n",
      "[CV 5/5] END ..ccp_alpha=1.5105740180911678e-05;, score=0.825 total time=   0.0s\n",
      "[CV 1/5] END ..ccp_alpha=1.5105740180911678e-05;, score=0.921 total time=   0.0s\n",
      "[CV 2/5] END ..ccp_alpha=1.5105740180911678e-05;, score=0.555 total time=   0.0s\n",
      "[CV 3/5] END ..ccp_alpha=1.5105740180911678e-05;, score=0.929 total time=   0.0s\n",
      "[CV 4/5] END ..ccp_alpha=1.5105740180911678e-05;, score=0.874 total time=   0.0s\n",
      "[CV 5/5] END ..ccp_alpha=1.5105740180911678e-05;, score=0.825 total time=   0.0s\n",
      "[CV 1/5] END ..ccp_alpha=1.5105740180911678e-05;, score=0.921 total time=   0.0s\n",
      "[CV 2/5] END ..ccp_alpha=1.5105740180911678e-05;, score=0.555 total time=   0.0s\n",
      "[CV 3/5] END ..ccp_alpha=1.5105740180911678e-05;, score=0.929 total time=   0.0s\n",
      "[CV 4/5] END ..ccp_alpha=1.5105740180911678e-05;, score=0.874 total time=   0.0s\n",
      "[CV 5/5] END ..ccp_alpha=1.5105740180911678e-05;, score=0.825 total time=   0.0s\n",
      "[CV 1/5] END ...ccp_alpha=1.510574018091168e-05;, score=0.921 total time=   0.0s\n",
      "[CV 2/5] END ...ccp_alpha=1.510574018091168e-05;, score=0.555 total time=   0.0s\n",
      "[CV 3/5] END ...ccp_alpha=1.510574018091168e-05;, score=0.929 total time=   0.0s\n",
      "[CV 4/5] END ...ccp_alpha=1.510574018091168e-05;, score=0.874 total time=   0.0s\n",
      "[CV 5/5] END ...ccp_alpha=1.510574018091168e-05;, score=0.825 total time=   0.0s\n",
      "[CV 1/5] END ...ccp_alpha=1.510574018091168e-05;, score=0.921 total time=   0.0s\n",
      "[CV 2/5] END ...ccp_alpha=1.510574018091168e-05;, score=0.555 total time=   0.0s\n",
      "[CV 3/5] END ...ccp_alpha=1.510574018091168e-05;, score=0.929 total time=   0.0s\n",
      "[CV 4/5] END ...ccp_alpha=1.510574018091168e-05;, score=0.874 total time=   0.0s\n",
      "[CV 5/5] END ...ccp_alpha=1.510574018091168e-05;, score=0.825 total time=   0.0s\n",
      "[CV 1/5] END ..ccp_alpha=1.5105740181083412e-05;, score=0.921 total time=   0.0s\n",
      "[CV 2/5] END ..ccp_alpha=1.5105740181083412e-05;, score=0.555 total time=   0.0s\n",
      "[CV 3/5] END ..ccp_alpha=1.5105740181083412e-05;, score=0.929 total time=   0.0s\n",
      "[CV 4/5] END ..ccp_alpha=1.5105740181083412e-05;, score=0.874 total time=   0.0s\n",
      "[CV 5/5] END ..ccp_alpha=1.5105740181083412e-05;, score=0.825 total time=   0.0s\n",
      "[CV 1/5] END ..ccp_alpha=1.5105740181255143e-05;, score=0.921 total time=   0.0s\n",
      "[CV 2/5] END ..ccp_alpha=1.5105740181255143e-05;, score=0.555 total time=   0.0s\n",
      "[CV 3/5] END ..ccp_alpha=1.5105740181255143e-05;, score=0.929 total time=   0.0s\n",
      "[CV 4/5] END ..ccp_alpha=1.5105740181255143e-05;, score=0.874 total time=   0.0s\n",
      "[CV 5/5] END ..ccp_alpha=1.5105740181255143e-05;, score=0.825 total time=   0.0s\n",
      "[CV 1/5] END ..ccp_alpha=1.5105740181598608e-05;, score=0.921 total time=   0.0s\n",
      "[CV 2/5] END ..ccp_alpha=1.5105740181598608e-05;, score=0.555 total time=   0.0s\n",
      "[CV 3/5] END ..ccp_alpha=1.5105740181598608e-05;, score=0.929 total time=   0.0s\n",
      "[CV 4/5] END ..ccp_alpha=1.5105740181598608e-05;, score=0.874 total time=   0.0s\n",
      "[CV 5/5] END ..ccp_alpha=1.5105740181598608e-05;, score=0.825 total time=   0.0s\n",
      "[CV 1/5] END ..ccp_alpha=1.5105740181598608e-05;, score=0.921 total time=   0.0s\n",
      "[CV 2/5] END ..ccp_alpha=1.5105740181598608e-05;, score=0.555 total time=   0.0s\n",
      "[CV 3/5] END ..ccp_alpha=1.5105740181598608e-05;, score=0.929 total time=   0.0s\n",
      "[CV 4/5] END ..ccp_alpha=1.5105740181598608e-05;, score=0.874 total time=   0.0s\n",
      "[CV 5/5] END ..ccp_alpha=1.5105740181598608e-05;, score=0.825 total time=   0.0s\n",
      "[CV 1/5] END ..ccp_alpha=1.5105740182285539e-05;, score=0.921 total time=   0.0s\n",
      "[CV 2/5] END ..ccp_alpha=1.5105740182285539e-05;, score=0.555 total time=   0.0s\n",
      "[CV 3/5] END ..ccp_alpha=1.5105740182285539e-05;, score=0.929 total time=   0.0s\n",
      "[CV 4/5] END ..ccp_alpha=1.5105740182285539e-05;, score=0.874 total time=   0.0s\n",
      "[CV 5/5] END ..ccp_alpha=1.5105740182285539e-05;, score=0.825 total time=   0.0s\n",
      "[CV 1/5] END ..ccp_alpha=1.5105740185033256e-05;, score=0.921 total time=   0.0s\n",
      "[CV 2/5] END ..ccp_alpha=1.5105740185033256e-05;, score=0.555 total time=   0.0s\n",
      "[CV 3/5] END ..ccp_alpha=1.5105740185033256e-05;, score=0.929 total time=   0.0s\n",
      "[CV 4/5] END ..ccp_alpha=1.5105740185033256e-05;, score=0.874 total time=   0.0s\n",
      "[CV 5/5] END ..ccp_alpha=1.5105740185033256e-05;, score=0.825 total time=   0.0s\n",
      "[CV 1/5] END ..ccp_alpha=1.5105740188467905e-05;, score=0.921 total time=   0.0s\n",
      "[CV 2/5] END ..ccp_alpha=1.5105740188467905e-05;, score=0.555 total time=   0.0s\n",
      "[CV 3/5] END ..ccp_alpha=1.5105740188467905e-05;, score=0.929 total time=   0.0s\n",
      "[CV 4/5] END ..ccp_alpha=1.5105740188467905e-05;, score=0.874 total time=   0.0s\n",
      "[CV 5/5] END ..ccp_alpha=1.5105740188467905e-05;, score=0.825 total time=   0.0s\n",
      "[CV 1/5] END ...ccp_alpha=2.014098690971405e-05;, score=0.921 total time=   0.0s\n",
      "[CV 2/5] END ...ccp_alpha=2.014098690971405e-05;, score=0.555 total time=   0.0s\n",
      "[CV 3/5] END ...ccp_alpha=2.014098690971405e-05;, score=0.929 total time=   0.0s\n",
      "[CV 4/5] END ...ccp_alpha=2.014098690971405e-05;, score=0.874 total time=   0.0s\n",
      "[CV 5/5] END ...ccp_alpha=2.014098690971405e-05;, score=0.825 total time=   0.0s\n",
      "[CV 1/5] END ...ccp_alpha=2.014098690971405e-05;, score=0.921 total time=   0.0s\n",
      "[CV 2/5] END ...ccp_alpha=2.014098690971405e-05;, score=0.555 total time=   0.0s\n",
      "[CV 3/5] END ...ccp_alpha=2.014098690971405e-05;, score=0.929 total time=   0.0s\n",
      "[CV 4/5] END ...ccp_alpha=2.014098690971405e-05;, score=0.874 total time=   0.0s\n",
      "[CV 5/5] END ...ccp_alpha=2.014098690971405e-05;, score=0.825 total time=   0.0s\n",
      "[CV 1/5] END ...ccp_alpha=2.265861026655901e-05;, score=0.921 total time=   0.0s\n",
      "[CV 2/5] END ...ccp_alpha=2.265861026655901e-05;, score=0.555 total time=   0.0s\n",
      "[CV 3/5] END ...ccp_alpha=2.265861026655901e-05;, score=0.929 total time=   0.0s\n",
      "[CV 4/5] END ...ccp_alpha=2.265861026655901e-05;, score=0.874 total time=   0.0s\n",
      "[CV 5/5] END ...ccp_alpha=2.265861026655901e-05;, score=0.825 total time=   0.0s\n",
      "[CV 1/5] END ..ccp_alpha=2.2658610272054447e-05;, score=0.921 total time=   0.0s\n",
      "[CV 2/5] END ..ccp_alpha=2.2658610272054447e-05;, score=0.555 total time=   0.0s\n",
      "[CV 3/5] END ..ccp_alpha=2.2658610272054447e-05;, score=0.929 total time=   0.0s\n",
      "[CV 4/5] END ..ccp_alpha=2.2658610272054447e-05;, score=0.874 total time=   0.0s\n",
      "[CV 5/5] END ..ccp_alpha=2.2658610272054447e-05;, score=0.825 total time=   0.0s\n",
      "[CV 1/5] END ..ccp_alpha=2.2658610284762645e-05;, score=0.921 total time=   0.0s\n",
      "[CV 2/5] END ..ccp_alpha=2.2658610284762645e-05;, score=0.555 total time=   0.0s\n",
      "[CV 3/5] END ..ccp_alpha=2.2658610284762645e-05;, score=0.929 total time=   0.0s\n",
      "[CV 4/5] END ..ccp_alpha=2.2658610284762645e-05;, score=0.874 total time=   0.0s\n",
      "[CV 5/5] END ..ccp_alpha=2.2658610284762645e-05;, score=0.825 total time=   0.0s\n",
      "[CV 1/5] END ..ccp_alpha=3.0211480361823356e-05;, score=0.921 total time=   0.0s\n",
      "[CV 2/5] END ..ccp_alpha=3.0211480361823356e-05;, score=0.555 total time=   0.0s\n",
      "[CV 3/5] END ..ccp_alpha=3.0211480361823356e-05;, score=0.929 total time=   0.0s\n",
      "[CV 4/5] END ..ccp_alpha=3.0211480361823356e-05;, score=0.874 total time=   0.0s\n",
      "[CV 5/5] END ..ccp_alpha=3.0211480361823356e-05;, score=0.825 total time=   0.0s\n",
      "[CV 1/5] END ..ccp_alpha=3.0211480364571077e-05;, score=0.921 total time=   0.0s\n",
      "[CV 2/5] END ..ccp_alpha=3.0211480364571077e-05;, score=0.555 total time=   0.0s\n",
      "[CV 3/5] END ..ccp_alpha=3.0211480364571077e-05;, score=0.929 total time=   0.0s\n",
      "[CV 4/5] END ..ccp_alpha=3.0211480364571077e-05;, score=0.874 total time=   0.0s\n",
      "[CV 5/5] END ..ccp_alpha=3.0211480364571077e-05;, score=0.825 total time=   0.0s\n",
      "[CV 1/5] END ...ccp_alpha=4.531722054479381e-05;, score=0.921 total time=   0.0s\n",
      "[CV 2/5] END ...ccp_alpha=4.531722054479381e-05;, score=0.555 total time=   0.0s\n",
      "[CV 3/5] END ...ccp_alpha=4.531722054479381e-05;, score=0.929 total time=   0.0s\n",
      "[CV 4/5] END ...ccp_alpha=4.531722054479381e-05;, score=0.874 total time=   0.0s\n",
      "[CV 5/5] END ...ccp_alpha=4.531722054479381e-05;, score=0.825 total time=   0.0s\n",
      "[CV 1/5] END ..ccp_alpha=4.5317220545826224e-05;, score=0.921 total time=   0.0s\n",
      "[CV 2/5] END ..ccp_alpha=4.5317220545826224e-05;, score=0.555 total time=   0.0s\n",
      "[CV 3/5] END ..ccp_alpha=4.5317220545826224e-05;, score=0.929 total time=   0.0s\n",
      "[CV 4/5] END ..ccp_alpha=4.5317220545826224e-05;, score=0.874 total time=   0.0s\n",
      "[CV 5/5] END ..ccp_alpha=4.5317220545826224e-05;, score=0.825 total time=   0.0s\n",
      "[CV 1/5] END ...ccp_alpha=4.531722055166512e-05;, score=0.921 total time=   0.0s\n",
      "[CV 2/5] END ...ccp_alpha=4.531722055166512e-05;, score=0.555 total time=   0.0s\n",
      "[CV 3/5] END ...ccp_alpha=4.531722055166512e-05;, score=0.929 total time=   0.0s\n",
      "[CV 4/5] END ...ccp_alpha=4.531722055166512e-05;, score=0.874 total time=   0.0s\n",
      "[CV 5/5] END ...ccp_alpha=4.531722055166512e-05;, score=0.825 total time=   0.0s\n",
      "[CV 1/5] END ...ccp_alpha=5.438066464990819e-05;, score=0.921 total time=   0.0s\n",
      "[CV 2/5] END ...ccp_alpha=5.438066464990819e-05;, score=0.555 total time=   0.0s\n",
      "[CV 3/5] END ...ccp_alpha=5.438066464990819e-05;, score=0.929 total time=   0.0s\n",
      "[CV 4/5] END ...ccp_alpha=5.438066464990819e-05;, score=0.874 total time=   0.0s\n",
      "[CV 5/5] END ...ccp_alpha=5.438066464990819e-05;, score=0.825 total time=   0.0s\n",
      "[CV 1/5] END ...ccp_alpha=6.042296072295978e-05;, score=0.921 total time=   0.0s\n",
      "[CV 2/5] END ...ccp_alpha=6.042296072295978e-05;, score=0.555 total time=   0.0s\n",
      "[CV 3/5] END ...ccp_alpha=6.042296072295978e-05;, score=0.929 total time=   0.0s\n",
      "[CV 4/5] END ...ccp_alpha=6.042296072295978e-05;, score=0.874 total time=   0.0s\n",
      "[CV 5/5] END ...ccp_alpha=6.042296072295978e-05;, score=0.825 total time=   0.0s\n",
      "[CV 1/5] END ...ccp_alpha=6.042296072502057e-05;, score=0.921 total time=   0.0s\n",
      "[CV 2/5] END ...ccp_alpha=6.042296072502057e-05;, score=0.555 total time=   0.0s\n",
      "[CV 3/5] END ...ccp_alpha=6.042296072502057e-05;, score=0.929 total time=   0.0s\n",
      "[CV 4/5] END ...ccp_alpha=6.042296072502057e-05;, score=0.874 total time=   0.0s\n",
      "[CV 5/5] END ...ccp_alpha=6.042296072502057e-05;, score=0.825 total time=   0.0s\n",
      "[CV 1/5] END ...ccp_alpha=6.042296072502057e-05;, score=0.921 total time=   0.0s\n",
      "[CV 2/5] END ...ccp_alpha=6.042296072502057e-05;, score=0.555 total time=   0.0s\n",
      "[CV 3/5] END ...ccp_alpha=6.042296072502057e-05;, score=0.929 total time=   0.0s\n",
      "[CV 4/5] END ...ccp_alpha=6.042296072502057e-05;, score=0.874 total time=   0.0s\n",
      "[CV 5/5] END ...ccp_alpha=6.042296072502057e-05;, score=0.825 total time=   0.0s\n",
      "[CV 1/5] END ...ccp_alpha=6.042296072502057e-05;, score=0.921 total time=   0.0s\n",
      "[CV 2/5] END ...ccp_alpha=6.042296072502057e-05;, score=0.555 total time=   0.0s\n",
      "[CV 3/5] END ...ccp_alpha=6.042296072502057e-05;, score=0.929 total time=   0.0s\n",
      "[CV 4/5] END ...ccp_alpha=6.042296072502057e-05;, score=0.874 total time=   0.0s\n",
      "[CV 5/5] END ...ccp_alpha=6.042296072502057e-05;, score=0.825 total time=   0.0s\n",
      "[CV 1/5] END ..ccp_alpha=6.0422960725192304e-05;, score=0.921 total time=   0.0s\n",
      "[CV 2/5] END ..ccp_alpha=6.0422960725192304e-05;, score=0.555 total time=   0.0s\n",
      "[CV 3/5] END ..ccp_alpha=6.0422960725192304e-05;, score=0.929 total time=   0.0s\n",
      "[CV 4/5] END ..ccp_alpha=6.0422960725192304e-05;, score=0.874 total time=   0.0s\n",
      "[CV 5/5] END ..ccp_alpha=6.0422960725192304e-05;, score=0.825 total time=   0.0s\n",
      "[CV 1/5] END ...ccp_alpha=6.042296072570751e-05;, score=0.921 total time=   0.0s\n",
      "[CV 2/5] END ...ccp_alpha=6.042296072570751e-05;, score=0.555 total time=   0.0s\n",
      "[CV 3/5] END ...ccp_alpha=6.042296072570751e-05;, score=0.929 total time=   0.0s\n",
      "[CV 4/5] END ...ccp_alpha=6.042296072570751e-05;, score=0.874 total time=   0.0s\n",
      "[CV 5/5] END ...ccp_alpha=6.042296072570751e-05;, score=0.825 total time=   0.0s\n",
      "[CV 1/5] END ..ccp_alpha=6.0422960727768294e-05;, score=0.921 total time=   0.0s\n",
      "[CV 2/5] END ..ccp_alpha=6.0422960727768294e-05;, score=0.555 total time=   0.0s\n",
      "[CV 3/5] END ..ccp_alpha=6.0422960727768294e-05;, score=0.929 total time=   0.0s\n",
      "[CV 4/5] END ..ccp_alpha=6.0422960727768294e-05;, score=0.874 total time=   0.0s\n",
      "[CV 5/5] END ..ccp_alpha=6.0422960727768294e-05;, score=0.825 total time=   0.0s\n",
      "[CV 1/5] END ....ccp_alpha=7.17522658653411e-05;, score=0.921 total time=   0.0s\n",
      "[CV 2/5] END ....ccp_alpha=7.17522658653411e-05;, score=0.555 total time=   0.0s\n",
      "[CV 3/5] END ....ccp_alpha=7.17522658653411e-05;, score=0.929 total time=   0.0s\n",
      "[CV 4/5] END ....ccp_alpha=7.17522658653411e-05;, score=0.874 total time=   0.0s\n",
      "[CV 5/5] END ....ccp_alpha=7.17522658653411e-05;, score=0.825 total time=   0.0s\n",
      "[CV 1/5] END ...ccp_alpha=8.056394763198691e-05;, score=0.921 total time=   0.0s\n",
      "[CV 2/5] END ...ccp_alpha=8.056394763198691e-05;, score=0.555 total time=   0.0s\n",
      "[CV 3/5] END ...ccp_alpha=8.056394763198691e-05;, score=0.929 total time=   0.0s\n",
      "[CV 4/5] END ...ccp_alpha=8.056394763198691e-05;, score=0.874 total time=   0.0s\n",
      "[CV 5/5] END ...ccp_alpha=8.056394763198691e-05;, score=0.825 total time=   0.0s\n",
      "[CV 1/5] END ...ccp_alpha=8.056394763319291e-05;, score=0.921 total time=   0.0s\n",
      "[CV 2/5] END ...ccp_alpha=8.056394763319291e-05;, score=0.555 total time=   0.0s\n",
      "[CV 3/5] END ...ccp_alpha=8.056394763319291e-05;, score=0.929 total time=   0.0s\n",
      "[CV 4/5] END ...ccp_alpha=8.056394763319291e-05;, score=0.874 total time=   0.0s\n",
      "[CV 5/5] END ...ccp_alpha=8.056394763319291e-05;, score=0.825 total time=   0.0s\n",
      "[CV 1/5] END ...ccp_alpha=8.056394763610848e-05;, score=0.921 total time=   0.0s\n",
      "[CV 2/5] END ...ccp_alpha=8.056394763610848e-05;, score=0.555 total time=   0.0s\n",
      "[CV 3/5] END ...ccp_alpha=8.056394763610848e-05;, score=0.929 total time=   0.0s\n",
      "[CV 4/5] END ...ccp_alpha=8.056394763610848e-05;, score=0.874 total time=   0.0s\n",
      "[CV 5/5] END ...ccp_alpha=8.056394763610848e-05;, score=0.825 total time=   0.0s\n",
      "[CV 1/5] END ...ccp_alpha=8.056394764160392e-05;, score=0.921 total time=   0.0s\n",
      "[CV 2/5] END ...ccp_alpha=8.056394764160392e-05;, score=0.555 total time=   0.0s\n",
      "[CV 3/5] END ...ccp_alpha=8.056394764160392e-05;, score=0.929 total time=   0.0s\n",
      "[CV 4/5] END ...ccp_alpha=8.056394764160392e-05;, score=0.874 total time=   0.0s\n",
      "[CV 5/5] END ...ccp_alpha=8.056394764160392e-05;, score=0.825 total time=   0.0s\n",
      "[CV 1/5] END ..ccp_alpha=0.00012084592145278885;, score=0.921 total time=   0.0s\n",
      "[CV 2/5] END ..ccp_alpha=0.00012084592145278885;, score=0.555 total time=   0.0s\n",
      "[CV 3/5] END ..ccp_alpha=0.00012084592145278885;, score=0.929 total time=   0.0s\n",
      "[CV 4/5] END ..ccp_alpha=0.00012084592145278885;, score=0.874 total time=   0.0s\n",
      "[CV 5/5] END ..ccp_alpha=0.00012084592145278885;, score=0.825 total time=   0.0s\n",
      "[CV 1/5] END ...ccp_alpha=0.0001223564954684758;, score=0.921 total time=   0.0s\n",
      "[CV 2/5] END ...ccp_alpha=0.0001223564954684758;, score=0.555 total time=   0.0s\n",
      "[CV 3/5] END ...ccp_alpha=0.0001223564954684758;, score=0.929 total time=   0.0s\n",
      "[CV 4/5] END ...ccp_alpha=0.0001223564954684758;, score=0.874 total time=   0.0s\n",
      "[CV 5/5] END ...ccp_alpha=0.0001223564954684758;, score=0.825 total time=   0.0s\n",
      "[CV 1/5] END ..ccp_alpha=0.00012588116817540887;, score=0.921 total time=   0.0s\n",
      "[CV 2/5] END ..ccp_alpha=0.00012588116817540887;, score=0.555 total time=   0.0s\n",
      "[CV 3/5] END ..ccp_alpha=0.00012588116817540887;, score=0.929 total time=   0.0s\n",
      "[CV 4/5] END ..ccp_alpha=0.00012588116817540887;, score=0.874 total time=   0.0s\n",
      "[CV 5/5] END ..ccp_alpha=0.00012588116817540887;, score=0.825 total time=   0.0s\n",
      "[CV 1/5] END ...ccp_alpha=0.0001359516616312963;, score=0.921 total time=   0.0s\n",
      "[CV 2/5] END ...ccp_alpha=0.0001359516616312963;, score=0.555 total time=   0.0s\n",
      "[CV 3/5] END ...ccp_alpha=0.0001359516616312963;, score=0.929 total time=   0.0s\n",
      "[CV 4/5] END ...ccp_alpha=0.0001359516616312963;, score=0.874 total time=   0.0s\n",
      "[CV 5/5] END ...ccp_alpha=0.0001359516616312963;, score=0.825 total time=   0.0s\n",
      "[CV 1/5] END ..ccp_alpha=0.00013595166163438748;, score=0.921 total time=   0.0s\n",
      "[CV 2/5] END ..ccp_alpha=0.00013595166163438748;, score=0.555 total time=   0.0s\n",
      "[CV 3/5] END ..ccp_alpha=0.00013595166163438748;, score=0.929 total time=   0.0s\n",
      "[CV 4/5] END ..ccp_alpha=0.00013595166163438748;, score=0.874 total time=   0.0s\n",
      "[CV 5/5] END ..ccp_alpha=0.00013595166163438748;, score=0.825 total time=   0.0s\n",
      "[CV 1/5] END ..ccp_alpha=0.00013595166163576133;, score=0.921 total time=   0.0s\n",
      "[CV 2/5] END ..ccp_alpha=0.00013595166163576133;, score=0.555 total time=   0.0s\n",
      "[CV 3/5] END ..ccp_alpha=0.00013595166163576133;, score=0.929 total time=   0.0s\n",
      "[CV 4/5] END ..ccp_alpha=0.00013595166163576133;, score=0.874 total time=   0.0s\n",
      "[CV 5/5] END ..ccp_alpha=0.00013595166163576133;, score=0.825 total time=   0.0s\n",
      "[CV 1/5] END ..ccp_alpha=0.00015105740181117755;, score=0.921 total time=   0.0s\n",
      "[CV 2/5] END ..ccp_alpha=0.00015105740181117755;, score=0.555 total time=   0.0s\n",
      "[CV 3/5] END ..ccp_alpha=0.00015105740181117755;, score=0.929 total time=   0.0s\n",
      "[CV 4/5] END ..ccp_alpha=0.00015105740181117755;, score=0.874 total time=   0.0s\n",
      "[CV 5/5] END ..ccp_alpha=0.00015105740181117755;, score=0.825 total time=   0.0s\n",
      "[CV 1/5] END ..ccp_alpha=0.00016112789526569112;, score=0.921 total time=   0.0s\n",
      "[CV 2/5] END ..ccp_alpha=0.00016112789526569112;, score=0.555 total time=   0.0s\n",
      "[CV 3/5] END ..ccp_alpha=0.00016112789526569112;, score=0.929 total time=   0.0s\n",
      "[CV 4/5] END ..ccp_alpha=0.00016112789526569112;, score=0.874 total time=   0.0s\n",
      "[CV 5/5] END ..ccp_alpha=0.00016112789526569112;, score=0.825 total time=   0.0s\n",
      "[CV 1/5] END ..ccp_alpha=0.00018126888216956488;, score=0.921 total time=   0.0s\n",
      "[CV 2/5] END ..ccp_alpha=0.00018126888216956488;, score=0.555 total time=   0.0s\n",
      "[CV 3/5] END ..ccp_alpha=0.00018126888216956488;, score=0.929 total time=   0.0s\n",
      "[CV 4/5] END ..ccp_alpha=0.00018126888216956488;, score=0.874 total time=   0.0s\n",
      "[CV 5/5] END ..ccp_alpha=0.00018126888216956488;, score=0.824 total time=   0.0s\n",
      "[CV 1/5] END ..ccp_alpha=0.00020392749244952044;, score=0.921 total time=   0.0s\n",
      "[CV 2/5] END ..ccp_alpha=0.00020392749244952044;, score=0.555 total time=   0.0s\n",
      "[CV 3/5] END ..ccp_alpha=0.00020392749244952044;, score=0.929 total time=   0.0s\n",
      "[CV 4/5] END ..ccp_alpha=0.00020392749244952044;, score=0.874 total time=   0.0s\n",
      "[CV 5/5] END ..ccp_alpha=0.00020392749244952044;, score=0.824 total time=   0.0s\n",
      "[CV 1/5] END ..ccp_alpha=0.00020392749245020736;, score=0.921 total time=   0.0s\n",
      "[CV 2/5] END ..ccp_alpha=0.00020392749245020736;, score=0.555 total time=   0.0s\n",
      "[CV 3/5] END ..ccp_alpha=0.00020392749245020736;, score=0.929 total time=   0.0s\n",
      "[CV 4/5] END ..ccp_alpha=0.00020392749245020736;, score=0.874 total time=   0.0s\n",
      "[CV 5/5] END ..ccp_alpha=0.00020392749245020736;, score=0.824 total time=   0.0s\n",
      "[CV 1/5] END ...ccp_alpha=0.0002114803625403197;, score=0.921 total time=   0.0s\n",
      "[CV 2/5] END ...ccp_alpha=0.0002114803625403197;, score=0.555 total time=   0.0s\n",
      "[CV 3/5] END ...ccp_alpha=0.0002114803625403197;, score=0.929 total time=   0.0s\n",
      "[CV 4/5] END ...ccp_alpha=0.0002114803625403197;, score=0.874 total time=   0.0s\n",
      "[CV 5/5] END ...ccp_alpha=0.0002114803625403197;, score=0.824 total time=   0.0s\n",
      "[CV 1/5] END ..ccp_alpha=0.00024169184289664765;, score=0.921 total time=   0.0s\n",
      "[CV 2/5] END ..ccp_alpha=0.00024169184289664765;, score=0.555 total time=   0.0s\n",
      "[CV 3/5] END ..ccp_alpha=0.00024169184289664765;, score=0.929 total time=   0.0s\n",
      "[CV 4/5] END ..ccp_alpha=0.00024169184289664765;, score=0.874 total time=   0.0s\n",
      "[CV 5/5] END ..ccp_alpha=0.00024169184289664765;, score=0.824 total time=   0.0s\n",
      "[CV 1/5] END ...ccp_alpha=0.0002416918429000823;, score=0.921 total time=   0.0s\n",
      "[CV 2/5] END ...ccp_alpha=0.0002416918429000823;, score=0.555 total time=   0.0s\n",
      "[CV 3/5] END ...ccp_alpha=0.0002416918429000823;, score=0.929 total time=   0.0s\n",
      "[CV 4/5] END ...ccp_alpha=0.0002416918429000823;, score=0.874 total time=   0.0s\n",
      "[CV 5/5] END ...ccp_alpha=0.0002416918429000823;, score=0.824 total time=   0.0s\n",
      "[CV 1/5] END ...ccp_alpha=0.0002416918429000823;, score=0.921 total time=   0.0s\n",
      "[CV 2/5] END ...ccp_alpha=0.0002416918429000823;, score=0.555 total time=   0.0s\n",
      "[CV 3/5] END ...ccp_alpha=0.0002416918429000823;, score=0.929 total time=   0.0s\n",
      "[CV 4/5] END ...ccp_alpha=0.0002416918429000823;, score=0.874 total time=   0.0s\n",
      "[CV 5/5] END ...ccp_alpha=0.0002416918429000823;, score=0.824 total time=   0.0s\n",
      "[CV 1/5] END ..ccp_alpha=0.00024169184290076924;, score=0.921 total time=   0.0s\n",
      "[CV 2/5] END ..ccp_alpha=0.00024169184290076924;, score=0.555 total time=   0.0s\n",
      "[CV 3/5] END ..ccp_alpha=0.00024169184290076924;, score=0.929 total time=   0.0s\n",
      "[CV 4/5] END ..ccp_alpha=0.00024169184290076924;, score=0.874 total time=   0.0s\n",
      "[CV 5/5] END ..ccp_alpha=0.00024169184290076924;, score=0.824 total time=   0.0s\n",
      "[CV 1/5] END ...ccp_alpha=0.0002467270896264804;, score=0.921 total time=   0.0s\n",
      "[CV 2/5] END ...ccp_alpha=0.0002467270896264804;, score=0.555 total time=   0.0s\n",
      "[CV 3/5] END ...ccp_alpha=0.0002467270896264804;, score=0.929 total time=   0.0s\n",
      "[CV 4/5] END ...ccp_alpha=0.0002467270896264804;, score=0.874 total time=   0.0s\n",
      "[CV 5/5] END ...ccp_alpha=0.0002467270896264804;, score=0.824 total time=   0.0s\n",
      "[CV 1/5] END ...ccp_alpha=0.0002467270896295716;, score=0.921 total time=   0.0s\n",
      "[CV 2/5] END ...ccp_alpha=0.0002467270896295716;, score=0.555 total time=   0.0s\n",
      "[CV 3/5] END ...ccp_alpha=0.0002467270896295716;, score=0.929 total time=   0.0s\n",
      "[CV 4/5] END ...ccp_alpha=0.0002467270896295716;, score=0.874 total time=   0.0s\n",
      "[CV 5/5] END ...ccp_alpha=0.0002467270896295716;, score=0.824 total time=   0.0s\n",
      "[CV 1/5] END ..ccp_alpha=0.00024672708963094543;, score=0.921 total time=   0.0s\n",
      "[CV 2/5] END ..ccp_alpha=0.00024672708963094543;, score=0.555 total time=   0.0s\n",
      "[CV 3/5] END ..ccp_alpha=0.00024672708963094543;, score=0.929 total time=   0.0s\n",
      "[CV 4/5] END ..ccp_alpha=0.00024672708963094543;, score=0.874 total time=   0.0s\n",
      "[CV 5/5] END ..ccp_alpha=0.00024672708963094543;, score=0.824 total time=   0.0s\n",
      "[CV 1/5] END ...ccp_alpha=0.0002719033232632795;, score=0.921 total time=   0.0s\n",
      "[CV 2/5] END ...ccp_alpha=0.0002719033232632795;, score=0.555 total time=   0.0s\n",
      "[CV 3/5] END ...ccp_alpha=0.0002719033232632795;, score=0.929 total time=   0.0s\n",
      "[CV 4/5] END ...ccp_alpha=0.0002719033232632795;, score=0.874 total time=   0.0s\n",
      "[CV 5/5] END ...ccp_alpha=0.0002719033232632795;, score=0.824 total time=   0.0s\n",
      "[CV 1/5] END ..ccp_alpha=0.00030463242699053445;, score=0.921 total time=   0.0s\n",
      "[CV 2/5] END ..ccp_alpha=0.00030463242699053445;, score=0.555 total time=   0.0s\n",
      "[CV 3/5] END ..ccp_alpha=0.00030463242699053445;, score=0.929 total time=   0.0s\n",
      "[CV 4/5] END ..ccp_alpha=0.00030463242699053445;, score=0.875 total time=   0.0s\n",
      "[CV 5/5] END ..ccp_alpha=0.00030463242699053445;, score=0.824 total time=   0.0s\n",
      "[CV 1/5] END ...ccp_alpha=0.0003222557905358525;, score=0.921 total time=   0.0s\n",
      "[CV 2/5] END ...ccp_alpha=0.0003222557905358525;, score=0.555 total time=   0.0s\n",
      "[CV 3/5] END ...ccp_alpha=0.0003222557905358525;, score=0.929 total time=   0.0s\n",
      "[CV 4/5] END ...ccp_alpha=0.0003222557905358525;, score=0.875 total time=   0.0s\n",
      "[CV 5/5] END ...ccp_alpha=0.0003222557905358525;, score=0.824 total time=   0.0s\n",
      "[CV 1/5] END ...ccp_alpha=0.0003776435045303482;, score=0.921 total time=   0.0s\n",
      "[CV 2/5] END ...ccp_alpha=0.0003776435045303482;, score=0.555 total time=   0.0s\n",
      "[CV 3/5] END ...ccp_alpha=0.0003776435045303482;, score=0.929 total time=   0.0s\n",
      "[CV 4/5] END ...ccp_alpha=0.0003776435045303482;, score=0.875 total time=   0.0s\n",
      "[CV 5/5] END ...ccp_alpha=0.0003776435045303482;, score=0.824 total time=   0.0s\n",
      "[CV 1/5] END ...ccp_alpha=0.0003776435045330959;, score=0.921 total time=   0.0s\n",
      "[CV 2/5] END ...ccp_alpha=0.0003776435045330959;, score=0.555 total time=   0.0s\n",
      "[CV 3/5] END ...ccp_alpha=0.0003776435045330959;, score=0.929 total time=   0.0s\n",
      "[CV 4/5] END ...ccp_alpha=0.0003776435045330959;, score=0.875 total time=   0.0s\n",
      "[CV 5/5] END ...ccp_alpha=0.0003776435045330959;, score=0.824 total time=   0.0s\n",
      "[CV 1/5] END ...ccp_alpha=0.0004078549848921716;, score=0.921 total time=   0.0s\n",
      "[CV 2/5] END ...ccp_alpha=0.0004078549848921716;, score=0.555 total time=   0.0s\n",
      "[CV 3/5] END ...ccp_alpha=0.0004078549848921716;, score=0.929 total time=   0.0s\n",
      "[CV 4/5] END ...ccp_alpha=0.0004078549848921716;, score=0.874 total time=   0.0s\n",
      "[CV 5/5] END ...ccp_alpha=0.0004078549848921716;, score=0.824 total time=   0.0s\n",
      "[CV 1/5] END ....ccp_alpha=0.000444108761341472;, score=0.921 total time=   0.0s\n",
      "[CV 2/5] END ....ccp_alpha=0.000444108761341472;, score=0.555 total time=   0.0s\n",
      "[CV 3/5] END ....ccp_alpha=0.000444108761341472;, score=0.929 total time=   0.0s\n",
      "[CV 4/5] END ....ccp_alpha=0.000444108761341472;, score=0.874 total time=   0.0s\n",
      "[CV 5/5] END ....ccp_alpha=0.000444108761341472;, score=0.824 total time=   0.0s\n",
      "[CV 1/5] END ..ccp_alpha=0.00044813695872052974;, score=0.921 total time=   0.0s\n",
      "[CV 2/5] END ..ccp_alpha=0.00044813695872052974;, score=0.555 total time=   0.0s\n",
      "[CV 3/5] END ..ccp_alpha=0.00044813695872052974;, score=0.929 total time=   0.0s\n",
      "[CV 4/5] END ..ccp_alpha=0.00044813695872052974;, score=0.874 total time=   0.0s\n",
      "[CV 5/5] END ..ccp_alpha=0.00044813695872052974;, score=0.824 total time=   0.0s\n",
      "[CV 1/5] END ...ccp_alpha=0.0004720543806683163;, score=0.921 total time=   0.0s\n",
      "[CV 2/5] END ...ccp_alpha=0.0004720543806683163;, score=0.555 total time=   0.0s\n",
      "[CV 3/5] END ...ccp_alpha=0.0004720543806683163;, score=0.929 total time=   0.0s\n",
      "[CV 4/5] END ...ccp_alpha=0.0004720543806683163;, score=0.874 total time=   0.0s\n",
      "[CV 5/5] END ...ccp_alpha=0.0004720543806683163;, score=0.825 total time=   0.0s\n",
      "[CV 1/5] END ...ccp_alpha=0.0005035246727036963;, score=0.921 total time=   0.0s\n",
      "[CV 2/5] END ...ccp_alpha=0.0005035246727036963;, score=0.555 total time=   0.0s\n",
      "[CV 3/5] END ...ccp_alpha=0.0005035246727036963;, score=0.929 total time=   0.0s\n",
      "[CV 4/5] END ...ccp_alpha=0.0005035246727036963;, score=0.874 total time=   0.0s\n",
      "[CV 5/5] END ...ccp_alpha=0.0005035246727036963;, score=0.825 total time=   0.0s\n",
      "[CV 1/5] END ...ccp_alpha=0.0005438066465255286;, score=0.921 total time=   0.0s\n",
      "[CV 2/5] END ...ccp_alpha=0.0005438066465255286;, score=0.555 total time=   0.0s\n",
      "[CV 3/5] END ...ccp_alpha=0.0005438066465255286;, score=0.929 total time=   0.0s\n",
      "[CV 4/5] END ...ccp_alpha=0.0005438066465255286;, score=0.874 total time=   0.0s\n",
      "[CV 5/5] END ...ccp_alpha=0.0005438066465255286;, score=0.825 total time=   0.0s\n",
      "[CV 1/5] END ...ccp_alpha=0.0005438066465257004;, score=0.921 total time=   0.0s\n",
      "[CV 2/5] END ...ccp_alpha=0.0005438066465257004;, score=0.555 total time=   0.0s\n",
      "[CV 3/5] END ...ccp_alpha=0.0005438066465257004;, score=0.929 total time=   0.0s\n",
      "[CV 4/5] END ...ccp_alpha=0.0005438066465257004;, score=0.874 total time=   0.0s\n",
      "[CV 5/5] END ...ccp_alpha=0.0005438066465257004;, score=0.825 total time=   0.0s\n",
      "[CV 1/5] END ...ccp_alpha=0.0005438066465257004;, score=0.921 total time=   0.0s\n",
      "[CV 2/5] END ...ccp_alpha=0.0005438066465257004;, score=0.555 total time=   0.0s\n",
      "[CV 3/5] END ...ccp_alpha=0.0005438066465257004;, score=0.929 total time=   0.0s\n",
      "[CV 4/5] END ...ccp_alpha=0.0005438066465257004;, score=0.874 total time=   0.0s\n",
      "[CV 5/5] END ...ccp_alpha=0.0005438066465257004;, score=0.825 total time=   0.0s\n",
      "[CV 1/5] END ...ccp_alpha=0.0005438066465258721;, score=0.921 total time=   0.0s\n",
      "[CV 2/5] END ...ccp_alpha=0.0005438066465258721;, score=0.555 total time=   0.0s\n",
      "[CV 3/5] END ...ccp_alpha=0.0005438066465258721;, score=0.929 total time=   0.0s\n",
      "[CV 4/5] END ...ccp_alpha=0.0005438066465258721;, score=0.874 total time=   0.0s\n",
      "[CV 5/5] END ...ccp_alpha=0.0005438066465258721;, score=0.825 total time=   0.0s\n",
      "[CV 1/5] END ....ccp_alpha=0.000543806646525958;, score=0.921 total time=   0.0s\n",
      "[CV 2/5] END ....ccp_alpha=0.000543806646525958;, score=0.555 total time=   0.0s\n",
      "[CV 3/5] END ....ccp_alpha=0.000543806646525958;, score=0.929 total time=   0.0s\n",
      "[CV 4/5] END ....ccp_alpha=0.000543806646525958;, score=0.874 total time=   0.0s\n",
      "[CV 5/5] END ....ccp_alpha=0.000543806646525958;, score=0.825 total time=   0.0s\n",
      "[CV 1/5] END ....ccp_alpha=0.000543806646526559;, score=0.921 total time=   0.0s\n",
      "[CV 2/5] END ....ccp_alpha=0.000543806646526559;, score=0.555 total time=   0.0s\n",
      "[CV 3/5] END ....ccp_alpha=0.000543806646526559;, score=0.929 total time=   0.0s\n",
      "[CV 4/5] END ....ccp_alpha=0.000543806646526559;, score=0.874 total time=   0.0s\n",
      "[CV 5/5] END ....ccp_alpha=0.000543806646526559;, score=0.825 total time=   0.0s\n",
      "[CV 1/5] END ...ccp_alpha=0.0005664652567938049;, score=0.920 total time=   0.0s\n",
      "[CV 2/5] END ...ccp_alpha=0.0005664652567938049;, score=0.555 total time=   0.0s\n",
      "[CV 3/5] END ...ccp_alpha=0.0005664652567938049;, score=0.929 total time=   0.0s\n",
      "[CV 4/5] END ...ccp_alpha=0.0005664652567938049;, score=0.874 total time=   0.0s\n",
      "[CV 5/5] END ...ccp_alpha=0.0005664652567938049;, score=0.825 total time=   0.0s\n",
      "[CV 1/5] END ...ccp_alpha=0.0005740181268883824;, score=0.920 total time=   0.0s\n",
      "[CV 2/5] END ...ccp_alpha=0.0005740181268883824;, score=0.555 total time=   0.0s\n",
      "[CV 3/5] END ...ccp_alpha=0.0005740181268883824;, score=0.929 total time=   0.0s\n",
      "[CV 4/5] END ...ccp_alpha=0.0005740181268883824;, score=0.874 total time=   0.0s\n",
      "[CV 5/5] END ...ccp_alpha=0.0005740181268883824;, score=0.825 total time=   0.0s\n",
      "[CV 1/5] END ...ccp_alpha=0.0006092648539721386;, score=0.920 total time=   0.0s\n",
      "[CV 2/5] END ...ccp_alpha=0.0006092648539721386;, score=0.555 total time=   0.0s\n",
      "[CV 3/5] END ...ccp_alpha=0.0006092648539721386;, score=0.929 total time=   0.0s\n",
      "[CV 4/5] END ...ccp_alpha=0.0006092648539721386;, score=0.874 total time=   0.0s\n",
      "[CV 5/5] END ...ccp_alpha=0.0006092648539721386;, score=0.825 total time=   0.0s\n",
      "[CV 1/5] END ...ccp_alpha=0.0006294058408756705;, score=0.920 total time=   0.0s\n",
      "[CV 2/5] END ...ccp_alpha=0.0006294058408756705;, score=0.555 total time=   0.0s\n",
      "[CV 3/5] END ...ccp_alpha=0.0006294058408756705;, score=0.929 total time=   0.0s\n",
      "[CV 4/5] END ...ccp_alpha=0.0006294058408756705;, score=0.874 total time=   0.0s\n",
      "[CV 5/5] END ...ccp_alpha=0.0006294058408756705;, score=0.825 total time=   0.0s\n",
      "[CV 1/5] END ...ccp_alpha=0.0007401812688790978;, score=0.920 total time=   0.0s\n",
      "[CV 2/5] END ...ccp_alpha=0.0007401812688790978;, score=0.555 total time=   0.0s\n",
      "[CV 3/5] END ...ccp_alpha=0.0007401812688790978;, score=0.929 total time=   0.0s\n",
      "[CV 4/5] END ...ccp_alpha=0.0007401812688790978;, score=0.874 total time=   0.0s\n",
      "[CV 5/5] END ...ccp_alpha=0.0007401812688790978;, score=0.824 total time=   0.0s\n",
      "[CV 1/5] END ...ccp_alpha=0.0007401812688852802;, score=0.920 total time=   0.0s\n",
      "[CV 2/5] END ...ccp_alpha=0.0007401812688852802;, score=0.555 total time=   0.0s\n",
      "[CV 3/5] END ...ccp_alpha=0.0007401812688852802;, score=0.929 total time=   0.0s\n",
      "[CV 4/5] END ...ccp_alpha=0.0007401812688852802;, score=0.874 total time=   0.0s\n",
      "[CV 5/5] END ...ccp_alpha=0.0007401812688852802;, score=0.824 total time=   0.0s\n",
      "[CV 1/5] END ...ccp_alpha=0.0007552870090651614;, score=0.920 total time=   0.0s\n",
      "[CV 2/5] END ...ccp_alpha=0.0007552870090651614;, score=0.555 total time=   0.0s\n",
      "[CV 3/5] END ...ccp_alpha=0.0007552870090651614;, score=0.929 total time=   0.0s\n",
      "[CV 4/5] END ...ccp_alpha=0.0007552870090651614;, score=0.874 total time=   0.0s\n",
      "[CV 5/5] END ...ccp_alpha=0.0007552870090651614;, score=0.824 total time=   0.0s\n",
      "[CV 1/5] END ...ccp_alpha=0.0008224236320449915;, score=0.920 total time=   0.0s\n",
      "[CV 2/5] END ...ccp_alpha=0.0008224236320449915;, score=0.555 total time=   0.0s\n",
      "[CV 3/5] END ...ccp_alpha=0.0008224236320449915;, score=0.929 total time=   0.0s\n",
      "[CV 4/5] END ...ccp_alpha=0.0008224236320449915;, score=0.874 total time=   0.0s\n",
      "[CV 5/5] END ...ccp_alpha=0.0008224236320449915;, score=0.824 total time=   0.0s\n",
      "[CV 1/5] END ...ccp_alpha=0.0008559919436053168;, score=0.920 total time=   0.0s\n",
      "[CV 2/5] END ...ccp_alpha=0.0008559919436053168;, score=0.555 total time=   0.0s\n",
      "[CV 3/5] END ...ccp_alpha=0.0008559919436053168;, score=0.929 total time=   0.0s\n",
      "[CV 4/5] END ...ccp_alpha=0.0008559919436053168;, score=0.874 total time=   0.0s\n",
      "[CV 5/5] END ...ccp_alpha=0.0008559919436053168;, score=0.824 total time=   0.0s\n",
      "[CV 1/5] END ....ccp_alpha=0.000966767371597925;, score=0.920 total time=   0.0s\n",
      "[CV 2/5] END ....ccp_alpha=0.000966767371597925;, score=0.555 total time=   0.0s\n",
      "[CV 3/5] END ....ccp_alpha=0.000966767371597925;, score=0.930 total time=   0.0s\n",
      "[CV 4/5] END ....ccp_alpha=0.000966767371597925;, score=0.874 total time=   0.0s\n",
      "[CV 5/5] END ....ccp_alpha=0.000966767371597925;, score=0.825 total time=   0.0s\n",
      "[CV 1/5] END ...ccp_alpha=0.0009667673716071985;, score=0.920 total time=   0.0s\n",
      "[CV 2/5] END ...ccp_alpha=0.0009667673716071985;, score=0.555 total time=   0.0s\n",
      "[CV 3/5] END ...ccp_alpha=0.0009667673716071985;, score=0.930 total time=   0.0s\n",
      "[CV 4/5] END ...ccp_alpha=0.0009667673716071985;, score=0.874 total time=   0.0s\n",
      "[CV 5/5] END ...ccp_alpha=0.0009667673716071985;, score=0.825 total time=   0.0s\n",
      "[CV 1/5] END ...ccp_alpha=0.0009677744209504173;, score=0.920 total time=   0.0s\n",
      "[CV 2/5] END ...ccp_alpha=0.0009677744209504173;, score=0.555 total time=   0.0s\n",
      "[CV 3/5] END ...ccp_alpha=0.0009677744209504173;, score=0.930 total time=   0.0s\n",
      "[CV 4/5] END ...ccp_alpha=0.0009677744209504173;, score=0.874 total time=   0.0s\n",
      "[CV 5/5] END ...ccp_alpha=0.0009677744209504173;, score=0.825 total time=   0.0s\n",
      "[CV 1/5] END ...ccp_alpha=0.0009869083585072956;, score=0.920 total time=   0.0s\n",
      "[CV 2/5] END ...ccp_alpha=0.0009869083585072956;, score=0.555 total time=   0.0s\n",
      "[CV 3/5] END ...ccp_alpha=0.0009869083585072956;, score=0.930 total time=   0.0s\n",
      "[CV 4/5] END ...ccp_alpha=0.0009869083585072956;, score=0.874 total time=   0.0s\n",
      "[CV 5/5] END ...ccp_alpha=0.0009869083585072956;, score=0.825 total time=   0.0s\n",
      "[CV 1/5] END ...ccp_alpha=0.0010070493454180374;, score=0.920 total time=   0.0s\n",
      "[CV 2/5] END ...ccp_alpha=0.0010070493454180374;, score=0.555 total time=   0.0s\n",
      "[CV 3/5] END ...ccp_alpha=0.0010070493454180374;, score=0.930 total time=   0.0s\n",
      "[CV 4/5] END ...ccp_alpha=0.0010070493454180374;, score=0.874 total time=   0.0s\n",
      "[CV 5/5] END ...ccp_alpha=0.0010070493454180374;, score=0.825 total time=   0.0s\n",
      "[CV 1/5] END ...ccp_alpha=0.0010312185297006293;, score=0.920 total time=   0.0s\n",
      "[CV 2/5] END ...ccp_alpha=0.0010312185297006293;, score=0.555 total time=   0.0s\n",
      "[CV 3/5] END ...ccp_alpha=0.0010312185297006293;, score=0.930 total time=   0.0s\n",
      "[CV 4/5] END ...ccp_alpha=0.0010312185297006293;, score=0.874 total time=   0.0s\n",
      "[CV 5/5] END ...ccp_alpha=0.0010312185297006293;, score=0.825 total time=   0.0s\n",
      "[CV 1/5] END ...ccp_alpha=0.0012235649546847578;, score=0.920 total time=   0.0s\n",
      "[CV 2/5] END ...ccp_alpha=0.0012235649546847578;, score=0.556 total time=   0.0s\n",
      "[CV 3/5] END ...ccp_alpha=0.0012235649546847578;, score=0.930 total time=   0.0s\n",
      "[CV 4/5] END ...ccp_alpha=0.0012235649546847578;, score=0.874 total time=   0.0s\n",
      "[CV 5/5] END ...ccp_alpha=0.0012235649546847578;, score=0.825 total time=   0.0s\n",
      "[CV 1/5] END ...ccp_alpha=0.0012890231621361765;, score=0.920 total time=   0.0s\n",
      "[CV 2/5] END ...ccp_alpha=0.0012890231621361765;, score=0.556 total time=   0.0s\n",
      "[CV 3/5] END ...ccp_alpha=0.0012890231621361765;, score=0.930 total time=   0.0s\n",
      "[CV 4/5] END ...ccp_alpha=0.0012890231621361765;, score=0.873 total time=   0.0s\n",
      "[CV 5/5] END ...ccp_alpha=0.0012890231621361765;, score=0.825 total time=   0.0s\n",
      "[CV 1/5] END ....ccp_alpha=0.001289023162137207;, score=0.920 total time=   0.0s\n",
      "[CV 2/5] END ....ccp_alpha=0.001289023162137207;, score=0.556 total time=   0.0s\n",
      "[CV 3/5] END ....ccp_alpha=0.001289023162137207;, score=0.930 total time=   0.0s\n",
      "[CV 4/5] END ....ccp_alpha=0.001289023162137207;, score=0.873 total time=   0.0s\n",
      "[CV 5/5] END ....ccp_alpha=0.001289023162137207;, score=0.825 total time=   0.0s\n",
      "[CV 1/5] END .....ccp_alpha=0.00137785930082601;, score=0.920 total time=   0.0s\n",
      "[CV 2/5] END .....ccp_alpha=0.00137785930082601;, score=0.556 total time=   0.0s\n",
      "[CV 3/5] END .....ccp_alpha=0.00137785930082601;, score=0.930 total time=   0.0s\n",
      "[CV 4/5] END .....ccp_alpha=0.00137785930082601;, score=0.873 total time=   0.0s\n",
      "[CV 5/5] END .....ccp_alpha=0.00137785930082601;, score=0.825 total time=   0.0s\n",
      "[CV 1/5] END ....ccp_alpha=0.001393504531722248;, score=0.921 total time=   0.0s\n",
      "[CV 2/5] END ....ccp_alpha=0.001393504531722248;, score=0.556 total time=   0.0s\n",
      "[CV 3/5] END ....ccp_alpha=0.001393504531722248;, score=0.930 total time=   0.0s\n",
      "[CV 4/5] END ....ccp_alpha=0.001393504531722248;, score=0.873 total time=   0.0s\n",
      "[CV 5/5] END ....ccp_alpha=0.001393504531722248;, score=0.825 total time=   0.0s\n",
      "[CV 1/5] END ...ccp_alpha=0.0015105740181227667;, score=0.921 total time=   0.0s\n",
      "[CV 2/5] END ...ccp_alpha=0.0015105740181227667;, score=0.556 total time=   0.0s\n",
      "[CV 3/5] END ...ccp_alpha=0.0015105740181227667;, score=0.930 total time=   0.0s\n",
      "[CV 4/5] END ...ccp_alpha=0.0015105740181227667;, score=0.873 total time=   0.0s\n",
      "[CV 5/5] END ...ccp_alpha=0.0015105740181227667;, score=0.825 total time=   0.0s\n",
      "[CV 1/5] END ...ccp_alpha=0.0016314199395765859;, score=0.920 total time=   0.0s\n",
      "[CV 2/5] END ...ccp_alpha=0.0016314199395765859;, score=0.556 total time=   0.0s\n",
      "[CV 3/5] END ...ccp_alpha=0.0016314199395765859;, score=0.930 total time=   0.0s\n",
      "[CV 4/5] END ...ccp_alpha=0.0016314199395765859;, score=0.873 total time=   0.0s\n",
      "[CV 5/5] END ...ccp_alpha=0.0016314199395765859;, score=0.825 total time=   0.0s\n",
      "[CV 1/5] END ....ccp_alpha=0.001665407854974535;, score=0.920 total time=   0.0s\n",
      "[CV 2/5] END ....ccp_alpha=0.001665407854974535;, score=0.556 total time=   0.0s\n",
      "[CV 3/5] END ....ccp_alpha=0.001665407854974535;, score=0.930 total time=   0.0s\n",
      "[CV 4/5] END ....ccp_alpha=0.001665407854974535;, score=0.873 total time=   0.0s\n",
      "[CV 5/5] END ....ccp_alpha=0.001665407854974535;, score=0.825 total time=   0.0s\n",
      "[CV 1/5] END ...ccp_alpha=0.0018277945619363375;, score=0.920 total time=   0.0s\n",
      "[CV 2/5] END ...ccp_alpha=0.0018277945619363375;, score=0.555 total time=   0.0s\n",
      "[CV 3/5] END ...ccp_alpha=0.0018277945619363375;, score=0.930 total time=   0.0s\n",
      "[CV 4/5] END ...ccp_alpha=0.0018277945619363375;, score=0.873 total time=   0.0s\n",
      "[CV 5/5] END ...ccp_alpha=0.0018277945619363375;, score=0.825 total time=   0.0s\n",
      "[CV 1/5] END ...ccp_alpha=0.0018353474320230156;, score=0.920 total time=   0.0s\n",
      "[CV 2/5] END ...ccp_alpha=0.0018353474320230156;, score=0.555 total time=   0.0s\n",
      "[CV 3/5] END ...ccp_alpha=0.0018353474320230156;, score=0.930 total time=   0.0s\n",
      "[CV 4/5] END ...ccp_alpha=0.0018353474320230156;, score=0.873 total time=   0.0s\n",
      "[CV 5/5] END ...ccp_alpha=0.0018353474320230156;, score=0.825 total time=   0.0s\n",
      "[CV 1/5] END ...ccp_alpha=0.0019335347432032344;, score=0.920 total time=   0.0s\n",
      "[CV 2/5] END ...ccp_alpha=0.0019335347432032344;, score=0.555 total time=   0.0s\n",
      "[CV 3/5] END ...ccp_alpha=0.0019335347432032344;, score=0.930 total time=   0.0s\n",
      "[CV 4/5] END ...ccp_alpha=0.0019335347432032344;, score=0.873 total time=   0.0s\n",
      "[CV 5/5] END ...ccp_alpha=0.0019335347432032344;, score=0.825 total time=   0.0s\n",
      "[CV 1/5] END ....ccp_alpha=0.002067975830818672;, score=0.920 total time=   0.0s\n",
      "[CV 2/5] END ....ccp_alpha=0.002067975830818672;, score=0.555 total time=   0.0s\n",
      "[CV 3/5] END ....ccp_alpha=0.002067975830818672;, score=0.930 total time=   0.0s\n",
      "[CV 4/5] END ....ccp_alpha=0.002067975830818672;, score=0.873 total time=   0.0s\n",
      "[CV 5/5] END ....ccp_alpha=0.002067975830818672;, score=0.825 total time=   0.0s\n",
      "[CV 1/5] END ....ccp_alpha=0.002175226586066394;, score=0.920 total time=   0.0s\n",
      "[CV 2/5] END ....ccp_alpha=0.002175226586066394;, score=0.555 total time=   0.0s\n",
      "[CV 3/5] END ....ccp_alpha=0.002175226586066394;, score=0.930 total time=   0.0s\n",
      "[CV 4/5] END ....ccp_alpha=0.002175226586066394;, score=0.873 total time=   0.0s\n",
      "[CV 5/5] END ....ccp_alpha=0.002175226586066394;, score=0.825 total time=   0.0s\n",
      "[CV 1/5] END ....ccp_alpha=0.002175226586115853;, score=0.920 total time=   0.0s\n",
      "[CV 2/5] END ....ccp_alpha=0.002175226586115853;, score=0.555 total time=   0.0s\n",
      "[CV 3/5] END ....ccp_alpha=0.002175226586115853;, score=0.930 total time=   0.0s\n",
      "[CV 4/5] END ....ccp_alpha=0.002175226586115853;, score=0.873 total time=   0.0s\n",
      "[CV 5/5] END ....ccp_alpha=0.002175226586115853;, score=0.825 total time=   0.0s\n",
      "[CV 1/5] END ....ccp_alpha=0.002220543806648284;, score=0.920 total time=   0.0s\n",
      "[CV 2/5] END ....ccp_alpha=0.002220543806648284;, score=0.555 total time=   0.0s\n",
      "[CV 3/5] END ....ccp_alpha=0.002220543806648284;, score=0.930 total time=   0.0s\n",
      "[CV 4/5] END ....ccp_alpha=0.002220543806648284;, score=0.873 total time=   0.0s\n",
      "[CV 5/5] END ....ccp_alpha=0.002220543806648284;, score=0.825 total time=   0.0s\n",
      "[CV 1/5] END ....ccp_alpha=0.002272155085596355;, score=0.920 total time=   0.0s\n",
      "[CV 2/5] END ....ccp_alpha=0.002272155085596355;, score=0.555 total time=   0.0s\n",
      "[CV 3/5] END ....ccp_alpha=0.002272155085596355;, score=0.930 total time=   0.0s\n",
      "[CV 4/5] END ....ccp_alpha=0.002272155085596355;, score=0.873 total time=   0.0s\n",
      "[CV 5/5] END ....ccp_alpha=0.002272155085596355;, score=0.825 total time=   0.0s\n",
      "[CV 1/5] END ....ccp_alpha=0.002297583081564408;, score=0.920 total time=   0.0s\n",
      "[CV 2/5] END ....ccp_alpha=0.002297583081564408;, score=0.555 total time=   0.0s\n",
      "[CV 3/5] END ....ccp_alpha=0.002297583081564408;, score=0.930 total time=   0.0s\n",
      "[CV 4/5] END ....ccp_alpha=0.002297583081564408;, score=0.873 total time=   0.0s\n",
      "[CV 5/5] END ....ccp_alpha=0.002297583081564408;, score=0.825 total time=   0.0s\n",
      "[CV 1/5] END ...ccp_alpha=0.0022975830815857023;, score=0.920 total time=   0.0s\n",
      "[CV 2/5] END ...ccp_alpha=0.0022975830815857023;, score=0.555 total time=   0.0s\n",
      "[CV 3/5] END ...ccp_alpha=0.0022975830815857023;, score=0.930 total time=   0.0s\n",
      "[CV 4/5] END ...ccp_alpha=0.0022975830815857023;, score=0.873 total time=   0.0s\n",
      "[CV 5/5] END ...ccp_alpha=0.0022975830815857023;, score=0.825 total time=   0.0s\n",
      "[CV 1/5] END ...ccp_alpha=0.0023685800604219052;, score=0.920 total time=   0.0s\n",
      "[CV 2/5] END ...ccp_alpha=0.0023685800604219052;, score=0.555 total time=   0.0s\n",
      "[CV 3/5] END ...ccp_alpha=0.0023685800604219052;, score=0.930 total time=   0.0s\n",
      "[CV 4/5] END ...ccp_alpha=0.0023685800604219052;, score=0.873 total time=   0.0s\n",
      "[CV 5/5] END ...ccp_alpha=0.0023685800604219052;, score=0.825 total time=   0.0s\n",
      "[CV 1/5] END ...ccp_alpha=0.0023685800604232796;, score=0.920 total time=   0.0s\n",
      "[CV 2/5] END ...ccp_alpha=0.0023685800604232796;, score=0.555 total time=   0.0s\n",
      "[CV 3/5] END ...ccp_alpha=0.0023685800604232796;, score=0.930 total time=   0.0s\n",
      "[CV 4/5] END ...ccp_alpha=0.0023685800604232796;, score=0.873 total time=   0.0s\n",
      "[CV 5/5] END ...ccp_alpha=0.0023685800604232796;, score=0.825 total time=   0.0s\n",
      "[CV 1/5] END ...ccp_alpha=0.0023972809667130875;, score=0.920 total time=   0.0s\n",
      "[CV 2/5] END ...ccp_alpha=0.0023972809667130875;, score=0.555 total time=   0.0s\n",
      "[CV 3/5] END ...ccp_alpha=0.0023972809667130875;, score=0.930 total time=   0.0s\n",
      "[CV 4/5] END ...ccp_alpha=0.0023972809667130875;, score=0.873 total time=   0.0s\n",
      "[CV 5/5] END ...ccp_alpha=0.0023972809667130875;, score=0.825 total time=   0.0s\n",
      "[CV 1/5] END ...ccp_alpha=0.0024169184290021967;, score=0.920 total time=   0.0s\n",
      "[CV 2/5] END ...ccp_alpha=0.0024169184290021967;, score=0.555 total time=   0.0s\n",
      "[CV 3/5] END ...ccp_alpha=0.0024169184290021967;, score=0.930 total time=   0.0s\n",
      "[CV 4/5] END ...ccp_alpha=0.0024169184290021967;, score=0.873 total time=   0.0s\n",
      "[CV 5/5] END ...ccp_alpha=0.0024169184290021967;, score=0.825 total time=   0.0s\n",
      "[CV 1/5] END ....ccp_alpha=0.002419436052368315;, score=0.920 total time=   0.0s\n",
      "[CV 2/5] END ....ccp_alpha=0.002419436052368315;, score=0.555 total time=   0.0s\n",
      "[CV 3/5] END ....ccp_alpha=0.002419436052368315;, score=0.930 total time=   0.0s\n",
      "[CV 4/5] END ....ccp_alpha=0.002419436052368315;, score=0.873 total time=   0.0s\n",
      "[CV 5/5] END ....ccp_alpha=0.002419436052368315;, score=0.825 total time=   0.0s\n",
      "[CV 1/5] END ...ccp_alpha=0.0024197957128539002;, score=0.920 total time=   0.0s\n",
      "[CV 2/5] END ...ccp_alpha=0.0024197957128539002;, score=0.555 total time=   0.0s\n",
      "[CV 3/5] END ...ccp_alpha=0.0024197957128539002;, score=0.930 total time=   0.0s\n",
      "[CV 4/5] END ...ccp_alpha=0.0024197957128539002;, score=0.873 total time=   0.0s\n",
      "[CV 5/5] END ...ccp_alpha=0.0024197957128539002;, score=0.825 total time=   0.0s\n",
      "[CV 1/5] END ...ccp_alpha=0.0024420946626381376;, score=0.920 total time=   0.0s\n",
      "[CV 2/5] END ...ccp_alpha=0.0024420946626381376;, score=0.555 total time=   0.0s\n",
      "[CV 3/5] END ...ccp_alpha=0.0024420946626381376;, score=0.930 total time=   0.0s\n",
      "[CV 4/5] END ...ccp_alpha=0.0024420946626381376;, score=0.873 total time=   0.0s\n",
      "[CV 5/5] END ...ccp_alpha=0.0024420946626381376;, score=0.825 total time=   0.0s\n",
      "[CV 1/5] END ...ccp_alpha=0.0024983215844165928;, score=0.920 total time=   0.0s\n",
      "[CV 2/5] END ...ccp_alpha=0.0024983215844165928;, score=0.555 total time=   0.0s\n",
      "[CV 3/5] END ...ccp_alpha=0.0024983215844165928;, score=0.930 total time=   0.0s\n",
      "[CV 4/5] END ...ccp_alpha=0.0024983215844165928;, score=0.873 total time=   0.0s\n",
      "[CV 5/5] END ...ccp_alpha=0.0024983215844165928;, score=0.825 total time=   0.0s\n",
      "[CV 1/5] END ...ccp_alpha=0.0025528700906337506;, score=0.921 total time=   0.0s\n",
      "[CV 2/5] END ...ccp_alpha=0.0025528700906337506;, score=0.555 total time=   0.0s\n",
      "[CV 3/5] END ...ccp_alpha=0.0025528700906337506;, score=0.930 total time=   0.0s\n",
      "[CV 4/5] END ...ccp_alpha=0.0025528700906337506;, score=0.873 total time=   0.0s\n",
      "[CV 5/5] END ...ccp_alpha=0.0025528700906337506;, score=0.825 total time=   0.0s\n",
      "[CV 1/5] END ...ccp_alpha=0.0025528700906352103;, score=0.921 total time=   0.0s\n",
      "[CV 2/5] END ...ccp_alpha=0.0025528700906352103;, score=0.555 total time=   0.0s\n",
      "[CV 3/5] END ...ccp_alpha=0.0025528700906352103;, score=0.930 total time=   0.0s\n",
      "[CV 4/5] END ...ccp_alpha=0.0025528700906352103;, score=0.873 total time=   0.0s\n",
      "[CV 5/5] END ...ccp_alpha=0.0025528700906352103;, score=0.825 total time=   0.0s\n",
      "[CV 1/5] END ...ccp_alpha=0.0027265861027180992;, score=0.921 total time=   0.0s\n",
      "[CV 2/5] END ...ccp_alpha=0.0027265861027180992;, score=0.555 total time=   0.0s\n",
      "[CV 3/5] END ...ccp_alpha=0.0027265861027180992;, score=0.930 total time=   0.0s\n",
      "[CV 4/5] END ...ccp_alpha=0.0027265861027180992;, score=0.873 total time=   0.0s\n",
      "[CV 5/5] END ...ccp_alpha=0.0027265861027180992;, score=0.825 total time=   0.0s\n",
      "[CV 1/5] END ...ccp_alpha=0.0027416918428962633;, score=0.921 total time=   0.0s\n",
      "[CV 2/5] END ...ccp_alpha=0.0027416918428962633;, score=0.555 total time=   0.0s\n",
      "[CV 3/5] END ...ccp_alpha=0.0027416918428962633;, score=0.930 total time=   0.0s\n",
      "[CV 4/5] END ...ccp_alpha=0.0027416918428962633;, score=0.873 total time=   0.0s\n",
      "[CV 5/5] END ...ccp_alpha=0.0027416918428962633;, score=0.825 total time=   0.0s\n",
      "[CV 1/5] END ...ccp_alpha=0.0027930513595127364;, score=0.921 total time=   0.0s\n",
      "[CV 2/5] END ...ccp_alpha=0.0027930513595127364;, score=0.555 total time=   0.0s\n",
      "[CV 3/5] END ...ccp_alpha=0.0027930513595127364;, score=0.930 total time=   0.0s\n",
      "[CV 4/5] END ...ccp_alpha=0.0027930513595127364;, score=0.873 total time=   0.0s\n",
      "[CV 5/5] END ...ccp_alpha=0.0027930513595127364;, score=0.825 total time=   0.0s\n",
      "[CV 1/5] END ...ccp_alpha=0.0029607250755282408;, score=0.921 total time=   0.0s\n",
      "[CV 2/5] END ...ccp_alpha=0.0029607250755282408;, score=0.555 total time=   0.0s\n",
      "[CV 3/5] END ...ccp_alpha=0.0029607250755282408;, score=0.930 total time=   0.0s\n",
      "[CV 4/5] END ...ccp_alpha=0.0029607250755282408;, score=0.873 total time=   0.0s\n",
      "[CV 5/5] END ...ccp_alpha=0.0029607250755282408;, score=0.824 total time=   0.0s\n",
      "[CV 1/5] END ...ccp_alpha=0.0030211480362548064;, score=0.921 total time=   0.0s\n",
      "[CV 2/5] END ...ccp_alpha=0.0030211480362548064;, score=0.555 total time=   0.0s\n",
      "[CV 3/5] END ...ccp_alpha=0.0030211480362548064;, score=0.930 total time=   0.0s\n",
      "[CV 4/5] END ...ccp_alpha=0.0030211480362548064;, score=0.873 total time=   0.0s\n",
      "[CV 5/5] END ...ccp_alpha=0.0030211480362548064;, score=0.824 total time=   0.0s\n",
      "[CV 1/5] END ...ccp_alpha=0.0033987915407813767;, score=0.921 total time=   0.0s\n",
      "[CV 2/5] END ...ccp_alpha=0.0033987915407813767;, score=0.555 total time=   0.0s\n",
      "[CV 3/5] END ...ccp_alpha=0.0033987915407813767;, score=0.930 total time=   0.0s\n",
      "[CV 4/5] END ...ccp_alpha=0.0033987915407813767;, score=0.874 total time=   0.0s\n",
      "[CV 5/5] END ...ccp_alpha=0.0033987915407813767;, score=0.824 total time=   0.0s\n",
      "[CV 1/5] END ...ccp_alpha=0.0033987915407854984;, score=0.921 total time=   0.0s\n",
      "[CV 2/5] END ...ccp_alpha=0.0033987915407854984;, score=0.555 total time=   0.0s\n",
      "[CV 3/5] END ...ccp_alpha=0.0033987915407854984;, score=0.930 total time=   0.0s\n",
      "[CV 4/5] END ...ccp_alpha=0.0033987915407854984;, score=0.874 total time=   0.0s\n",
      "[CV 5/5] END ...ccp_alpha=0.0033987915407854984;, score=0.824 total time=   0.0s\n",
      "[CV 1/5] END ...ccp_alpha=0.0033987915407861853;, score=0.921 total time=   0.0s\n",
      "[CV 2/5] END ...ccp_alpha=0.0033987915407861853;, score=0.555 total time=   0.0s\n",
      "[CV 3/5] END ...ccp_alpha=0.0033987915407861853;, score=0.930 total time=   0.0s\n",
      "[CV 4/5] END ...ccp_alpha=0.0033987915407861853;, score=0.874 total time=   0.0s\n",
      "[CV 5/5] END ...ccp_alpha=0.0033987915407861853;, score=0.824 total time=   0.0s\n",
      "[CV 1/5] END ...ccp_alpha=0.0034038267875122403;, score=0.921 total time=   0.0s\n",
      "[CV 2/5] END ...ccp_alpha=0.0034038267875122403;, score=0.555 total time=   0.0s\n",
      "[CV 3/5] END ...ccp_alpha=0.0034038267875122403;, score=0.930 total time=   0.0s\n",
      "[CV 4/5] END ...ccp_alpha=0.0034038267875122403;, score=0.874 total time=   0.0s\n",
      "[CV 5/5] END ...ccp_alpha=0.0034038267875122403;, score=0.824 total time=   0.0s\n",
      "[CV 1/5] END ...ccp_alpha=0.0034038267875125833;, score=0.921 total time=   0.0s\n",
      "[CV 2/5] END ...ccp_alpha=0.0034038267875125833;, score=0.555 total time=   0.0s\n",
      "[CV 3/5] END ...ccp_alpha=0.0034038267875125833;, score=0.930 total time=   0.0s\n",
      "[CV 4/5] END ...ccp_alpha=0.0034038267875125833;, score=0.874 total time=   0.0s\n",
      "[CV 5/5] END ...ccp_alpha=0.0034038267875125833;, score=0.824 total time=   0.0s\n",
      "[CV 1/5] END ...ccp_alpha=0.0037764350453172208;, score=0.919 total time=   0.0s\n",
      "[CV 2/5] END ...ccp_alpha=0.0037764350453172208;, score=0.555 total time=   0.0s\n",
      "[CV 3/5] END ...ccp_alpha=0.0037764350453172208;, score=0.929 total time=   0.0s\n",
      "[CV 4/5] END ...ccp_alpha=0.0037764350453172208;, score=0.874 total time=   0.0s\n",
      "[CV 5/5] END ...ccp_alpha=0.0037764350453172208;, score=0.826 total time=   0.0s\n",
      "[CV 1/5] END ....ccp_alpha=0.003947633434039142;, score=0.919 total time=   0.0s\n",
      "[CV 2/5] END ....ccp_alpha=0.003947633434039142;, score=0.555 total time=   0.0s\n",
      "[CV 3/5] END ....ccp_alpha=0.003947633434039142;, score=0.929 total time=   0.0s\n",
      "[CV 4/5] END ....ccp_alpha=0.003947633434039142;, score=0.874 total time=   0.0s\n",
      "[CV 5/5] END ....ccp_alpha=0.003947633434039142;, score=0.825 total time=   0.0s\n",
      "[CV 1/5] END ...ccp_alpha=0.0039652567975837685;, score=0.919 total time=   0.0s\n",
      "[CV 2/5] END ...ccp_alpha=0.0039652567975837685;, score=0.555 total time=   0.0s\n",
      "[CV 3/5] END ...ccp_alpha=0.0039652567975837685;, score=0.929 total time=   0.0s\n",
      "[CV 4/5] END ...ccp_alpha=0.0039652567975837685;, score=0.874 total time=   0.0s\n",
      "[CV 5/5] END ...ccp_alpha=0.0039652567975837685;, score=0.825 total time=   0.0s\n",
      "[CV 1/5] END ....ccp_alpha=0.004232124874118245;, score=0.919 total time=   0.0s\n",
      "[CV 2/5] END ....ccp_alpha=0.004232124874118245;, score=0.555 total time=   0.0s\n",
      "[CV 3/5] END ....ccp_alpha=0.004232124874118245;, score=0.929 total time=   0.0s\n",
      "[CV 4/5] END ....ccp_alpha=0.004232124874118245;, score=0.874 total time=   0.0s\n",
      "[CV 5/5] END ....ccp_alpha=0.004232124874118245;, score=0.825 total time=   0.0s\n",
      "[CV 1/5] END ....ccp_alpha=0.004254783484389957;, score=0.919 total time=   0.0s\n",
      "[CV 2/5] END ....ccp_alpha=0.004254783484389957;, score=0.555 total time=   0.0s\n",
      "[CV 3/5] END ....ccp_alpha=0.004254783484389957;, score=0.929 total time=   0.0s\n",
      "[CV 4/5] END ....ccp_alpha=0.004254783484389957;, score=0.874 total time=   0.0s\n",
      "[CV 5/5] END ....ccp_alpha=0.004254783484389957;, score=0.825 total time=   0.0s\n",
      "[CV 1/5] END ...ccp_alpha=0.0044902891669995355;, score=0.919 total time=   0.0s\n",
      "[CV 2/5] END ...ccp_alpha=0.0044902891669995355;, score=0.555 total time=   0.0s\n",
      "[CV 3/5] END ...ccp_alpha=0.0044902891669995355;, score=0.929 total time=   0.0s\n",
      "[CV 4/5] END ...ccp_alpha=0.0044902891669995355;, score=0.874 total time=   0.0s\n",
      "[CV 5/5] END ...ccp_alpha=0.0044902891669995355;, score=0.825 total time=   0.0s\n",
      "[CV 1/5] END ....ccp_alpha=0.004621415844967542;, score=0.919 total time=   0.0s\n",
      "[CV 2/5] END ....ccp_alpha=0.004621415844967542;, score=0.555 total time=   0.0s\n",
      "[CV 3/5] END ....ccp_alpha=0.004621415844967542;, score=0.929 total time=   0.0s\n",
      "[CV 4/5] END ....ccp_alpha=0.004621415844967542;, score=0.874 total time=   0.0s\n",
      "[CV 5/5] END ....ccp_alpha=0.004621415844967542;, score=0.825 total time=   0.0s\n",
      "[CV 1/5] END ....ccp_alpha=0.006582326283994551;, score=0.920 total time=   0.0s\n",
      "[CV 2/5] END ....ccp_alpha=0.006582326283994551;, score=0.556 total time=   0.0s\n",
      "[CV 3/5] END ....ccp_alpha=0.006582326283994551;, score=0.930 total time=   0.0s\n",
      "[CV 4/5] END ....ccp_alpha=0.006582326283994551;, score=0.873 total time=   0.0s\n",
      "[CV 5/5] END ....ccp_alpha=0.006582326283994551;, score=0.825 total time=   0.0s\n",
      "[CV 1/5] END ...ccp_alpha=0.0071391406512294545;, score=0.920 total time=   0.0s\n",
      "[CV 2/5] END ...ccp_alpha=0.0071391406512294545;, score=0.556 total time=   0.0s\n",
      "[CV 3/5] END ...ccp_alpha=0.0071391406512294545;, score=0.930 total time=   0.0s\n",
      "[CV 4/5] END ...ccp_alpha=0.0071391406512294545;, score=0.875 total time=   0.0s\n",
      "[CV 5/5] END ...ccp_alpha=0.0071391406512294545;, score=0.825 total time=   0.0s\n",
      "[CV 1/5] END ....ccp_alpha=0.007415240013410505;, score=0.920 total time=   0.0s\n",
      "[CV 2/5] END ....ccp_alpha=0.007415240013410505;, score=0.555 total time=   0.0s\n",
      "[CV 3/5] END ....ccp_alpha=0.007415240013410505;, score=0.930 total time=   0.0s\n",
      "[CV 4/5] END ....ccp_alpha=0.007415240013410505;, score=0.875 total time=   0.0s\n",
      "[CV 5/5] END ....ccp_alpha=0.007415240013410505;, score=0.825 total time=   0.0s\n",
      "[CV 1/5] END ....ccp_alpha=0.007614803625377382;, score=0.920 total time=   0.0s\n",
      "[CV 2/5] END ....ccp_alpha=0.007614803625377382;, score=0.555 total time=   0.0s\n",
      "[CV 3/5] END ....ccp_alpha=0.007614803625377382;, score=0.930 total time=   0.0s\n",
      "[CV 4/5] END ....ccp_alpha=0.007614803625377382;, score=0.872 total time=   0.0s\n",
      "[CV 5/5] END ....ccp_alpha=0.007614803625377382;, score=0.825 total time=   0.0s\n",
      "[CV 1/5] END ....ccp_alpha=0.007990936555888437;, score=0.920 total time=   0.0s\n",
      "[CV 2/5] END ....ccp_alpha=0.007990936555888437;, score=0.555 total time=   0.0s\n",
      "[CV 3/5] END ....ccp_alpha=0.007990936555888437;, score=0.930 total time=   0.0s\n",
      "[CV 4/5] END ....ccp_alpha=0.007990936555888437;, score=0.872 total time=   0.0s\n",
      "[CV 5/5] END ....ccp_alpha=0.007990936555888437;, score=0.825 total time=   0.0s\n",
      "[CV 1/5] END ....ccp_alpha=0.008116651726904367;, score=0.920 total time=   0.0s\n",
      "[CV 2/5] END ....ccp_alpha=0.008116651726904367;, score=0.555 total time=   0.0s\n",
      "[CV 3/5] END ....ccp_alpha=0.008116651726904367;, score=0.930 total time=   0.0s\n",
      "[CV 4/5] END ....ccp_alpha=0.008116651726904367;, score=0.872 total time=   0.0s\n",
      "[CV 5/5] END ....ccp_alpha=0.008116651726904367;, score=0.825 total time=   0.0s\n",
      "[CV 1/5] END .....ccp_alpha=0.00849697885198504;, score=0.919 total time=   0.0s\n",
      "[CV 2/5] END .....ccp_alpha=0.00849697885198504;, score=0.555 total time=   0.0s\n",
      "[CV 3/5] END .....ccp_alpha=0.00849697885198504;, score=0.930 total time=   0.0s\n",
      "[CV 4/5] END .....ccp_alpha=0.00849697885198504;, score=0.872 total time=   0.0s\n",
      "[CV 5/5] END .....ccp_alpha=0.00849697885198504;, score=0.826 total time=   0.0s\n",
      "[CV 1/5] END .....ccp_alpha=0.00852366565963375;, score=0.919 total time=   0.0s\n",
      "[CV 2/5] END .....ccp_alpha=0.00852366565963375;, score=0.555 total time=   0.0s\n",
      "[CV 3/5] END .....ccp_alpha=0.00852366565963375;, score=0.930 total time=   0.0s\n",
      "[CV 4/5] END .....ccp_alpha=0.00852366565963375;, score=0.872 total time=   0.0s\n",
      "[CV 5/5] END .....ccp_alpha=0.00852366565963375;, score=0.826 total time=   0.0s\n",
      "[CV 1/5] END .....ccp_alpha=0.00856075864384176;, score=0.919 total time=   0.0s\n",
      "[CV 2/5] END .....ccp_alpha=0.00856075864384176;, score=0.555 total time=   0.0s\n",
      "[CV 3/5] END .....ccp_alpha=0.00856075864384176;, score=0.930 total time=   0.0s\n",
      "[CV 4/5] END .....ccp_alpha=0.00856075864384176;, score=0.872 total time=   0.0s\n",
      "[CV 5/5] END .....ccp_alpha=0.00856075864384176;, score=0.826 total time=   0.0s\n",
      "[CV 1/5] END ....ccp_alpha=0.008882175226586094;, score=0.919 total time=   0.0s\n",
      "[CV 2/5] END ....ccp_alpha=0.008882175226586094;, score=0.555 total time=   0.0s\n",
      "[CV 3/5] END ....ccp_alpha=0.008882175226586094;, score=0.930 total time=   0.0s\n",
      "[CV 4/5] END ....ccp_alpha=0.008882175226586094;, score=0.872 total time=   0.0s\n",
      "[CV 5/5] END ....ccp_alpha=0.008882175226586094;, score=0.826 total time=   0.0s\n",
      "[CV 1/5] END ....ccp_alpha=0.008882175226586268;, score=0.919 total time=   0.0s\n",
      "[CV 2/5] END ....ccp_alpha=0.008882175226586268;, score=0.555 total time=   0.0s\n",
      "[CV 3/5] END ....ccp_alpha=0.008882175226586268;, score=0.930 total time=   0.0s\n",
      "[CV 4/5] END ....ccp_alpha=0.008882175226586268;, score=0.872 total time=   0.0s\n",
      "[CV 5/5] END ....ccp_alpha=0.008882175226586268;, score=0.826 total time=   0.0s\n",
      "[CV 1/5] END ....ccp_alpha=0.010312185297078077;, score=0.919 total time=   0.0s\n",
      "[CV 2/5] END ....ccp_alpha=0.010312185297078077;, score=0.555 total time=   0.0s\n",
      "[CV 3/5] END ....ccp_alpha=0.010312185297078077;, score=0.930 total time=   0.0s\n",
      "[CV 4/5] END ....ccp_alpha=0.010312185297078077;, score=0.872 total time=   0.0s\n",
      "[CV 5/5] END ....ccp_alpha=0.010312185297078077;, score=0.827 total time=   0.0s\n",
      "[CV 1/5] END ......ccp_alpha=0.0113016112789484;, score=0.919 total time=   0.0s\n",
      "[CV 2/5] END ......ccp_alpha=0.0113016112789484;, score=0.557 total time=   0.0s\n",
      "[CV 3/5] END ......ccp_alpha=0.0113016112789484;, score=0.929 total time=   0.0s\n",
      "[CV 4/5] END ......ccp_alpha=0.0113016112789484;, score=0.872 total time=   0.0s\n",
      "[CV 5/5] END ......ccp_alpha=0.0113016112789484;, score=0.827 total time=   0.0s\n",
      "[CV 1/5] END .....ccp_alpha=0.01142220543809358;, score=0.919 total time=   0.0s\n",
      "[CV 2/5] END .....ccp_alpha=0.01142220543809358;, score=0.558 total time=   0.0s\n",
      "[CV 3/5] END .....ccp_alpha=0.01142220543809358;, score=0.929 total time=   0.0s\n",
      "[CV 4/5] END .....ccp_alpha=0.01142220543809358;, score=0.872 total time=   0.0s\n",
      "[CV 5/5] END .....ccp_alpha=0.01142220543809358;, score=0.827 total time=   0.0s\n",
      "[CV 1/5] END ....ccp_alpha=0.012089627391750091;, score=0.919 total time=   0.0s\n",
      "[CV 2/5] END ....ccp_alpha=0.012089627391750091;, score=0.556 total time=   0.0s\n",
      "[CV 3/5] END ....ccp_alpha=0.012089627391750091;, score=0.929 total time=   0.0s\n",
      "[CV 4/5] END ....ccp_alpha=0.012089627391750091;, score=0.872 total time=   0.0s\n",
      "[CV 5/5] END ....ccp_alpha=0.012089627391750091;, score=0.828 total time=   0.0s\n",
      "[CV 1/5] END ....ccp_alpha=0.012276411067847397;, score=0.919 total time=   0.0s\n",
      "[CV 2/5] END ....ccp_alpha=0.012276411067847397;, score=0.556 total time=   0.0s\n",
      "[CV 3/5] END ....ccp_alpha=0.012276411067847397;, score=0.929 total time=   0.0s\n",
      "[CV 4/5] END ....ccp_alpha=0.012276411067847397;, score=0.872 total time=   0.0s\n",
      "[CV 5/5] END ....ccp_alpha=0.012276411067847397;, score=0.828 total time=   0.0s\n",
      "[CV 1/5] END ....ccp_alpha=0.012509063444102502;, score=0.919 total time=   0.0s\n",
      "[CV 2/5] END ....ccp_alpha=0.012509063444102502;, score=0.558 total time=   0.0s\n",
      "[CV 3/5] END ....ccp_alpha=0.012509063444102502;, score=0.929 total time=   0.0s\n",
      "[CV 4/5] END ....ccp_alpha=0.012509063444102502;, score=0.872 total time=   0.0s\n",
      "[CV 5/5] END ....ccp_alpha=0.012509063444102502;, score=0.828 total time=   0.0s\n",
      "[CV 1/5] END ....ccp_alpha=0.012819738167171755;, score=0.919 total time=   0.0s\n",
      "[CV 2/5] END ....ccp_alpha=0.012819738167171755;, score=0.558 total time=   0.0s\n",
      "[CV 3/5] END ....ccp_alpha=0.012819738167171755;, score=0.930 total time=   0.0s\n",
      "[CV 4/5] END ....ccp_alpha=0.012819738167171755;, score=0.872 total time=   0.0s\n",
      "[CV 5/5] END ....ccp_alpha=0.012819738167171755;, score=0.828 total time=   0.0s\n",
      "[CV 1/5] END ....ccp_alpha=0.013913818296699687;, score=0.920 total time=   0.0s\n",
      "[CV 2/5] END ....ccp_alpha=0.013913818296699687;, score=0.560 total time=   0.0s\n",
      "[CV 3/5] END ....ccp_alpha=0.013913818296699687;, score=0.930 total time=   0.0s\n",
      "[CV 4/5] END ....ccp_alpha=0.013913818296699687;, score=0.872 total time=   0.0s\n",
      "[CV 5/5] END ....ccp_alpha=0.013913818296699687;, score=0.828 total time=   0.0s\n",
      "[CV 1/5] END ....ccp_alpha=0.014144008056388425;, score=0.920 total time=   0.0s\n",
      "[CV 2/5] END ....ccp_alpha=0.014144008056388425;, score=0.560 total time=   0.0s\n",
      "[CV 3/5] END ....ccp_alpha=0.014144008056388425;, score=0.930 total time=   0.0s\n",
      "[CV 4/5] END ....ccp_alpha=0.014144008056388425;, score=0.872 total time=   0.0s\n",
      "[CV 5/5] END ....ccp_alpha=0.014144008056388425;, score=0.828 total time=   0.0s\n",
      "[CV 1/5] END ....ccp_alpha=0.014516616314200275;, score=0.920 total time=   0.0s\n",
      "[CV 2/5] END ....ccp_alpha=0.014516616314200275;, score=0.560 total time=   0.0s\n",
      "[CV 3/5] END ....ccp_alpha=0.014516616314200275;, score=0.932 total time=   0.0s\n",
      "[CV 4/5] END ....ccp_alpha=0.014516616314200275;, score=0.872 total time=   0.0s\n",
      "[CV 5/5] END ....ccp_alpha=0.014516616314200275;, score=0.828 total time=   0.0s\n",
      "[CV 1/5] END ....ccp_alpha=0.014697465592486362;, score=0.920 total time=   0.0s\n",
      "[CV 2/5] END ....ccp_alpha=0.014697465592486362;, score=0.560 total time=   0.0s\n",
      "[CV 3/5] END ....ccp_alpha=0.014697465592486362;, score=0.932 total time=   0.0s\n",
      "[CV 4/5] END ....ccp_alpha=0.014697465592486362;, score=0.872 total time=   0.0s\n",
      "[CV 5/5] END ....ccp_alpha=0.014697465592486362;, score=0.828 total time=   0.0s\n",
      "[CV 1/5] END ....ccp_alpha=0.015235649546894789;, score=0.918 total time=   0.0s\n",
      "[CV 2/5] END ....ccp_alpha=0.015235649546894789;, score=0.559 total time=   0.0s\n",
      "[CV 3/5] END ....ccp_alpha=0.015235649546894789;, score=0.932 total time=   0.0s\n",
      "[CV 4/5] END ....ccp_alpha=0.015235649546894789;, score=0.871 total time=   0.0s\n",
      "[CV 5/5] END ....ccp_alpha=0.015235649546894789;, score=0.828 total time=   0.0s\n",
      "[CV 1/5] END ....ccp_alpha=0.015543308655099739;, score=0.917 total time=   0.0s\n",
      "[CV 2/5] END ....ccp_alpha=0.015543308655099739;, score=0.559 total time=   0.0s\n",
      "[CV 3/5] END ....ccp_alpha=0.015543308655099739;, score=0.932 total time=   0.0s\n",
      "[CV 4/5] END ....ccp_alpha=0.015543308655099739;, score=0.871 total time=   0.0s\n",
      "[CV 5/5] END ....ccp_alpha=0.015543308655099739;, score=0.828 total time=   0.0s\n",
      "[CV 1/5] END ......ccp_alpha=0.0161127895266907;, score=0.917 total time=   0.0s\n",
      "[CV 2/5] END ......ccp_alpha=0.0161127895266907;, score=0.559 total time=   0.0s\n",
      "[CV 3/5] END ......ccp_alpha=0.0161127895266907;, score=0.932 total time=   0.0s\n",
      "[CV 4/5] END ......ccp_alpha=0.0161127895266907;, score=0.869 total time=   0.0s\n",
      "[CV 5/5] END ......ccp_alpha=0.0161127895266907;, score=0.828 total time=   0.0s\n",
      "[CV 1/5] END ....ccp_alpha=0.016338368580061845;, score=0.917 total time=   0.0s\n",
      "[CV 2/5] END ....ccp_alpha=0.016338368580061845;, score=0.559 total time=   0.0s\n",
      "[CV 3/5] END ....ccp_alpha=0.016338368580061845;, score=0.932 total time=   0.0s\n",
      "[CV 4/5] END ....ccp_alpha=0.016338368580061845;, score=0.869 total time=   0.0s\n",
      "[CV 5/5] END ....ccp_alpha=0.016338368580061845;, score=0.828 total time=   0.0s\n",
      "[CV 1/5] END ....ccp_alpha=0.016450151057400934;, score=0.917 total time=   0.0s\n",
      "[CV 2/5] END ....ccp_alpha=0.016450151057400934;, score=0.559 total time=   0.0s\n",
      "[CV 3/5] END ....ccp_alpha=0.016450151057400934;, score=0.932 total time=   0.0s\n",
      "[CV 4/5] END ....ccp_alpha=0.016450151057400934;, score=0.869 total time=   0.0s\n",
      "[CV 5/5] END ....ccp_alpha=0.016450151057400934;, score=0.828 total time=   0.0s\n",
      "[CV 1/5] END .....ccp_alpha=0.01873615307150098;, score=0.917 total time=   0.0s\n",
      "[CV 2/5] END .....ccp_alpha=0.01873615307150098;, score=0.562 total time=   0.0s\n",
      "[CV 3/5] END .....ccp_alpha=0.01873615307150098;, score=0.935 total time=   0.0s\n",
      "[CV 4/5] END .....ccp_alpha=0.01873615307150098;, score=0.869 total time=   0.0s\n",
      "[CV 5/5] END .....ccp_alpha=0.01873615307150098;, score=0.829 total time=   0.0s\n",
      "[CV 1/5] END ....ccp_alpha=0.018874622356496677;, score=0.917 total time=   0.0s\n",
      "[CV 2/5] END ....ccp_alpha=0.018874622356496677;, score=0.562 total time=   0.0s\n",
      "[CV 3/5] END ....ccp_alpha=0.018874622356496677;, score=0.935 total time=   0.0s\n",
      "[CV 4/5] END ....ccp_alpha=0.018874622356496677;, score=0.869 total time=   0.0s\n",
      "[CV 5/5] END ....ccp_alpha=0.018874622356496677;, score=0.829 total time=   0.0s\n",
      "[CV 1/5] END ....ccp_alpha=0.018948640483386237;, score=0.917 total time=   0.0s\n",
      "[CV 2/5] END ....ccp_alpha=0.018948640483386237;, score=0.562 total time=   0.0s\n",
      "[CV 3/5] END ....ccp_alpha=0.018948640483386237;, score=0.935 total time=   0.0s\n",
      "[CV 4/5] END ....ccp_alpha=0.018948640483386237;, score=0.869 total time=   0.0s\n",
      "[CV 5/5] END ....ccp_alpha=0.018948640483386237;, score=0.829 total time=   0.0s\n",
      "[CV 1/5] END ....ccp_alpha=0.019355488418899815;, score=0.917 total time=   0.0s\n",
      "[CV 2/5] END ....ccp_alpha=0.019355488418899815;, score=0.562 total time=   0.0s\n",
      "[CV 3/5] END ....ccp_alpha=0.019355488418899815;, score=0.935 total time=   0.0s\n",
      "[CV 4/5] END ....ccp_alpha=0.019355488418899815;, score=0.869 total time=   0.0s\n",
      "[CV 5/5] END ....ccp_alpha=0.019355488418899815;, score=0.829 total time=   0.0s\n",
      "[CV 1/5] END .....ccp_alpha=0.02067975830814894;, score=0.919 total time=   0.0s\n",
      "[CV 2/5] END .....ccp_alpha=0.02067975830814894;, score=0.562 total time=   0.0s\n",
      "[CV 3/5] END .....ccp_alpha=0.02067975830814894;, score=0.935 total time=   0.0s\n",
      "[CV 4/5] END .....ccp_alpha=0.02067975830814894;, score=0.869 total time=   0.0s\n",
      "[CV 5/5] END .....ccp_alpha=0.02067975830814894;, score=0.830 total time=   0.0s\n",
      "[CV 1/5] END ....ccp_alpha=0.020679758308156496;, score=0.919 total time=   0.0s\n",
      "[CV 2/5] END ....ccp_alpha=0.020679758308156496;, score=0.562 total time=   0.0s\n",
      "[CV 3/5] END ....ccp_alpha=0.020679758308156496;, score=0.935 total time=   0.0s\n",
      "[CV 4/5] END ....ccp_alpha=0.020679758308156496;, score=0.869 total time=   0.0s\n",
      "[CV 5/5] END ....ccp_alpha=0.020679758308156496;, score=0.830 total time=   0.0s\n",
      "[CV 1/5] END ....ccp_alpha=0.021170418202159643;, score=0.919 total time=   0.0s\n",
      "[CV 2/5] END ....ccp_alpha=0.021170418202159643;, score=0.562 total time=   0.0s\n",
      "[CV 3/5] END ....ccp_alpha=0.021170418202159643;, score=0.935 total time=   0.0s\n",
      "[CV 4/5] END ....ccp_alpha=0.021170418202159643;, score=0.869 total time=   0.0s\n",
      "[CV 5/5] END ....ccp_alpha=0.021170418202159643;, score=0.830 total time=   0.0s\n",
      "[CV 1/5] END .....ccp_alpha=0.02272155085599188;, score=0.919 total time=   0.0s\n",
      "[CV 2/5] END .....ccp_alpha=0.02272155085599188;, score=0.564 total time=   0.0s\n",
      "[CV 3/5] END .....ccp_alpha=0.02272155085599188;, score=0.935 total time=   0.0s\n",
      "[CV 4/5] END .....ccp_alpha=0.02272155085599188;, score=0.869 total time=   0.0s\n",
      "[CV 5/5] END .....ccp_alpha=0.02272155085599188;, score=0.830 total time=   0.0s\n",
      "[CV 1/5] END ......ccp_alpha=0.0229061765693153;, score=0.919 total time=   0.0s\n",
      "[CV 2/5] END ......ccp_alpha=0.0229061765693153;, score=0.564 total time=   0.0s\n",
      "[CV 3/5] END ......ccp_alpha=0.0229061765693153;, score=0.935 total time=   0.0s\n",
      "[CV 4/5] END ......ccp_alpha=0.0229061765693153;, score=0.869 total time=   0.0s\n",
      "[CV 5/5] END ......ccp_alpha=0.0229061765693153;, score=0.830 total time=   0.0s\n",
      "[CV 1/5] END .....ccp_alpha=0.02297750923136209;, score=0.919 total time=   0.0s\n",
      "[CV 2/5] END .....ccp_alpha=0.02297750923136209;, score=0.564 total time=   0.0s\n",
      "[CV 3/5] END .....ccp_alpha=0.02297750923136209;, score=0.935 total time=   0.0s\n",
      "[CV 4/5] END .....ccp_alpha=0.02297750923136209;, score=0.869 total time=   0.0s\n",
      "[CV 5/5] END .....ccp_alpha=0.02297750923136209;, score=0.830 total time=   0.0s\n",
      "[CV 1/5] END ....ccp_alpha=0.025392749244711535;, score=0.920 total time=   0.0s\n",
      "[CV 2/5] END ....ccp_alpha=0.025392749244711535;, score=0.564 total time=   0.0s\n",
      "[CV 3/5] END ....ccp_alpha=0.025392749244711535;, score=0.934 total time=   0.0s\n",
      "[CV 4/5] END ....ccp_alpha=0.025392749244711535;, score=0.869 total time=   0.0s\n",
      "[CV 5/5] END ....ccp_alpha=0.025392749244711535;, score=0.831 total time=   0.0s\n",
      "[CV 1/5] END ....ccp_alpha=0.026832829808667476;, score=0.920 total time=   0.0s\n",
      "[CV 2/5] END ....ccp_alpha=0.026832829808667476;, score=0.564 total time=   0.0s\n",
      "[CV 3/5] END ....ccp_alpha=0.026832829808667476;, score=0.932 total time=   0.0s\n",
      "[CV 4/5] END ....ccp_alpha=0.026832829808667476;, score=0.869 total time=   0.0s\n",
      "[CV 5/5] END ....ccp_alpha=0.026832829808667476;, score=0.830 total time=   0.0s\n",
      "[CV 1/5] END ....ccp_alpha=0.028631419939576283;, score=0.920 total time=   0.0s\n",
      "[CV 2/5] END ....ccp_alpha=0.028631419939576283;, score=0.564 total time=   0.0s\n",
      "[CV 3/5] END ....ccp_alpha=0.028631419939576283;, score=0.932 total time=   0.0s\n",
      "[CV 4/5] END ....ccp_alpha=0.028631419939576283;, score=0.869 total time=   0.0s\n",
      "[CV 5/5] END ....ccp_alpha=0.028631419939576283;, score=0.831 total time=   0.0s\n",
      "[CV 1/5] END .....ccp_alpha=0.02991188318228084;, score=0.920 total time=   0.0s\n",
      "[CV 2/5] END .....ccp_alpha=0.02991188318228084;, score=0.564 total time=   0.0s\n",
      "[CV 3/5] END .....ccp_alpha=0.02991188318228084;, score=0.933 total time=   0.0s\n",
      "[CV 4/5] END .....ccp_alpha=0.02991188318228084;, score=0.869 total time=   0.0s\n",
      "[CV 5/5] END .....ccp_alpha=0.02991188318228084;, score=0.831 total time=   0.0s\n",
      "[CV 1/5] END ....ccp_alpha=0.031963746223565424;, score=0.919 total time=   0.0s\n",
      "[CV 2/5] END ....ccp_alpha=0.031963746223565424;, score=0.564 total time=   0.0s\n",
      "[CV 3/5] END ....ccp_alpha=0.031963746223565424;, score=0.933 total time=   0.0s\n",
      "[CV 4/5] END ....ccp_alpha=0.031963746223565424;, score=0.869 total time=   0.0s\n",
      "[CV 5/5] END ....ccp_alpha=0.031963746223565424;, score=0.830 total time=   0.0s\n",
      "[CV 1/5] END .....ccp_alpha=0.03196374622357023;, score=0.919 total time=   0.0s\n",
      "[CV 2/5] END .....ccp_alpha=0.03196374622357023;, score=0.564 total time=   0.0s\n",
      "[CV 3/5] END .....ccp_alpha=0.03196374622357023;, score=0.933 total time=   0.0s\n",
      "[CV 4/5] END .....ccp_alpha=0.03196374622357023;, score=0.869 total time=   0.0s\n",
      "[CV 5/5] END .....ccp_alpha=0.03196374622357023;, score=0.830 total time=   0.0s\n",
      "[CV 1/5] END .....ccp_alpha=0.03214753272909286;, score=0.919 total time=   0.0s\n",
      "[CV 2/5] END .....ccp_alpha=0.03214753272909286;, score=0.564 total time=   0.0s\n",
      "[CV 3/5] END .....ccp_alpha=0.03214753272909286;, score=0.933 total time=   0.0s\n",
      "[CV 4/5] END .....ccp_alpha=0.03214753272909286;, score=0.869 total time=   0.0s\n",
      "[CV 5/5] END .....ccp_alpha=0.03214753272909286;, score=0.830 total time=   0.0s\n",
      "[CV 1/5] END .....ccp_alpha=0.03265505598008619;, score=0.919 total time=   0.0s\n",
      "[CV 2/5] END .....ccp_alpha=0.03265505598008619;, score=0.564 total time=   0.0s\n",
      "[CV 3/5] END .....ccp_alpha=0.03265505598008619;, score=0.933 total time=   0.0s\n",
      "[CV 4/5] END .....ccp_alpha=0.03265505598008619;, score=0.869 total time=   0.0s\n",
      "[CV 5/5] END .....ccp_alpha=0.03265505598008619;, score=0.830 total time=   0.0s\n",
      "[CV 1/5] END ....ccp_alpha=0.032665156092650055;, score=0.919 total time=   0.0s\n",
      "[CV 2/5] END ....ccp_alpha=0.032665156092650055;, score=0.564 total time=   0.0s\n",
      "[CV 3/5] END ....ccp_alpha=0.032665156092650055;, score=0.933 total time=   0.0s\n",
      "[CV 4/5] END ....ccp_alpha=0.032665156092650055;, score=0.869 total time=   0.0s\n",
      "[CV 5/5] END ....ccp_alpha=0.032665156092650055;, score=0.830 total time=   0.0s\n",
      "[CV 1/5] END .....ccp_alpha=0.03329556898288749;, score=0.919 total time=   0.0s\n",
      "[CV 2/5] END .....ccp_alpha=0.03329556898288749;, score=0.564 total time=   0.0s\n",
      "[CV 3/5] END .....ccp_alpha=0.03329556898288749;, score=0.933 total time=   0.0s\n",
      "[CV 4/5] END .....ccp_alpha=0.03329556898288749;, score=0.869 total time=   0.0s\n",
      "[CV 5/5] END .....ccp_alpha=0.03329556898288749;, score=0.830 total time=   0.0s\n",
      "[CV 1/5] END ....ccp_alpha=0.035091353762049235;, score=0.920 total time=   0.0s\n",
      "[CV 2/5] END ....ccp_alpha=0.035091353762049235;, score=0.565 total time=   0.0s\n",
      "[CV 3/5] END ....ccp_alpha=0.035091353762049235;, score=0.926 total time=   0.0s\n",
      "[CV 4/5] END ....ccp_alpha=0.035091353762049235;, score=0.867 total time=   0.0s\n",
      "[CV 5/5] END ....ccp_alpha=0.035091353762049235;, score=0.830 total time=   0.0s\n",
      "[CV 1/5] END .....ccp_alpha=0.03621416582741658;, score=0.919 total time=   0.0s\n",
      "[CV 2/5] END .....ccp_alpha=0.03621416582741658;, score=0.563 total time=   0.0s\n",
      "[CV 3/5] END .....ccp_alpha=0.03621416582741658;, score=0.926 total time=   0.0s\n",
      "[CV 4/5] END .....ccp_alpha=0.03621416582741658;, score=0.867 total time=   0.0s\n",
      "[CV 5/5] END .....ccp_alpha=0.03621416582741658;, score=0.830 total time=   0.0s\n",
      "[CV 1/5] END .....ccp_alpha=0.04190936555891139;, score=0.919 total time=   0.0s\n",
      "[CV 2/5] END .....ccp_alpha=0.04190936555891139;, score=0.561 total time=   0.0s\n",
      "[CV 3/5] END .....ccp_alpha=0.04190936555891139;, score=0.927 total time=   0.0s\n",
      "[CV 4/5] END .....ccp_alpha=0.04190936555891139;, score=0.868 total time=   0.0s\n",
      "[CV 5/5] END .....ccp_alpha=0.04190936555891139;, score=0.829 total time=   0.0s\n",
      "[CV 1/5] END ....ccp_alpha=0.053247734138967315;, score=0.916 total time=   0.0s\n",
      "[CV 2/5] END ....ccp_alpha=0.053247734138967315;, score=0.558 total time=   0.0s\n",
      "[CV 3/5] END ....ccp_alpha=0.053247734138967315;, score=0.932 total time=   0.0s\n",
      "[CV 4/5] END ....ccp_alpha=0.053247734138967315;, score=0.867 total time=   0.0s\n",
      "[CV 5/5] END ....ccp_alpha=0.053247734138967315;, score=0.829 total time=   0.0s\n",
      "[CV 1/5] END .....ccp_alpha=0.05629078549844169;, score=0.916 total time=   0.0s\n",
      "[CV 2/5] END .....ccp_alpha=0.05629078549844169;, score=0.558 total time=   0.0s\n",
      "[CV 3/5] END .....ccp_alpha=0.05629078549844169;, score=0.932 total time=   0.0s\n",
      "[CV 4/5] END .....ccp_alpha=0.05629078549844169;, score=0.867 total time=   0.0s\n",
      "[CV 5/5] END .....ccp_alpha=0.05629078549844169;, score=0.829 total time=   0.0s\n",
      "[CV 1/5] END ......ccp_alpha=0.0670685323580977;, score=0.924 total time=   0.0s\n",
      "[CV 2/5] END ......ccp_alpha=0.0670685323580977;, score=0.557 total time=   0.0s\n",
      "[CV 3/5] END ......ccp_alpha=0.0670685323580977;, score=0.934 total time=   0.0s\n",
      "[CV 4/5] END ......ccp_alpha=0.0670685323580977;, score=0.867 total time=   0.0s\n",
      "[CV 5/5] END ......ccp_alpha=0.0670685323580977;, score=0.829 total time=   0.0s\n",
      "[CV 1/5] END .....ccp_alpha=0.06954242724279448;, score=0.924 total time=   0.0s\n",
      "[CV 2/5] END .....ccp_alpha=0.06954242724279448;, score=0.557 total time=   0.0s\n",
      "[CV 3/5] END .....ccp_alpha=0.06954242724279448;, score=0.938 total time=   0.0s\n",
      "[CV 4/5] END .....ccp_alpha=0.06954242724279448;, score=0.867 total time=   0.0s\n",
      "[CV 5/5] END .....ccp_alpha=0.06954242724279448;, score=0.829 total time=   0.0s\n",
      "[CV 1/5] END .....ccp_alpha=0.07415334885329171;, score=0.923 total time=   0.0s\n",
      "[CV 2/5] END .....ccp_alpha=0.07415334885329171;, score=0.557 total time=   0.0s\n",
      "[CV 3/5] END .....ccp_alpha=0.07415334885329171;, score=0.938 total time=   0.0s\n",
      "[CV 4/5] END .....ccp_alpha=0.07415334885329171;, score=0.867 total time=   0.0s\n",
      "[CV 5/5] END .....ccp_alpha=0.07415334885329171;, score=0.829 total time=   0.0s\n",
      "[CV 1/5] END .....ccp_alpha=0.07549582793842771;, score=0.923 total time=   0.0s\n",
      "[CV 2/5] END .....ccp_alpha=0.07549582793842771;, score=0.556 total time=   0.0s\n",
      "[CV 3/5] END .....ccp_alpha=0.07549582793842771;, score=0.938 total time=   0.0s\n",
      "[CV 4/5] END .....ccp_alpha=0.07549582793842771;, score=0.867 total time=   0.0s\n",
      "[CV 5/5] END .....ccp_alpha=0.07549582793842771;, score=0.830 total time=   0.0s\n",
      "[CV 1/5] END .....ccp_alpha=0.07617824773413528;, score=0.923 total time=   0.0s\n",
      "[CV 2/5] END .....ccp_alpha=0.07617824773413528;, score=0.556 total time=   0.0s\n",
      "[CV 3/5] END .....ccp_alpha=0.07617824773413528;, score=0.938 total time=   0.0s\n",
      "[CV 4/5] END .....ccp_alpha=0.07617824773413528;, score=0.867 total time=   0.0s\n",
      "[CV 5/5] END .....ccp_alpha=0.07617824773413528;, score=0.830 total time=   0.0s\n",
      "[CV 1/5] END .....ccp_alpha=0.07767409365561748;, score=0.923 total time=   0.0s\n",
      "[CV 2/5] END .....ccp_alpha=0.07767409365561748;, score=0.556 total time=   0.0s\n",
      "[CV 3/5] END .....ccp_alpha=0.07767409365561748;, score=0.938 total time=   0.0s\n",
      "[CV 4/5] END .....ccp_alpha=0.07767409365561748;, score=0.867 total time=   0.0s\n",
      "[CV 5/5] END .....ccp_alpha=0.07767409365561748;, score=0.830 total time=   0.0s\n",
      "[CV 1/5] END ......ccp_alpha=0.0783081570997352;, score=0.923 total time=   0.0s\n",
      "[CV 2/5] END ......ccp_alpha=0.0783081570997352;, score=0.557 total time=   0.0s\n",
      "[CV 3/5] END ......ccp_alpha=0.0783081570997352;, score=0.938 total time=   0.0s\n",
      "[CV 4/5] END ......ccp_alpha=0.0783081570997352;, score=0.867 total time=   0.0s\n",
      "[CV 5/5] END ......ccp_alpha=0.0783081570997352;, score=0.830 total time=   0.0s\n",
      "[CV 1/5] END .....ccp_alpha=0.07909449479687522;, score=0.923 total time=   0.0s\n",
      "[CV 2/5] END .....ccp_alpha=0.07909449479687522;, score=0.557 total time=   0.0s\n",
      "[CV 3/5] END .....ccp_alpha=0.07909449479687522;, score=0.938 total time=   0.0s\n",
      "[CV 4/5] END .....ccp_alpha=0.07909449479687522;, score=0.867 total time=   0.0s\n",
      "[CV 5/5] END .....ccp_alpha=0.07909449479687522;, score=0.830 total time=   0.0s\n",
      "[CV 1/5] END .....ccp_alpha=0.08122457200400435;, score=0.920 total time=   0.0s\n",
      "[CV 2/5] END .....ccp_alpha=0.08122457200400435;, score=0.557 total time=   0.0s\n",
      "[CV 3/5] END .....ccp_alpha=0.08122457200400435;, score=0.938 total time=   0.0s\n",
      "[CV 4/5] END .....ccp_alpha=0.08122457200400435;, score=0.867 total time=   0.0s\n",
      "[CV 5/5] END .....ccp_alpha=0.08122457200400435;, score=0.830 total time=   0.0s\n",
      "[CV 1/5] END .....ccp_alpha=0.08410976837866495;, score=0.920 total time=   0.0s\n",
      "[CV 2/5] END .....ccp_alpha=0.08410976837866495;, score=0.557 total time=   0.0s\n",
      "[CV 3/5] END .....ccp_alpha=0.08410976837866495;, score=0.936 total time=   0.0s\n",
      "[CV 4/5] END .....ccp_alpha=0.08410976837866495;, score=0.867 total time=   0.0s\n",
      "[CV 5/5] END .....ccp_alpha=0.08410976837866495;, score=0.830 total time=   0.0s\n",
      "[CV 1/5] END .....ccp_alpha=0.08462739174217233;, score=0.920 total time=   0.0s\n",
      "[CV 2/5] END .....ccp_alpha=0.08462739174217233;, score=0.557 total time=   0.0s\n",
      "[CV 3/5] END .....ccp_alpha=0.08462739174217233;, score=0.936 total time=   0.0s\n",
      "[CV 4/5] END .....ccp_alpha=0.08462739174217233;, score=0.867 total time=   0.0s\n",
      "[CV 5/5] END .....ccp_alpha=0.08462739174217233;, score=0.830 total time=   0.0s\n",
      "[CV 1/5] END ......ccp_alpha=0.0870090634441087;, score=0.920 total time=   0.0s\n",
      "[CV 2/5] END ......ccp_alpha=0.0870090634441087;, score=0.556 total time=   0.0s\n",
      "[CV 3/5] END ......ccp_alpha=0.0870090634441087;, score=0.936 total time=   0.0s\n",
      "[CV 4/5] END ......ccp_alpha=0.0870090634441087;, score=0.867 total time=   0.0s\n",
      "[CV 5/5] END ......ccp_alpha=0.0870090634441087;, score=0.828 total time=   0.0s\n",
      "[CV 1/5] END .....ccp_alpha=0.08783163965943663;, score=0.920 total time=   0.0s\n",
      "[CV 2/5] END .....ccp_alpha=0.08783163965943663;, score=0.556 total time=   0.0s\n",
      "[CV 3/5] END .....ccp_alpha=0.08783163965943663;, score=0.936 total time=   0.0s\n",
      "[CV 4/5] END .....ccp_alpha=0.08783163965943663;, score=0.867 total time=   0.0s\n",
      "[CV 5/5] END .....ccp_alpha=0.08783163965943663;, score=0.828 total time=   0.0s\n",
      "[CV 1/5] END .....ccp_alpha=0.08977788638115858;, score=0.920 total time=   0.0s\n",
      "[CV 2/5] END .....ccp_alpha=0.08977788638115858;, score=0.556 total time=   0.0s\n",
      "[CV 3/5] END .....ccp_alpha=0.08977788638115858;, score=0.936 total time=   0.0s\n",
      "[CV 4/5] END .....ccp_alpha=0.08977788638115858;, score=0.867 total time=   0.0s\n",
      "[CV 5/5] END .....ccp_alpha=0.08977788638115858;, score=0.828 total time=   0.0s\n",
      "[CV 1/5] END .....ccp_alpha=0.09359925359871579;, score=0.920 total time=   0.0s\n",
      "[CV 2/5] END .....ccp_alpha=0.09359925359871579;, score=0.556 total time=   0.0s\n",
      "[CV 3/5] END .....ccp_alpha=0.09359925359871579;, score=0.936 total time=   0.0s\n",
      "[CV 4/5] END .....ccp_alpha=0.09359925359871579;, score=0.867 total time=   0.0s\n",
      "[CV 5/5] END .....ccp_alpha=0.09359925359871579;, score=0.828 total time=   0.0s\n",
      "[CV 1/5] END .....ccp_alpha=0.09516616314198706;, score=0.920 total time=   0.0s\n",
      "[CV 2/5] END .....ccp_alpha=0.09516616314198706;, score=0.556 total time=   0.0s\n",
      "[CV 3/5] END .....ccp_alpha=0.09516616314198706;, score=0.936 total time=   0.0s\n",
      "[CV 4/5] END .....ccp_alpha=0.09516616314198706;, score=0.867 total time=   0.0s\n",
      "[CV 5/5] END .....ccp_alpha=0.09516616314198706;, score=0.828 total time=   0.0s\n",
      "[CV 1/5] END .....ccp_alpha=0.10033610271904259;, score=0.920 total time=   0.0s\n",
      "[CV 2/5] END .....ccp_alpha=0.10033610271904259;, score=0.559 total time=   0.0s\n",
      "[CV 3/5] END .....ccp_alpha=0.10033610271904259;, score=0.936 total time=   0.0s\n",
      "[CV 4/5] END .....ccp_alpha=0.10033610271904259;, score=0.867 total time=   0.0s\n",
      "[CV 5/5] END .....ccp_alpha=0.10033610271904259;, score=0.828 total time=   0.0s\n",
      "[CV 1/5] END .....ccp_alpha=0.10211833713186563;, score=0.920 total time=   0.0s\n",
      "[CV 2/5] END .....ccp_alpha=0.10211833713186563;, score=0.559 total time=   0.0s\n",
      "[CV 3/5] END .....ccp_alpha=0.10211833713186563;, score=0.936 total time=   0.0s\n",
      "[CV 4/5] END .....ccp_alpha=0.10211833713186563;, score=0.867 total time=   0.0s\n",
      "[CV 5/5] END .....ccp_alpha=0.10211833713186563;, score=0.828 total time=   0.0s\n",
      "[CV 1/5] END .....ccp_alpha=0.11024580357433976;, score=0.918 total time=   0.0s\n",
      "[CV 2/5] END .....ccp_alpha=0.11024580357433976;, score=0.559 total time=   0.0s\n",
      "[CV 3/5] END .....ccp_alpha=0.11024580357433976;, score=0.934 total time=   0.0s\n",
      "[CV 4/5] END .....ccp_alpha=0.11024580357433976;, score=0.866 total time=   0.0s\n",
      "[CV 5/5] END .....ccp_alpha=0.11024580357433976;, score=0.830 total time=   0.0s\n",
      "[CV 1/5] END .....ccp_alpha=0.11178751258817417;, score=0.918 total time=   0.0s\n",
      "[CV 2/5] END .....ccp_alpha=0.11178751258817417;, score=0.559 total time=   0.0s\n",
      "[CV 3/5] END .....ccp_alpha=0.11178751258817417;, score=0.935 total time=   0.0s\n",
      "[CV 4/5] END .....ccp_alpha=0.11178751258817417;, score=0.866 total time=   0.0s\n",
      "[CV 5/5] END .....ccp_alpha=0.11178751258817417;, score=0.830 total time=   0.0s\n",
      "[CV 1/5] END .....ccp_alpha=0.12034586936094094;, score=0.914 total time=   0.0s\n",
      "[CV 2/5] END .....ccp_alpha=0.12034586936094094;, score=0.562 total time=   0.0s\n",
      "[CV 3/5] END .....ccp_alpha=0.12034586936094094;, score=0.935 total time=   0.0s\n",
      "[CV 4/5] END .....ccp_alpha=0.12034586936094094;, score=0.880 total time=   0.0s\n",
      "[CV 5/5] END .....ccp_alpha=0.12034586936094094;, score=0.834 total time=   0.0s\n",
      "[CV 1/5] END .....ccp_alpha=0.12417589795236751;, score=0.914 total time=   0.0s\n",
      "[CV 2/5] END .....ccp_alpha=0.12417589795236751;, score=0.568 total time=   0.0s\n",
      "[CV 3/5] END .....ccp_alpha=0.12417589795236751;, score=0.935 total time=   0.0s\n",
      "[CV 4/5] END .....ccp_alpha=0.12417589795236751;, score=0.880 total time=   0.0s\n",
      "[CV 5/5] END .....ccp_alpha=0.12417589795236751;, score=0.832 total time=   0.0s\n",
      "[CV 1/5] END .....ccp_alpha=0.12739627391742375;, score=0.914 total time=   0.0s\n",
      "[CV 2/5] END .....ccp_alpha=0.12739627391742375;, score=0.568 total time=   0.0s\n",
      "[CV 3/5] END .....ccp_alpha=0.12739627391742375;, score=0.935 total time=   0.0s\n",
      "[CV 4/5] END .....ccp_alpha=0.12739627391742375;, score=0.880 total time=   0.0s\n",
      "[CV 5/5] END .....ccp_alpha=0.12739627391742375;, score=0.832 total time=   0.0s\n",
      "[CV 1/5] END .....ccp_alpha=0.12761761624297238;, score=0.914 total time=   0.0s\n",
      "[CV 2/5] END .....ccp_alpha=0.12761761624297238;, score=0.568 total time=   0.0s\n",
      "[CV 3/5] END .....ccp_alpha=0.12761761624297238;, score=0.935 total time=   0.0s\n",
      "[CV 4/5] END .....ccp_alpha=0.12761761624297238;, score=0.880 total time=   0.0s\n",
      "[CV 5/5] END .....ccp_alpha=0.12761761624297238;, score=0.832 total time=   0.0s\n",
      "[CV 1/5] END ......ccp_alpha=0.1308284659281805;, score=0.914 total time=   0.0s\n",
      "[CV 2/5] END ......ccp_alpha=0.1308284659281805;, score=0.568 total time=   0.0s\n",
      "[CV 3/5] END ......ccp_alpha=0.1308284659281805;, score=0.935 total time=   0.0s\n",
      "[CV 4/5] END ......ccp_alpha=0.1308284659281805;, score=0.880 total time=   0.0s\n",
      "[CV 5/5] END ......ccp_alpha=0.1308284659281805;, score=0.832 total time=   0.0s\n",
      "[CV 1/5] END ......ccp_alpha=0.1717029592171561;, score=0.915 total time=   0.0s\n",
      "[CV 2/5] END ......ccp_alpha=0.1717029592171561;, score=0.580 total time=   0.0s\n",
      "[CV 3/5] END ......ccp_alpha=0.1717029592171561;, score=0.940 total time=   0.0s\n",
      "[CV 4/5] END ......ccp_alpha=0.1717029592171561;, score=0.883 total time=   0.0s\n",
      "[CV 5/5] END ......ccp_alpha=0.1717029592171561;, score=0.832 total time=   0.0s\n",
      "[CV 1/5] END .....ccp_alpha=0.19634322035614765;, score=0.915 total time=   0.0s\n",
      "[CV 2/5] END .....ccp_alpha=0.19634322035614765;, score=0.589 total time=   0.0s\n",
      "[CV 3/5] END .....ccp_alpha=0.19634322035614765;, score=0.941 total time=   0.0s\n",
      "[CV 4/5] END .....ccp_alpha=0.19634322035614765;, score=0.883 total time=   0.0s\n",
      "[CV 5/5] END .....ccp_alpha=0.19634322035614765;, score=0.832 total time=   0.0s\n",
      "[CV 1/5] END .....ccp_alpha=0.24491291985079647;, score=0.916 total time=   0.0s\n",
      "[CV 2/5] END .....ccp_alpha=0.24491291985079647;, score=0.584 total time=   0.0s\n",
      "[CV 3/5] END .....ccp_alpha=0.24491291985079647;, score=0.940 total time=   0.0s\n",
      "[CV 4/5] END .....ccp_alpha=0.24491291985079647;, score=0.893 total time=   0.0s\n",
      "[CV 5/5] END .....ccp_alpha=0.24491291985079647;, score=0.832 total time=   0.0s\n",
      "[CV 1/5] END ......ccp_alpha=0.2835471142827375;, score=0.916 total time=   0.0s\n",
      "[CV 2/5] END ......ccp_alpha=0.2835471142827375;, score=0.584 total time=   0.0s\n",
      "[CV 3/5] END ......ccp_alpha=0.2835471142827375;, score=0.935 total time=   0.0s\n",
      "[CV 4/5] END ......ccp_alpha=0.2835471142827375;, score=0.907 total time=   0.0s\n",
      "[CV 5/5] END ......ccp_alpha=0.2835471142827375;, score=0.833 total time=   0.0s\n",
      "[CV 1/5] END .....ccp_alpha=0.36030337361534376;, score=0.913 total time=   0.0s\n",
      "[CV 2/5] END .....ccp_alpha=0.36030337361534376;, score=0.584 total time=   0.0s\n",
      "[CV 3/5] END .....ccp_alpha=0.36030337361534376;, score=0.935 total time=   0.0s\n",
      "[CV 4/5] END .....ccp_alpha=0.36030337361534376;, score=0.915 total time=   0.0s\n",
      "[CV 5/5] END .....ccp_alpha=0.36030337361534376;, score=0.829 total time=   0.0s\n",
      "[CV 1/5] END .....ccp_alpha=0.42403385918626846;, score=0.913 total time=   0.0s\n",
      "[CV 2/5] END .....ccp_alpha=0.42403385918626846;, score=0.583 total time=   0.0s\n",
      "[CV 3/5] END .....ccp_alpha=0.42403385918626846;, score=0.935 total time=   0.0s\n",
      "[CV 4/5] END .....ccp_alpha=0.42403385918626846;, score=0.944 total time=   0.0s\n",
      "[CV 5/5] END .....ccp_alpha=0.42403385918626846;, score=0.826 total time=   0.0s\n",
      "[CV 1/5] END ......ccp_alpha=0.6528354154414222;, score=0.916 total time=   0.0s\n",
      "[CV 2/5] END ......ccp_alpha=0.6528354154414222;, score=0.588 total time=   0.0s\n",
      "[CV 3/5] END ......ccp_alpha=0.6528354154414222;, score=0.936 total time=   0.0s\n",
      "[CV 4/5] END ......ccp_alpha=0.6528354154414222;, score=0.944 total time=   0.0s\n",
      "[CV 5/5] END ......ccp_alpha=0.6528354154414222;, score=0.844 total time=   0.0s\n",
      "[CV 1/5] END ......ccp_alpha=1.0331131657857249;, score=0.892 total time=   0.0s\n",
      "[CV 2/5] END ......ccp_alpha=1.0331131657857249;, score=0.584 total time=   0.0s\n",
      "[CV 3/5] END ......ccp_alpha=1.0331131657857249;, score=0.936 total time=   0.0s\n",
      "[CV 4/5] END ......ccp_alpha=1.0331131657857249;, score=0.943 total time=   0.0s\n",
      "[CV 5/5] END ......ccp_alpha=1.0331131657857249;, score=0.792 total time=   0.0s\n",
      "[CV 1/5] END ......ccp_alpha=1.4795380097927529;, score=0.879 total time=   0.0s\n",
      "[CV 2/5] END ......ccp_alpha=1.4795380097927529;, score=0.584 total time=   0.0s\n",
      "[CV 3/5] END ......ccp_alpha=1.4795380097927529;, score=0.920 total time=   0.0s\n",
      "[CV 4/5] END ......ccp_alpha=1.4795380097927529;, score=0.931 total time=   0.0s\n",
      "[CV 5/5] END ......ccp_alpha=1.4795380097927529;, score=0.775 total time=   0.0s\n",
      "[CV 1/5] END ......ccp_alpha=1.9663783884298076;, score=0.873 total time=   0.0s\n",
      "[CV 2/5] END ......ccp_alpha=1.9663783884298076;, score=0.576 total time=   0.0s\n",
      "[CV 3/5] END ......ccp_alpha=1.9663783884298076;, score=0.920 total time=   0.0s\n",
      "[CV 4/5] END ......ccp_alpha=1.9663783884298076;, score=0.918 total time=   0.0s\n",
      "[CV 5/5] END ......ccp_alpha=1.9663783884298076;, score=0.774 total time=   0.0s\n",
      "[CV 1/5] END ......ccp_alpha=3.3770394809118054;, score=0.873 total time=   0.0s\n",
      "[CV 2/5] END ......ccp_alpha=3.3770394809118054;, score=0.547 total time=   0.0s\n",
      "[CV 3/5] END ......ccp_alpha=3.3770394809118054;, score=0.877 total time=   0.0s\n",
      "[CV 4/5] END ......ccp_alpha=3.3770394809118054;, score=0.918 total time=   0.0s\n",
      "[CV 5/5] END ......ccp_alpha=3.3770394809118054;, score=0.766 total time=   0.0s\n",
      "[CV 1/5] END .......ccp_alpha=8.344740894243973;, score=0.751 total time=   0.0s\n",
      "[CV 2/5] END .......ccp_alpha=8.344740894243973;, score=0.547 total time=   0.0s\n",
      "[CV 3/5] END .......ccp_alpha=8.344740894243973;, score=0.832 total time=   0.0s\n",
      "[CV 4/5] END .......ccp_alpha=8.344740894243973;, score=0.909 total time=   0.0s\n",
      "[CV 5/5] END .......ccp_alpha=8.344740894243973;, score=0.653 total time=   0.0s\n",
      "[CV 1/5] END .......ccp_alpha=9.221164408926558;, score=0.751 total time=   0.0s\n",
      "[CV 2/5] END .......ccp_alpha=9.221164408926558;, score=0.496 total time=   0.0s\n",
      "[CV 3/5] END .......ccp_alpha=9.221164408926558;, score=0.832 total time=   0.0s\n",
      "[CV 4/5] END .......ccp_alpha=9.221164408926558;, score=0.792 total time=   0.0s\n",
      "[CV 5/5] END .......ccp_alpha=9.221164408926558;, score=0.653 total time=   0.0s\n",
      "[CV 1/5] END ......ccp_alpha=10.555072576528834;, score=0.676 total time=   0.0s\n",
      "[CV 2/5] END ......ccp_alpha=10.555072576528834;, score=0.496 total time=   0.0s\n",
      "[CV 3/5] END ......ccp_alpha=10.555072576528834;, score=0.832 total time=   0.0s\n",
      "[CV 4/5] END ......ccp_alpha=10.555072576528834;, score=0.792 total time=   0.0s\n",
      "[CV 5/5] END ......ccp_alpha=10.555072576528834;, score=0.653 total time=   0.0s\n",
      "[CV 1/5] END ......ccp_alpha=28.545349061249635;, score=0.674 total time=   0.0s\n",
      "[CV 2/5] END ......ccp_alpha=28.545349061249635;, score=0.615 total time=   0.0s\n",
      "[CV 3/5] END ......ccp_alpha=28.545349061249635;, score=0.765 total time=   0.0s\n",
      "[CV 4/5] END ......ccp_alpha=28.545349061249635;, score=0.617 total time=   0.0s\n",
      "[CV 5/5] END ......ccp_alpha=28.545349061249635;, score=0.514 total time=   0.0s\n",
      "[CV 1/5] END ......ccp_alpha=113.37251289651009;, score=0.590 total time=   0.0s\n",
      "[CV 2/5] END ......ccp_alpha=113.37251289651009;, score=0.615 total time=   0.0s\n",
      "[CV 3/5] END ......ccp_alpha=113.37251289651009;, score=0.665 total time=   0.0s\n",
      "[CV 4/5] END .....ccp_alpha=113.37251289651009;, score=-0.015 total time=   0.0s\n",
      "[CV 5/5] END .....ccp_alpha=113.37251289651009;, score=-0.020 total time=   0.0s\n"
     ]
    },
    {
     "data": {
      "text/html": [
       "<style>#sk-container-id-12 {color: black;background-color: white;}#sk-container-id-12 pre{padding: 0;}#sk-container-id-12 div.sk-toggleable {background-color: white;}#sk-container-id-12 label.sk-toggleable__label {cursor: pointer;display: block;width: 100%;margin-bottom: 0;padding: 0.3em;box-sizing: border-box;text-align: center;}#sk-container-id-12 label.sk-toggleable__label-arrow:before {content: \"▸\";float: left;margin-right: 0.25em;color: #696969;}#sk-container-id-12 label.sk-toggleable__label-arrow:hover:before {color: black;}#sk-container-id-12 div.sk-estimator:hover label.sk-toggleable__label-arrow:before {color: black;}#sk-container-id-12 div.sk-toggleable__content {max-height: 0;max-width: 0;overflow: hidden;text-align: left;background-color: #f0f8ff;}#sk-container-id-12 div.sk-toggleable__content pre {margin: 0.2em;color: black;border-radius: 0.25em;background-color: #f0f8ff;}#sk-container-id-12 input.sk-toggleable__control:checked~div.sk-toggleable__content {max-height: 200px;max-width: 100%;overflow: auto;}#sk-container-id-12 input.sk-toggleable__control:checked~label.sk-toggleable__label-arrow:before {content: \"▾\";}#sk-container-id-12 div.sk-estimator input.sk-toggleable__control:checked~label.sk-toggleable__label {background-color: #d4ebff;}#sk-container-id-12 div.sk-label input.sk-toggleable__control:checked~label.sk-toggleable__label {background-color: #d4ebff;}#sk-container-id-12 input.sk-hidden--visually {border: 0;clip: rect(1px 1px 1px 1px);clip: rect(1px, 1px, 1px, 1px);height: 1px;margin: -1px;overflow: hidden;padding: 0;position: absolute;width: 1px;}#sk-container-id-12 div.sk-estimator {font-family: monospace;background-color: #f0f8ff;border: 1px dotted black;border-radius: 0.25em;box-sizing: border-box;margin-bottom: 0.5em;}#sk-container-id-12 div.sk-estimator:hover {background-color: #d4ebff;}#sk-container-id-12 div.sk-parallel-item::after {content: \"\";width: 100%;border-bottom: 1px solid gray;flex-grow: 1;}#sk-container-id-12 div.sk-label:hover label.sk-toggleable__label {background-color: #d4ebff;}#sk-container-id-12 div.sk-serial::before {content: \"\";position: absolute;border-left: 1px solid gray;box-sizing: border-box;top: 0;bottom: 0;left: 50%;z-index: 0;}#sk-container-id-12 div.sk-serial {display: flex;flex-direction: column;align-items: center;background-color: white;padding-right: 0.2em;padding-left: 0.2em;position: relative;}#sk-container-id-12 div.sk-item {position: relative;z-index: 1;}#sk-container-id-12 div.sk-parallel {display: flex;align-items: stretch;justify-content: center;background-color: white;position: relative;}#sk-container-id-12 div.sk-item::before, #sk-container-id-12 div.sk-parallel-item::before {content: \"\";position: absolute;border-left: 1px solid gray;box-sizing: border-box;top: 0;bottom: 0;left: 50%;z-index: -1;}#sk-container-id-12 div.sk-parallel-item {display: flex;flex-direction: column;z-index: 1;position: relative;background-color: white;}#sk-container-id-12 div.sk-parallel-item:first-child::after {align-self: flex-end;width: 50%;}#sk-container-id-12 div.sk-parallel-item:last-child::after {align-self: flex-start;width: 50%;}#sk-container-id-12 div.sk-parallel-item:only-child::after {width: 0;}#sk-container-id-12 div.sk-dashed-wrapped {border: 1px dashed gray;margin: 0 0.4em 0.5em 0.4em;box-sizing: border-box;padding-bottom: 0.4em;background-color: white;}#sk-container-id-12 div.sk-label label {font-family: monospace;font-weight: bold;display: inline-block;line-height: 1.2em;}#sk-container-id-12 div.sk-label-container {text-align: center;}#sk-container-id-12 div.sk-container {/* jupyter's `normalize.less` sets `[hidden] { display: none; }` but bootstrap.min.css set `[hidden] { display: none !important; }` so we also need the `!important` here to be able to override the default hidden behavior on the sphinx rendered scikit-learn.org. See: https://github.com/scikit-learn/scikit-learn/issues/21755 */display: inline-block !important;position: relative;}#sk-container-id-12 div.sk-text-repr-fallback {display: none;}</style><div id=\"sk-container-id-12\" class=\"sk-top-container\"><div class=\"sk-text-repr-fallback\"><pre>GridSearchCV(cv=5, estimator=DecisionTreeRegressor(random_state=42),\n",
       "             param_grid={&#x27;ccp_alpha&#x27;: array([0.00000000e+00, 1.03039430e-15, 1.37385907e-15, 2.74771813e-15,\n",
       "       1.51057402e-05, 1.51057402e-05, 1.51057402e-05, 1.51057402e-05,\n",
       "       1.51057402e-05, 1.51057402e-05, 1.51057402e-05, 1.51057402e-05,\n",
       "       1.51057402e-05, 1.51057402e-05, 1.51057402e-05, 1.51057402e-05,\n",
       "       1.51057402e-...\n",
       "       1.00336103e-01, 1.02118337e-01, 1.10245804e-01, 1.11787513e-01,\n",
       "       1.20345869e-01, 1.24175898e-01, 1.27396274e-01, 1.27617616e-01,\n",
       "       1.30828466e-01, 1.71702959e-01, 1.96343220e-01, 2.44912920e-01,\n",
       "       2.83547114e-01, 3.60303374e-01, 4.24033859e-01, 6.52835415e-01,\n",
       "       1.03311317e+00, 1.47953801e+00, 1.96637839e+00, 3.37703948e+00,\n",
       "       8.34474089e+00, 9.22116441e+00, 1.05550726e+01, 2.85453491e+01,\n",
       "       1.13372513e+02])},\n",
       "             scoring=&#x27;r2&#x27;, verbose=3)</pre><b>In a Jupyter environment, please rerun this cell to show the HTML representation or trust the notebook. <br />On GitHub, the HTML representation is unable to render, please try loading this page with nbviewer.org.</b></div><div class=\"sk-container\" hidden><div class=\"sk-item sk-dashed-wrapped\"><div class=\"sk-label-container\"><div class=\"sk-label sk-toggleable\"><input class=\"sk-toggleable__control sk-hidden--visually\" id=\"sk-estimator-id-16\" type=\"checkbox\" ><label for=\"sk-estimator-id-16\" class=\"sk-toggleable__label sk-toggleable__label-arrow\">GridSearchCV</label><div class=\"sk-toggleable__content\"><pre>GridSearchCV(cv=5, estimator=DecisionTreeRegressor(random_state=42),\n",
       "             param_grid={&#x27;ccp_alpha&#x27;: array([0.00000000e+00, 1.03039430e-15, 1.37385907e-15, 2.74771813e-15,\n",
       "       1.51057402e-05, 1.51057402e-05, 1.51057402e-05, 1.51057402e-05,\n",
       "       1.51057402e-05, 1.51057402e-05, 1.51057402e-05, 1.51057402e-05,\n",
       "       1.51057402e-05, 1.51057402e-05, 1.51057402e-05, 1.51057402e-05,\n",
       "       1.51057402e-...\n",
       "       1.00336103e-01, 1.02118337e-01, 1.10245804e-01, 1.11787513e-01,\n",
       "       1.20345869e-01, 1.24175898e-01, 1.27396274e-01, 1.27617616e-01,\n",
       "       1.30828466e-01, 1.71702959e-01, 1.96343220e-01, 2.44912920e-01,\n",
       "       2.83547114e-01, 3.60303374e-01, 4.24033859e-01, 6.52835415e-01,\n",
       "       1.03311317e+00, 1.47953801e+00, 1.96637839e+00, 3.37703948e+00,\n",
       "       8.34474089e+00, 9.22116441e+00, 1.05550726e+01, 2.85453491e+01,\n",
       "       1.13372513e+02])},\n",
       "             scoring=&#x27;r2&#x27;, verbose=3)</pre></div></div></div><div class=\"sk-parallel\"><div class=\"sk-parallel-item\"><div class=\"sk-item\"><div class=\"sk-label-container\"><div class=\"sk-label sk-toggleable\"><input class=\"sk-toggleable__control sk-hidden--visually\" id=\"sk-estimator-id-17\" type=\"checkbox\" ><label for=\"sk-estimator-id-17\" class=\"sk-toggleable__label sk-toggleable__label-arrow\">estimator: DecisionTreeRegressor</label><div class=\"sk-toggleable__content\"><pre>DecisionTreeRegressor(random_state=42)</pre></div></div></div><div class=\"sk-serial\"><div class=\"sk-item\"><div class=\"sk-estimator sk-toggleable\"><input class=\"sk-toggleable__control sk-hidden--visually\" id=\"sk-estimator-id-18\" type=\"checkbox\" ><label for=\"sk-estimator-id-18\" class=\"sk-toggleable__label sk-toggleable__label-arrow\">DecisionTreeRegressor</label><div class=\"sk-toggleable__content\"><pre>DecisionTreeRegressor(random_state=42)</pre></div></div></div></div></div></div></div></div></div></div>"
      ],
      "text/plain": [
       "GridSearchCV(cv=5, estimator=DecisionTreeRegressor(random_state=42),\n",
       "             param_grid={'ccp_alpha': array([0.00000000e+00, 1.03039430e-15, 1.37385907e-15, 2.74771813e-15,\n",
       "       1.51057402e-05, 1.51057402e-05, 1.51057402e-05, 1.51057402e-05,\n",
       "       1.51057402e-05, 1.51057402e-05, 1.51057402e-05, 1.51057402e-05,\n",
       "       1.51057402e-05, 1.51057402e-05, 1.51057402e-05, 1.51057402e-05,\n",
       "       1.51057402e-...\n",
       "       1.00336103e-01, 1.02118337e-01, 1.10245804e-01, 1.11787513e-01,\n",
       "       1.20345869e-01, 1.24175898e-01, 1.27396274e-01, 1.27617616e-01,\n",
       "       1.30828466e-01, 1.71702959e-01, 1.96343220e-01, 2.44912920e-01,\n",
       "       2.83547114e-01, 3.60303374e-01, 4.24033859e-01, 6.52835415e-01,\n",
       "       1.03311317e+00, 1.47953801e+00, 1.96637839e+00, 3.37703948e+00,\n",
       "       8.34474089e+00, 9.22116441e+00, 1.05550726e+01, 2.85453491e+01,\n",
       "       1.13372513e+02])},\n",
       "             scoring='r2', verbose=3)"
      ]
     },
     "execution_count": 304,
     "metadata": {},
     "output_type": "execute_result"
    }
   ],
   "source": [
    "grid_dt.fit(X_train,y_train)"
   ]
  },
  {
   "cell_type": "code",
   "execution_count": 305,
   "id": "23d81dd3",
   "metadata": {},
   "outputs": [
    {
     "data": {
      "text/plain": [
       "0.9243871867990883"
      ]
     },
     "execution_count": 305,
     "metadata": {},
     "output_type": "execute_result"
    }
   ],
   "source": [
    "cross_val_score(grid_dt.best_estimator_,X_test,y_test,cv=10,scoring='r2').mean()"
   ]
  },
  {
   "cell_type": "code",
   "execution_count": 306,
   "id": "6e730196",
   "metadata": {},
   "outputs": [
    {
     "data": {
      "text/plain": [
       "0.8220314464921857"
      ]
     },
     "execution_count": 306,
     "metadata": {},
     "output_type": "execute_result"
    }
   ],
   "source": [
    "cross_val_score(grid_dt.best_estimator_,X_train,y_train,cv=10,scoring='r2').mean()"
   ]
  },
  {
   "cell_type": "markdown",
   "id": "596bc13e",
   "metadata": {},
   "source": [
    "# Random Forest Regressor\n",
    "\n",
    "This is a bagging ensemble method.The model trains the n decision tree parallelly by giving a subset of the total data set as training data for each decision tree .This reduces the overfitting nature of decision tree"
   ]
  },
  {
   "cell_type": "code",
   "execution_count": 307,
   "id": "2fb76cd4",
   "metadata": {},
   "outputs": [],
   "source": [
    "from sklearn.ensemble import RandomForestRegressor\n",
    "rfr=RandomForestRegressor(random_state=42)"
   ]
  },
  {
   "cell_type": "code",
   "execution_count": 308,
   "id": "1b79ccf4",
   "metadata": {},
   "outputs": [
    {
     "data": {
      "text/html": [
       "<style>#sk-container-id-13 {color: black;background-color: white;}#sk-container-id-13 pre{padding: 0;}#sk-container-id-13 div.sk-toggleable {background-color: white;}#sk-container-id-13 label.sk-toggleable__label {cursor: pointer;display: block;width: 100%;margin-bottom: 0;padding: 0.3em;box-sizing: border-box;text-align: center;}#sk-container-id-13 label.sk-toggleable__label-arrow:before {content: \"▸\";float: left;margin-right: 0.25em;color: #696969;}#sk-container-id-13 label.sk-toggleable__label-arrow:hover:before {color: black;}#sk-container-id-13 div.sk-estimator:hover label.sk-toggleable__label-arrow:before {color: black;}#sk-container-id-13 div.sk-toggleable__content {max-height: 0;max-width: 0;overflow: hidden;text-align: left;background-color: #f0f8ff;}#sk-container-id-13 div.sk-toggleable__content pre {margin: 0.2em;color: black;border-radius: 0.25em;background-color: #f0f8ff;}#sk-container-id-13 input.sk-toggleable__control:checked~div.sk-toggleable__content {max-height: 200px;max-width: 100%;overflow: auto;}#sk-container-id-13 input.sk-toggleable__control:checked~label.sk-toggleable__label-arrow:before {content: \"▾\";}#sk-container-id-13 div.sk-estimator input.sk-toggleable__control:checked~label.sk-toggleable__label {background-color: #d4ebff;}#sk-container-id-13 div.sk-label input.sk-toggleable__control:checked~label.sk-toggleable__label {background-color: #d4ebff;}#sk-container-id-13 input.sk-hidden--visually {border: 0;clip: rect(1px 1px 1px 1px);clip: rect(1px, 1px, 1px, 1px);height: 1px;margin: -1px;overflow: hidden;padding: 0;position: absolute;width: 1px;}#sk-container-id-13 div.sk-estimator {font-family: monospace;background-color: #f0f8ff;border: 1px dotted black;border-radius: 0.25em;box-sizing: border-box;margin-bottom: 0.5em;}#sk-container-id-13 div.sk-estimator:hover {background-color: #d4ebff;}#sk-container-id-13 div.sk-parallel-item::after {content: \"\";width: 100%;border-bottom: 1px solid gray;flex-grow: 1;}#sk-container-id-13 div.sk-label:hover label.sk-toggleable__label {background-color: #d4ebff;}#sk-container-id-13 div.sk-serial::before {content: \"\";position: absolute;border-left: 1px solid gray;box-sizing: border-box;top: 0;bottom: 0;left: 50%;z-index: 0;}#sk-container-id-13 div.sk-serial {display: flex;flex-direction: column;align-items: center;background-color: white;padding-right: 0.2em;padding-left: 0.2em;position: relative;}#sk-container-id-13 div.sk-item {position: relative;z-index: 1;}#sk-container-id-13 div.sk-parallel {display: flex;align-items: stretch;justify-content: center;background-color: white;position: relative;}#sk-container-id-13 div.sk-item::before, #sk-container-id-13 div.sk-parallel-item::before {content: \"\";position: absolute;border-left: 1px solid gray;box-sizing: border-box;top: 0;bottom: 0;left: 50%;z-index: -1;}#sk-container-id-13 div.sk-parallel-item {display: flex;flex-direction: column;z-index: 1;position: relative;background-color: white;}#sk-container-id-13 div.sk-parallel-item:first-child::after {align-self: flex-end;width: 50%;}#sk-container-id-13 div.sk-parallel-item:last-child::after {align-self: flex-start;width: 50%;}#sk-container-id-13 div.sk-parallel-item:only-child::after {width: 0;}#sk-container-id-13 div.sk-dashed-wrapped {border: 1px dashed gray;margin: 0 0.4em 0.5em 0.4em;box-sizing: border-box;padding-bottom: 0.4em;background-color: white;}#sk-container-id-13 div.sk-label label {font-family: monospace;font-weight: bold;display: inline-block;line-height: 1.2em;}#sk-container-id-13 div.sk-label-container {text-align: center;}#sk-container-id-13 div.sk-container {/* jupyter's `normalize.less` sets `[hidden] { display: none; }` but bootstrap.min.css set `[hidden] { display: none !important; }` so we also need the `!important` here to be able to override the default hidden behavior on the sphinx rendered scikit-learn.org. See: https://github.com/scikit-learn/scikit-learn/issues/21755 */display: inline-block !important;position: relative;}#sk-container-id-13 div.sk-text-repr-fallback {display: none;}</style><div id=\"sk-container-id-13\" class=\"sk-top-container\"><div class=\"sk-text-repr-fallback\"><pre>RandomForestRegressor(random_state=42)</pre><b>In a Jupyter environment, please rerun this cell to show the HTML representation or trust the notebook. <br />On GitHub, the HTML representation is unable to render, please try loading this page with nbviewer.org.</b></div><div class=\"sk-container\" hidden><div class=\"sk-item\"><div class=\"sk-estimator sk-toggleable\"><input class=\"sk-toggleable__control sk-hidden--visually\" id=\"sk-estimator-id-19\" type=\"checkbox\" checked><label for=\"sk-estimator-id-19\" class=\"sk-toggleable__label sk-toggleable__label-arrow\">RandomForestRegressor</label><div class=\"sk-toggleable__content\"><pre>RandomForestRegressor(random_state=42)</pre></div></div></div></div></div>"
      ],
      "text/plain": [
       "RandomForestRegressor(random_state=42)"
      ]
     },
     "execution_count": 308,
     "metadata": {},
     "output_type": "execute_result"
    }
   ],
   "source": [
    "rfr.fit(X_train,y_train)"
   ]
  },
  {
   "cell_type": "code",
   "execution_count": 309,
   "id": "6b32fb0a",
   "metadata": {},
   "outputs": [
    {
     "data": {
      "text/plain": [
       "0.9303110035991334"
      ]
     },
     "execution_count": 309,
     "metadata": {},
     "output_type": "execute_result"
    }
   ],
   "source": [
    "cross_val_score(rfr,X_test,y_test,cv=10,scoring='r2').mean()"
   ]
  },
  {
   "cell_type": "code",
   "execution_count": 310,
   "id": "02b71749",
   "metadata": {},
   "outputs": [
    {
     "data": {
      "text/plain": [
       "0.9133203081937487"
      ]
     },
     "execution_count": 310,
     "metadata": {},
     "output_type": "execute_result"
    }
   ],
   "source": [
    "cross_val_score(rfr,X_train,y_train,cv=10,scoring='r2').mean()"
   ]
  },
  {
   "cell_type": "markdown",
   "id": "6abb2e68",
   "metadata": {},
   "source": [
    "# Bagging Regressor\n",
    "\n",
    "This is a ensemble method which works on parallel learning"
   ]
  },
  {
   "cell_type": "code",
   "execution_count": 311,
   "id": "567e9c9f",
   "metadata": {},
   "outputs": [],
   "source": [
    "from sklearn.ensemble import BaggingRegressor\n",
    "bgr=BaggingRegressor(base_estimator=dt)"
   ]
  },
  {
   "cell_type": "code",
   "execution_count": 313,
   "id": "60e29cab",
   "metadata": {},
   "outputs": [
    {
     "data": {
      "text/plain": [
       "0.9281681424787592"
      ]
     },
     "execution_count": 313,
     "metadata": {},
     "output_type": "execute_result"
    }
   ],
   "source": [
    "cross_val_score(bgr,X_test,y_test,cv=10,scoring='r2').mean()"
   ]
  },
  {
   "cell_type": "code",
   "execution_count": 314,
   "id": "e3af3d23",
   "metadata": {},
   "outputs": [
    {
     "data": {
      "text/plain": [
       "0.9127316598377568"
      ]
     },
     "execution_count": 314,
     "metadata": {},
     "output_type": "execute_result"
    }
   ],
   "source": [
    "cross_val_score(bgr,X_train,y_train,cv=10,scoring='r2').mean()"
   ]
  },
  {
   "cell_type": "markdown",
   "id": "702d6d14",
   "metadata": {},
   "source": [
    "# Gradient Boosting\n",
    "\n",
    "This is a Boosting method which works on sequential learning.In this method first a base model makes a prediction which is generally 0.5  or the average of the training data Then the features and the error is sent to the decision tree for training."
   ]
  },
  {
   "cell_type": "code",
   "execution_count": 315,
   "id": "edb116f1",
   "metadata": {},
   "outputs": [],
   "source": [
    "from sklearn.ensemble import GradientBoostingRegressor\n",
    "gbr=GradientBoostingRegressor(random_state=\n",
    "                             42)"
   ]
  },
  {
   "cell_type": "code",
   "execution_count": 316,
   "id": "1672640c",
   "metadata": {},
   "outputs": [
    {
     "data": {
      "text/html": [
       "<style>#sk-container-id-14 {color: black;background-color: white;}#sk-container-id-14 pre{padding: 0;}#sk-container-id-14 div.sk-toggleable {background-color: white;}#sk-container-id-14 label.sk-toggleable__label {cursor: pointer;display: block;width: 100%;margin-bottom: 0;padding: 0.3em;box-sizing: border-box;text-align: center;}#sk-container-id-14 label.sk-toggleable__label-arrow:before {content: \"▸\";float: left;margin-right: 0.25em;color: #696969;}#sk-container-id-14 label.sk-toggleable__label-arrow:hover:before {color: black;}#sk-container-id-14 div.sk-estimator:hover label.sk-toggleable__label-arrow:before {color: black;}#sk-container-id-14 div.sk-toggleable__content {max-height: 0;max-width: 0;overflow: hidden;text-align: left;background-color: #f0f8ff;}#sk-container-id-14 div.sk-toggleable__content pre {margin: 0.2em;color: black;border-radius: 0.25em;background-color: #f0f8ff;}#sk-container-id-14 input.sk-toggleable__control:checked~div.sk-toggleable__content {max-height: 200px;max-width: 100%;overflow: auto;}#sk-container-id-14 input.sk-toggleable__control:checked~label.sk-toggleable__label-arrow:before {content: \"▾\";}#sk-container-id-14 div.sk-estimator input.sk-toggleable__control:checked~label.sk-toggleable__label {background-color: #d4ebff;}#sk-container-id-14 div.sk-label input.sk-toggleable__control:checked~label.sk-toggleable__label {background-color: #d4ebff;}#sk-container-id-14 input.sk-hidden--visually {border: 0;clip: rect(1px 1px 1px 1px);clip: rect(1px, 1px, 1px, 1px);height: 1px;margin: -1px;overflow: hidden;padding: 0;position: absolute;width: 1px;}#sk-container-id-14 div.sk-estimator {font-family: monospace;background-color: #f0f8ff;border: 1px dotted black;border-radius: 0.25em;box-sizing: border-box;margin-bottom: 0.5em;}#sk-container-id-14 div.sk-estimator:hover {background-color: #d4ebff;}#sk-container-id-14 div.sk-parallel-item::after {content: \"\";width: 100%;border-bottom: 1px solid gray;flex-grow: 1;}#sk-container-id-14 div.sk-label:hover label.sk-toggleable__label {background-color: #d4ebff;}#sk-container-id-14 div.sk-serial::before {content: \"\";position: absolute;border-left: 1px solid gray;box-sizing: border-box;top: 0;bottom: 0;left: 50%;z-index: 0;}#sk-container-id-14 div.sk-serial {display: flex;flex-direction: column;align-items: center;background-color: white;padding-right: 0.2em;padding-left: 0.2em;position: relative;}#sk-container-id-14 div.sk-item {position: relative;z-index: 1;}#sk-container-id-14 div.sk-parallel {display: flex;align-items: stretch;justify-content: center;background-color: white;position: relative;}#sk-container-id-14 div.sk-item::before, #sk-container-id-14 div.sk-parallel-item::before {content: \"\";position: absolute;border-left: 1px solid gray;box-sizing: border-box;top: 0;bottom: 0;left: 50%;z-index: -1;}#sk-container-id-14 div.sk-parallel-item {display: flex;flex-direction: column;z-index: 1;position: relative;background-color: white;}#sk-container-id-14 div.sk-parallel-item:first-child::after {align-self: flex-end;width: 50%;}#sk-container-id-14 div.sk-parallel-item:last-child::after {align-self: flex-start;width: 50%;}#sk-container-id-14 div.sk-parallel-item:only-child::after {width: 0;}#sk-container-id-14 div.sk-dashed-wrapped {border: 1px dashed gray;margin: 0 0.4em 0.5em 0.4em;box-sizing: border-box;padding-bottom: 0.4em;background-color: white;}#sk-container-id-14 div.sk-label label {font-family: monospace;font-weight: bold;display: inline-block;line-height: 1.2em;}#sk-container-id-14 div.sk-label-container {text-align: center;}#sk-container-id-14 div.sk-container {/* jupyter's `normalize.less` sets `[hidden] { display: none; }` but bootstrap.min.css set `[hidden] { display: none !important; }` so we also need the `!important` here to be able to override the default hidden behavior on the sphinx rendered scikit-learn.org. See: https://github.com/scikit-learn/scikit-learn/issues/21755 */display: inline-block !important;position: relative;}#sk-container-id-14 div.sk-text-repr-fallback {display: none;}</style><div id=\"sk-container-id-14\" class=\"sk-top-container\"><div class=\"sk-text-repr-fallback\"><pre>GradientBoostingRegressor(random_state=42)</pre><b>In a Jupyter environment, please rerun this cell to show the HTML representation or trust the notebook. <br />On GitHub, the HTML representation is unable to render, please try loading this page with nbviewer.org.</b></div><div class=\"sk-container\" hidden><div class=\"sk-item\"><div class=\"sk-estimator sk-toggleable\"><input class=\"sk-toggleable__control sk-hidden--visually\" id=\"sk-estimator-id-20\" type=\"checkbox\" checked><label for=\"sk-estimator-id-20\" class=\"sk-toggleable__label sk-toggleable__label-arrow\">GradientBoostingRegressor</label><div class=\"sk-toggleable__content\"><pre>GradientBoostingRegressor(random_state=42)</pre></div></div></div></div></div>"
      ],
      "text/plain": [
       "GradientBoostingRegressor(random_state=42)"
      ]
     },
     "execution_count": 316,
     "metadata": {},
     "output_type": "execute_result"
    }
   ],
   "source": [
    "gbr.fit(X_train,y_train)"
   ]
  },
  {
   "cell_type": "code",
   "execution_count": 317,
   "id": "d4d31d86",
   "metadata": {},
   "outputs": [
    {
     "data": {
      "text/plain": [
       "0.9305150193101079"
      ]
     },
     "execution_count": 317,
     "metadata": {},
     "output_type": "execute_result"
    }
   ],
   "source": [
    "cross_val_score(gbr,X_test,y_test,cv=10,scoring='r2').mean()"
   ]
  },
  {
   "cell_type": "code",
   "execution_count": 318,
   "id": "6da0136c",
   "metadata": {},
   "outputs": [
    {
     "data": {
      "text/plain": [
       "0.916502842047457"
      ]
     },
     "execution_count": 318,
     "metadata": {},
     "output_type": "execute_result"
    }
   ],
   "source": [
    "cross_val_score(gbr,X_train,y_train,cv=10,scoring='r2').mean()"
   ]
  },
  {
   "cell_type": "markdown",
   "id": "df0e1908",
   "metadata": {},
   "source": [
    "# Voting Regressor"
   ]
  },
  {
   "cell_type": "code",
   "execution_count": 319,
   "id": "8bf5abee",
   "metadata": {},
   "outputs": [],
   "source": [
    "from sklearn.ensemble import VotingRegressor\n",
    "est=[('rfr',rfr),('gbr',gbr)]\n",
    "vr=VotingRegressor(estimators=est)"
   ]
  },
  {
   "cell_type": "code",
   "execution_count": 320,
   "id": "f7becaf4",
   "metadata": {},
   "outputs": [
    {
     "data": {
      "text/html": [
       "<style>#sk-container-id-15 {color: black;background-color: white;}#sk-container-id-15 pre{padding: 0;}#sk-container-id-15 div.sk-toggleable {background-color: white;}#sk-container-id-15 label.sk-toggleable__label {cursor: pointer;display: block;width: 100%;margin-bottom: 0;padding: 0.3em;box-sizing: border-box;text-align: center;}#sk-container-id-15 label.sk-toggleable__label-arrow:before {content: \"▸\";float: left;margin-right: 0.25em;color: #696969;}#sk-container-id-15 label.sk-toggleable__label-arrow:hover:before {color: black;}#sk-container-id-15 div.sk-estimator:hover label.sk-toggleable__label-arrow:before {color: black;}#sk-container-id-15 div.sk-toggleable__content {max-height: 0;max-width: 0;overflow: hidden;text-align: left;background-color: #f0f8ff;}#sk-container-id-15 div.sk-toggleable__content pre {margin: 0.2em;color: black;border-radius: 0.25em;background-color: #f0f8ff;}#sk-container-id-15 input.sk-toggleable__control:checked~div.sk-toggleable__content {max-height: 200px;max-width: 100%;overflow: auto;}#sk-container-id-15 input.sk-toggleable__control:checked~label.sk-toggleable__label-arrow:before {content: \"▾\";}#sk-container-id-15 div.sk-estimator input.sk-toggleable__control:checked~label.sk-toggleable__label {background-color: #d4ebff;}#sk-container-id-15 div.sk-label input.sk-toggleable__control:checked~label.sk-toggleable__label {background-color: #d4ebff;}#sk-container-id-15 input.sk-hidden--visually {border: 0;clip: rect(1px 1px 1px 1px);clip: rect(1px, 1px, 1px, 1px);height: 1px;margin: -1px;overflow: hidden;padding: 0;position: absolute;width: 1px;}#sk-container-id-15 div.sk-estimator {font-family: monospace;background-color: #f0f8ff;border: 1px dotted black;border-radius: 0.25em;box-sizing: border-box;margin-bottom: 0.5em;}#sk-container-id-15 div.sk-estimator:hover {background-color: #d4ebff;}#sk-container-id-15 div.sk-parallel-item::after {content: \"\";width: 100%;border-bottom: 1px solid gray;flex-grow: 1;}#sk-container-id-15 div.sk-label:hover label.sk-toggleable__label {background-color: #d4ebff;}#sk-container-id-15 div.sk-serial::before {content: \"\";position: absolute;border-left: 1px solid gray;box-sizing: border-box;top: 0;bottom: 0;left: 50%;z-index: 0;}#sk-container-id-15 div.sk-serial {display: flex;flex-direction: column;align-items: center;background-color: white;padding-right: 0.2em;padding-left: 0.2em;position: relative;}#sk-container-id-15 div.sk-item {position: relative;z-index: 1;}#sk-container-id-15 div.sk-parallel {display: flex;align-items: stretch;justify-content: center;background-color: white;position: relative;}#sk-container-id-15 div.sk-item::before, #sk-container-id-15 div.sk-parallel-item::before {content: \"\";position: absolute;border-left: 1px solid gray;box-sizing: border-box;top: 0;bottom: 0;left: 50%;z-index: -1;}#sk-container-id-15 div.sk-parallel-item {display: flex;flex-direction: column;z-index: 1;position: relative;background-color: white;}#sk-container-id-15 div.sk-parallel-item:first-child::after {align-self: flex-end;width: 50%;}#sk-container-id-15 div.sk-parallel-item:last-child::after {align-self: flex-start;width: 50%;}#sk-container-id-15 div.sk-parallel-item:only-child::after {width: 0;}#sk-container-id-15 div.sk-dashed-wrapped {border: 1px dashed gray;margin: 0 0.4em 0.5em 0.4em;box-sizing: border-box;padding-bottom: 0.4em;background-color: white;}#sk-container-id-15 div.sk-label label {font-family: monospace;font-weight: bold;display: inline-block;line-height: 1.2em;}#sk-container-id-15 div.sk-label-container {text-align: center;}#sk-container-id-15 div.sk-container {/* jupyter's `normalize.less` sets `[hidden] { display: none; }` but bootstrap.min.css set `[hidden] { display: none !important; }` so we also need the `!important` here to be able to override the default hidden behavior on the sphinx rendered scikit-learn.org. See: https://github.com/scikit-learn/scikit-learn/issues/21755 */display: inline-block !important;position: relative;}#sk-container-id-15 div.sk-text-repr-fallback {display: none;}</style><div id=\"sk-container-id-15\" class=\"sk-top-container\"><div class=\"sk-text-repr-fallback\"><pre>VotingRegressor(estimators=[(&#x27;rfr&#x27;, RandomForestRegressor(random_state=42)),\n",
       "                            (&#x27;gbr&#x27;,\n",
       "                             GradientBoostingRegressor(random_state=42))])</pre><b>In a Jupyter environment, please rerun this cell to show the HTML representation or trust the notebook. <br />On GitHub, the HTML representation is unable to render, please try loading this page with nbviewer.org.</b></div><div class=\"sk-container\" hidden><div class=\"sk-item sk-dashed-wrapped\"><div class=\"sk-label-container\"><div class=\"sk-label sk-toggleable\"><input class=\"sk-toggleable__control sk-hidden--visually\" id=\"sk-estimator-id-21\" type=\"checkbox\" ><label for=\"sk-estimator-id-21\" class=\"sk-toggleable__label sk-toggleable__label-arrow\">VotingRegressor</label><div class=\"sk-toggleable__content\"><pre>VotingRegressor(estimators=[(&#x27;rfr&#x27;, RandomForestRegressor(random_state=42)),\n",
       "                            (&#x27;gbr&#x27;,\n",
       "                             GradientBoostingRegressor(random_state=42))])</pre></div></div></div><div class=\"sk-parallel\"><div class=\"sk-parallel-item\"><div class=\"sk-item\"><div class=\"sk-label-container\"><div class=\"sk-label sk-toggleable\"><label>rfr</label></div></div><div class=\"sk-serial\"><div class=\"sk-item\"><div class=\"sk-estimator sk-toggleable\"><input class=\"sk-toggleable__control sk-hidden--visually\" id=\"sk-estimator-id-22\" type=\"checkbox\" ><label for=\"sk-estimator-id-22\" class=\"sk-toggleable__label sk-toggleable__label-arrow\">RandomForestRegressor</label><div class=\"sk-toggleable__content\"><pre>RandomForestRegressor(random_state=42)</pre></div></div></div></div></div></div><div class=\"sk-parallel-item\"><div class=\"sk-item\"><div class=\"sk-label-container\"><div class=\"sk-label sk-toggleable\"><label>gbr</label></div></div><div class=\"sk-serial\"><div class=\"sk-item\"><div class=\"sk-estimator sk-toggleable\"><input class=\"sk-toggleable__control sk-hidden--visually\" id=\"sk-estimator-id-23\" type=\"checkbox\" ><label for=\"sk-estimator-id-23\" class=\"sk-toggleable__label sk-toggleable__label-arrow\">GradientBoostingRegressor</label><div class=\"sk-toggleable__content\"><pre>GradientBoostingRegressor(random_state=42)</pre></div></div></div></div></div></div></div></div></div></div>"
      ],
      "text/plain": [
       "VotingRegressor(estimators=[('rfr', RandomForestRegressor(random_state=42)),\n",
       "                            ('gbr',\n",
       "                             GradientBoostingRegressor(random_state=42))])"
      ]
     },
     "execution_count": 320,
     "metadata": {},
     "output_type": "execute_result"
    }
   ],
   "source": [
    "vr.fit(X_train,y_train)"
   ]
  },
  {
   "cell_type": "code",
   "execution_count": 321,
   "id": "af9a9492",
   "metadata": {},
   "outputs": [
    {
     "data": {
      "text/plain": [
       "0.9318312286993405"
      ]
     },
     "execution_count": 321,
     "metadata": {},
     "output_type": "execute_result"
    }
   ],
   "source": [
    "cross_val_score(vr,X_test,y_test,cv=10,scoring='r2').mean()"
   ]
  },
  {
   "cell_type": "code",
   "execution_count": 322,
   "id": "b0b04140",
   "metadata": {},
   "outputs": [
    {
     "data": {
      "text/plain": [
       "0.9172504057095912"
      ]
     },
     "execution_count": 322,
     "metadata": {},
     "output_type": "execute_result"
    }
   ],
   "source": [
    "cross_val_score(vr,X_train,y_train,cv=10,scoring='r2').mean()"
   ]
  },
  {
   "cell_type": "markdown",
   "id": "e4da13f3",
   "metadata": {},
   "source": [
    "# Ada Boost Regressor\n",
    "\n",
    "This is a also a Boosting ensemble method which trains the model sequentially.In this method we take a decision stump as the base model.A decision stump is decision tree with max depth of 1 that is only two root nodes.First equal weights are assigned to each data points.After the first prediction is done by the first decision stump the total error is calculated by adding the weights of the incorrect point and the performance of the stump is calculated.After calculation new weights are assigned to each data point (The incorrect data point has its weight increased whereas the correct the data point  the weights are decreased."
   ]
  },
  {
   "cell_type": "code",
   "execution_count": 324,
   "id": "a2209666",
   "metadata": {},
   "outputs": [],
   "source": [
    "from sklearn.ensemble import AdaBoostRegressor\n",
    "ada=AdaBoostRegressor(random_state=42)"
   ]
  },
  {
   "cell_type": "code",
   "execution_count": 325,
   "id": "04400d21",
   "metadata": {},
   "outputs": [
    {
     "data": {
      "text/html": [
       "<style>#sk-container-id-16 {color: black;background-color: white;}#sk-container-id-16 pre{padding: 0;}#sk-container-id-16 div.sk-toggleable {background-color: white;}#sk-container-id-16 label.sk-toggleable__label {cursor: pointer;display: block;width: 100%;margin-bottom: 0;padding: 0.3em;box-sizing: border-box;text-align: center;}#sk-container-id-16 label.sk-toggleable__label-arrow:before {content: \"▸\";float: left;margin-right: 0.25em;color: #696969;}#sk-container-id-16 label.sk-toggleable__label-arrow:hover:before {color: black;}#sk-container-id-16 div.sk-estimator:hover label.sk-toggleable__label-arrow:before {color: black;}#sk-container-id-16 div.sk-toggleable__content {max-height: 0;max-width: 0;overflow: hidden;text-align: left;background-color: #f0f8ff;}#sk-container-id-16 div.sk-toggleable__content pre {margin: 0.2em;color: black;border-radius: 0.25em;background-color: #f0f8ff;}#sk-container-id-16 input.sk-toggleable__control:checked~div.sk-toggleable__content {max-height: 200px;max-width: 100%;overflow: auto;}#sk-container-id-16 input.sk-toggleable__control:checked~label.sk-toggleable__label-arrow:before {content: \"▾\";}#sk-container-id-16 div.sk-estimator input.sk-toggleable__control:checked~label.sk-toggleable__label {background-color: #d4ebff;}#sk-container-id-16 div.sk-label input.sk-toggleable__control:checked~label.sk-toggleable__label {background-color: #d4ebff;}#sk-container-id-16 input.sk-hidden--visually {border: 0;clip: rect(1px 1px 1px 1px);clip: rect(1px, 1px, 1px, 1px);height: 1px;margin: -1px;overflow: hidden;padding: 0;position: absolute;width: 1px;}#sk-container-id-16 div.sk-estimator {font-family: monospace;background-color: #f0f8ff;border: 1px dotted black;border-radius: 0.25em;box-sizing: border-box;margin-bottom: 0.5em;}#sk-container-id-16 div.sk-estimator:hover {background-color: #d4ebff;}#sk-container-id-16 div.sk-parallel-item::after {content: \"\";width: 100%;border-bottom: 1px solid gray;flex-grow: 1;}#sk-container-id-16 div.sk-label:hover label.sk-toggleable__label {background-color: #d4ebff;}#sk-container-id-16 div.sk-serial::before {content: \"\";position: absolute;border-left: 1px solid gray;box-sizing: border-box;top: 0;bottom: 0;left: 50%;z-index: 0;}#sk-container-id-16 div.sk-serial {display: flex;flex-direction: column;align-items: center;background-color: white;padding-right: 0.2em;padding-left: 0.2em;position: relative;}#sk-container-id-16 div.sk-item {position: relative;z-index: 1;}#sk-container-id-16 div.sk-parallel {display: flex;align-items: stretch;justify-content: center;background-color: white;position: relative;}#sk-container-id-16 div.sk-item::before, #sk-container-id-16 div.sk-parallel-item::before {content: \"\";position: absolute;border-left: 1px solid gray;box-sizing: border-box;top: 0;bottom: 0;left: 50%;z-index: -1;}#sk-container-id-16 div.sk-parallel-item {display: flex;flex-direction: column;z-index: 1;position: relative;background-color: white;}#sk-container-id-16 div.sk-parallel-item:first-child::after {align-self: flex-end;width: 50%;}#sk-container-id-16 div.sk-parallel-item:last-child::after {align-self: flex-start;width: 50%;}#sk-container-id-16 div.sk-parallel-item:only-child::after {width: 0;}#sk-container-id-16 div.sk-dashed-wrapped {border: 1px dashed gray;margin: 0 0.4em 0.5em 0.4em;box-sizing: border-box;padding-bottom: 0.4em;background-color: white;}#sk-container-id-16 div.sk-label label {font-family: monospace;font-weight: bold;display: inline-block;line-height: 1.2em;}#sk-container-id-16 div.sk-label-container {text-align: center;}#sk-container-id-16 div.sk-container {/* jupyter's `normalize.less` sets `[hidden] { display: none; }` but bootstrap.min.css set `[hidden] { display: none !important; }` so we also need the `!important` here to be able to override the default hidden behavior on the sphinx rendered scikit-learn.org. See: https://github.com/scikit-learn/scikit-learn/issues/21755 */display: inline-block !important;position: relative;}#sk-container-id-16 div.sk-text-repr-fallback {display: none;}</style><div id=\"sk-container-id-16\" class=\"sk-top-container\"><div class=\"sk-text-repr-fallback\"><pre>AdaBoostRegressor(random_state=42)</pre><b>In a Jupyter environment, please rerun this cell to show the HTML representation or trust the notebook. <br />On GitHub, the HTML representation is unable to render, please try loading this page with nbviewer.org.</b></div><div class=\"sk-container\" hidden><div class=\"sk-item\"><div class=\"sk-estimator sk-toggleable\"><input class=\"sk-toggleable__control sk-hidden--visually\" id=\"sk-estimator-id-24\" type=\"checkbox\" checked><label for=\"sk-estimator-id-24\" class=\"sk-toggleable__label sk-toggleable__label-arrow\">AdaBoostRegressor</label><div class=\"sk-toggleable__content\"><pre>AdaBoostRegressor(random_state=42)</pre></div></div></div></div></div>"
      ],
      "text/plain": [
       "AdaBoostRegressor(random_state=42)"
      ]
     },
     "execution_count": 325,
     "metadata": {},
     "output_type": "execute_result"
    }
   ],
   "source": [
    "ada.fit(X_train,y_train)"
   ]
  },
  {
   "cell_type": "code",
   "execution_count": 326,
   "id": "c83fe3a2",
   "metadata": {},
   "outputs": [
    {
     "data": {
      "text/plain": [
       "0.9438836913524125"
      ]
     },
     "execution_count": 326,
     "metadata": {},
     "output_type": "execute_result"
    }
   ],
   "source": [
    "cross_val_score(ada,X_test,y_test,cv=10,scoring='r2').mean()"
   ]
  },
  {
   "cell_type": "code",
   "execution_count": 327,
   "id": "66637819",
   "metadata": {},
   "outputs": [
    {
     "data": {
      "text/plain": [
       "0.9100657520683892"
      ]
     },
     "execution_count": 327,
     "metadata": {},
     "output_type": "execute_result"
    }
   ],
   "source": [
    "cross_val_score(ada,X_train,y_train,cv=10,scoring='r2').mean()"
   ]
  },
  {
   "cell_type": "markdown",
   "id": "22b64d8c",
   "metadata": {},
   "source": [
    "# So as we can see that ADA boost model performed well among all the model but the problem with Adaboost is that it is sensitive to outliers.The second best model voting regressor (A type of ensemble method) is made of random forest and gradient boosting model(but the issue with gradient boosting is that it is sensitive to outliers and it prone to overfitting easily  where as the random forest has no such issue So according to me the best model is Random forest as it has no disadvantages"
   ]
  },
  {
   "cell_type": "code",
   "execution_count": 330,
   "id": "2b6d716f",
   "metadata": {},
   "outputs": [
    {
     "data": {
      "text/html": [
       "<style>#sk-container-id-17 {color: black;background-color: white;}#sk-container-id-17 pre{padding: 0;}#sk-container-id-17 div.sk-toggleable {background-color: white;}#sk-container-id-17 label.sk-toggleable__label {cursor: pointer;display: block;width: 100%;margin-bottom: 0;padding: 0.3em;box-sizing: border-box;text-align: center;}#sk-container-id-17 label.sk-toggleable__label-arrow:before {content: \"▸\";float: left;margin-right: 0.25em;color: #696969;}#sk-container-id-17 label.sk-toggleable__label-arrow:hover:before {color: black;}#sk-container-id-17 div.sk-estimator:hover label.sk-toggleable__label-arrow:before {color: black;}#sk-container-id-17 div.sk-toggleable__content {max-height: 0;max-width: 0;overflow: hidden;text-align: left;background-color: #f0f8ff;}#sk-container-id-17 div.sk-toggleable__content pre {margin: 0.2em;color: black;border-radius: 0.25em;background-color: #f0f8ff;}#sk-container-id-17 input.sk-toggleable__control:checked~div.sk-toggleable__content {max-height: 200px;max-width: 100%;overflow: auto;}#sk-container-id-17 input.sk-toggleable__control:checked~label.sk-toggleable__label-arrow:before {content: \"▾\";}#sk-container-id-17 div.sk-estimator input.sk-toggleable__control:checked~label.sk-toggleable__label {background-color: #d4ebff;}#sk-container-id-17 div.sk-label input.sk-toggleable__control:checked~label.sk-toggleable__label {background-color: #d4ebff;}#sk-container-id-17 input.sk-hidden--visually {border: 0;clip: rect(1px 1px 1px 1px);clip: rect(1px, 1px, 1px, 1px);height: 1px;margin: -1px;overflow: hidden;padding: 0;position: absolute;width: 1px;}#sk-container-id-17 div.sk-estimator {font-family: monospace;background-color: #f0f8ff;border: 1px dotted black;border-radius: 0.25em;box-sizing: border-box;margin-bottom: 0.5em;}#sk-container-id-17 div.sk-estimator:hover {background-color: #d4ebff;}#sk-container-id-17 div.sk-parallel-item::after {content: \"\";width: 100%;border-bottom: 1px solid gray;flex-grow: 1;}#sk-container-id-17 div.sk-label:hover label.sk-toggleable__label {background-color: #d4ebff;}#sk-container-id-17 div.sk-serial::before {content: \"\";position: absolute;border-left: 1px solid gray;box-sizing: border-box;top: 0;bottom: 0;left: 50%;z-index: 0;}#sk-container-id-17 div.sk-serial {display: flex;flex-direction: column;align-items: center;background-color: white;padding-right: 0.2em;padding-left: 0.2em;position: relative;}#sk-container-id-17 div.sk-item {position: relative;z-index: 1;}#sk-container-id-17 div.sk-parallel {display: flex;align-items: stretch;justify-content: center;background-color: white;position: relative;}#sk-container-id-17 div.sk-item::before, #sk-container-id-17 div.sk-parallel-item::before {content: \"\";position: absolute;border-left: 1px solid gray;box-sizing: border-box;top: 0;bottom: 0;left: 50%;z-index: -1;}#sk-container-id-17 div.sk-parallel-item {display: flex;flex-direction: column;z-index: 1;position: relative;background-color: white;}#sk-container-id-17 div.sk-parallel-item:first-child::after {align-self: flex-end;width: 50%;}#sk-container-id-17 div.sk-parallel-item:last-child::after {align-self: flex-start;width: 50%;}#sk-container-id-17 div.sk-parallel-item:only-child::after {width: 0;}#sk-container-id-17 div.sk-dashed-wrapped {border: 1px dashed gray;margin: 0 0.4em 0.5em 0.4em;box-sizing: border-box;padding-bottom: 0.4em;background-color: white;}#sk-container-id-17 div.sk-label label {font-family: monospace;font-weight: bold;display: inline-block;line-height: 1.2em;}#sk-container-id-17 div.sk-label-container {text-align: center;}#sk-container-id-17 div.sk-container {/* jupyter's `normalize.less` sets `[hidden] { display: none; }` but bootstrap.min.css set `[hidden] { display: none !important; }` so we also need the `!important` here to be able to override the default hidden behavior on the sphinx rendered scikit-learn.org. See: https://github.com/scikit-learn/scikit-learn/issues/21755 */display: inline-block !important;position: relative;}#sk-container-id-17 div.sk-text-repr-fallback {display: none;}</style><div id=\"sk-container-id-17\" class=\"sk-top-container\"><div class=\"sk-text-repr-fallback\"><pre>RandomForestRegressor(random_state=42)</pre><b>In a Jupyter environment, please rerun this cell to show the HTML representation or trust the notebook. <br />On GitHub, the HTML representation is unable to render, please try loading this page with nbviewer.org.</b></div><div class=\"sk-container\" hidden><div class=\"sk-item\"><div class=\"sk-estimator sk-toggleable\"><input class=\"sk-toggleable__control sk-hidden--visually\" id=\"sk-estimator-id-25\" type=\"checkbox\" checked><label for=\"sk-estimator-id-25\" class=\"sk-toggleable__label sk-toggleable__label-arrow\">RandomForestRegressor</label><div class=\"sk-toggleable__content\"><pre>RandomForestRegressor(random_state=42)</pre></div></div></div></div></div>"
      ],
      "text/plain": [
       "RandomForestRegressor(random_state=42)"
      ]
     },
     "execution_count": 330,
     "metadata": {},
     "output_type": "execute_result"
    }
   ],
   "source": [
    "rfr.fit(X_train,y_train)"
   ]
  },
  {
   "cell_type": "code",
   "execution_count": 331,
   "id": "5acf0d24",
   "metadata": {},
   "outputs": [],
   "source": [
    "y_pred=rfr.predict(X_test)"
   ]
  },
  {
   "cell_type": "code",
   "execution_count": 336,
   "id": "2c22efee",
   "metadata": {},
   "outputs": [],
   "source": [
    "ans=y_test.reset_index()\n",
    "ans['predicted_price']=y_pred"
   ]
  },
  {
   "cell_type": "code",
   "execution_count": 338,
   "id": "d2af28cf",
   "metadata": {},
   "outputs": [],
   "source": [
    "ans.rename(columns={'house_price_of_unit_area':'actual_price'},inplace=True)"
   ]
  },
  {
   "cell_type": "code",
   "execution_count": 340,
   "id": "013d3ac7",
   "metadata": {},
   "outputs": [],
   "source": [
    "ans.drop(columns=['index'],inplace=True)"
   ]
  },
  {
   "cell_type": "code",
   "execution_count": 342,
   "id": "b087f493",
   "metadata": {},
   "outputs": [],
   "source": [
    "ans.to_csv('PREDICTION_FOR_TEST_DATA.csv',index=False)"
   ]
  },
  {
   "cell_type": "code",
   "execution_count": null,
   "id": "2f00db32",
   "metadata": {},
   "outputs": [],
   "source": []
  }
 ],
 "metadata": {
  "kernelspec": {
   "display_name": "Python 3 (ipykernel)",
   "language": "python",
   "name": "python3"
  },
  "language_info": {
   "codemirror_mode": {
    "name": "ipython",
    "version": 3
   },
   "file_extension": ".py",
   "mimetype": "text/x-python",
   "name": "python",
   "nbconvert_exporter": "python",
   "pygments_lexer": "ipython3",
   "version": "3.8.15"
  }
 },
 "nbformat": 4,
 "nbformat_minor": 5
}
